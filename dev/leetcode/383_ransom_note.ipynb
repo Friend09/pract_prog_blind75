{
 "cells": [
  {
   "cell_type": "markdown",
   "metadata": {},
   "source": [
    "Given two strings ransomNote and magazine, return true if ransomNote can be constructed by using the letters from magazine and false otherwise.\n",
    "\n",
    "Each letter in magazine can only be used once in ransomNote.\n",
    "\n",
    " \n",
    "\n",
    "Example 1:\n",
    "\n",
    "Input: ransomNote = \"a\", magazine = \"b\"\n",
    "Output: false\n",
    "Example 2:\n",
    "\n",
    "Input: ransomNote = \"aa\", magazine = \"ab\"\n",
    "Output: false\n",
    "Example 3:\n",
    "\n",
    "Input: ransomNote = \"aa\", magazine = \"aab\"\n",
    "Output: true\n",
    " \n",
    "\n",
    "Constraints:\n",
    "\n",
    "1 <= ransomNote.length, magazine.length <= 105\n",
    "ransomNote and magazine consist of lowercase English letters."
   ]
  },
  {
   "cell_type": "code",
   "execution_count": 23,
   "metadata": {},
   "outputs": [
    {
     "data": {
      "text/plain": [
       "True"
      ]
     },
     "execution_count": 23,
     "metadata": {},
     "output_type": "execute_result"
    }
   ],
   "source": [
    "def canConstruct(ransomNote, magazine):\n",
    "    # defind word count dictionaries function\n",
    "    def get_word_count(some_string):\n",
    "        word_dict = dict()\n",
    "        for letter in some_string:\n",
    "            if letter not in word_dict.keys():\n",
    "                word_dict[letter] = 1\n",
    "            else:\n",
    "                word_dict[letter] += 1\n",
    "\n",
    "        return word_dict\n",
    "\n",
    "    # get word dictionaries\n",
    "    rn_dict = get_word_count(ransomNote)\n",
    "    mg_dict = get_word_count(magazine)\n",
    "\n",
    "    # logic to check if mg has enough to get rn\n",
    "    for key in rn_dict:\n",
    "        if key in mg_dict.keys():\n",
    "            if rn_dict[key] > mg_dict[key]:\n",
    "                return False\n",
    "\n",
    "    return True\n",
    "\n",
    "\n",
    "ransomNote = \"aa\"\n",
    "magazine = \"aab\"\n",
    "\n",
    "canConstruct(ransomNote, magazine)"
   ]
  },
  {
   "cell_type": "code",
   "execution_count": 17,
   "metadata": {},
   "outputs": [
    {
     "data": {
      "text/plain": [
       "({'a': 1}, {'b': 1})"
      ]
     },
     "execution_count": 17,
     "metadata": {},
     "output_type": "execute_result"
    }
   ],
   "source": [
    "def get_word_count(some_string):\n",
    "    word_dict = dict()\n",
    "    for letter in some_string:\n",
    "        if letter not in word_dict.keys():\n",
    "            word_dict[letter] = 1\n",
    "        else:\n",
    "            word_dict[letter] += 1\n",
    "    return word_dict\n",
    "\n",
    "\n",
    "# get word dictionaries\n",
    "rn_dict = get_word_count(ransomNote)\n",
    "mg_dict = get_word_count(magazine)\n",
    "\n",
    "rn_dict, mg_dict"
   ]
  },
  {
   "cell_type": "code",
   "execution_count": 19,
   "metadata": {},
   "outputs": [
    {
     "data": {
      "text/plain": [
       "False"
      ]
     },
     "execution_count": 19,
     "metadata": {},
     "output_type": "execute_result"
    }
   ],
   "source": [
    "\"a\" in mg_dict.keys()"
   ]
  }
 ],
 "metadata": {
  "kernelspec": {
   "display_name": ".venv",
   "language": "python",
   "name": "python3"
  },
  "language_info": {
   "codemirror_mode": {
    "name": "ipython",
    "version": 3
   },
   "file_extension": ".py",
   "mimetype": "text/x-python",
   "name": "python",
   "nbconvert_exporter": "python",
   "pygments_lexer": "ipython3",
   "version": "3.11.10"
  }
 },
 "nbformat": 4,
 "nbformat_minor": 2
}
