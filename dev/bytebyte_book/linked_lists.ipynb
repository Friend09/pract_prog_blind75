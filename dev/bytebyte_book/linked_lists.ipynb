{
 "cells": [
  {
   "cell_type": "markdown",
   "metadata": {},
   "source": [
    "# LINKED LISTS\n"
   ]
  },
  {
   "cell_type": "markdown",
   "metadata": {},
   "source": [
    "## CREATE LINKED LIST"
   ]
  },
  {
   "cell_type": "code",
   "execution_count": 32,
   "metadata": {},
   "outputs": [],
   "source": [
    "# class to create linked list\n",
    "class ListNode:\n",
    "    def __init__(self, val=0, next=None):\n",
    "        self.val = val\n",
    "        self.next = next"
   ]
  },
  {
   "cell_type": "code",
   "execution_count": 33,
   "metadata": {},
   "outputs": [],
   "source": [
    "# helper function to create a linked list from a list\n",
    "def create_linked_list(values):\n",
    "    if not values:\n",
    "        return None\n",
    "\n",
    "    # set the head, current node\n",
    "    head = ListNode(values[0])  # eg: [1,2,3,2,1] -> values[0] is 1\n",
    "    curr_node = head  # head (1)\n",
    "\n",
    "    # link the remaining items from list to head\n",
    "    for value in values[1:]:  # 2, 4, 7, 3\n",
    "        curr_node.next = ListNode(value)  # head (1) -> 2\n",
    "        curr_node = curr_node.next  # 2\n",
    "    return head  # 1\n",
    "\n",
    "\n",
    "# (HEAD) 1 -> 2 -> 4 -> 7 -> 3"
   ]
  },
  {
   "cell_type": "code",
   "execution_count": 34,
   "metadata": {},
   "outputs": [],
   "source": [
    "# helper function to print linked list\n",
    "def print_linked_list(head):\n",
    "    current = head\n",
    "    values = []\n",
    "\n",
    "    while current:\n",
    "        values.append(str(current.val))\n",
    "        current = current.next\n",
    "\n",
    "    return \"->\".join(values)"
   ]
  },
  {
   "cell_type": "code",
   "execution_count": 35,
   "metadata": {},
   "outputs": [
    {
     "name": "stdout",
     "output_type": "stream",
     "text": [
      "Original Linked List:\n"
     ]
    },
    {
     "data": {
      "text/plain": [
       "'1->2->4->7->3'"
      ]
     },
     "execution_count": 35,
     "metadata": {},
     "output_type": "execute_result"
    }
   ],
   "source": [
    "# create a linked list\n",
    "values = [1, 2, 4, 7, 3]\n",
    "head = create_linked_list(values)\n",
    "print(\"Original Linked List:\")\n",
    "print_linked_list(head)"
   ]
  },
  {
   "cell_type": "markdown",
   "metadata": {},
   "source": [
    "## CREATE MULTI LEVEL LINKED LIST"
   ]
  },
  {
   "cell_type": "code",
   "execution_count": 36,
   "metadata": {},
   "outputs": [],
   "source": [
    "# class for creating a Multilevel node\n",
    "class MultiLevelListNode:\n",
    "    def __init__(self, val, next, child):\n",
    "        self.val = val\n",
    "        self.next = next\n",
    "        self.child = child"
   ]
  },
  {
   "cell_type": "code",
   "execution_count": 42,
   "metadata": {},
   "outputs": [],
   "source": [
    "def create_sample_input_from_diagram():\n",
    "    \"\"\"\n",
    "    Constructs the following multi-level list\n",
    "    Level 1:    1 -> 2 -> 3 -> 4 -> 5\n",
    "                     |         |\n",
    "                   child     child\n",
    "                     v         v\n",
    "    Level 2:         6 -> 7    8 -> 9\n",
    "                          |         |\n",
    "                        child     child\n",
    "                          v         v\n",
    "    Level 3:              10        11\n",
    "\n",
    "    After flattening, we want: 1 -> 2 -> 3 -> 4 -> 5 -> 6 -> 7 -> 8 -> 9 -> 10 -> 11\n",
    "    \"\"\"\n",
    "\n",
    "    # Level 1 nodes: 1 -> 2 -> 3 -> 4 -> 5\n",
    "    node1 = MultiLevelListNode(val=1, next=None, child=None)\n",
    "    node2 = MultiLevelListNode(val=2, next=None, child=None)\n",
    "    node3 = MultiLevelListNode(val=3, next=None, child=None)\n",
    "    node4 = MultiLevelListNode(val=4, next=None, child=None)\n",
    "    node5 = MultiLevelListNode(val=5, next=None, child=None)\n",
    "\n",
    "    # Connect the top-level next pointers\n",
    "    node1.next = node2\n",
    "    node2.next = node3\n",
    "    node3.next = node4\n",
    "    node4.next = node5\n",
    "\n",
    "    # Level 2 nodes: 6 -> 7, and 8 -> 9\n",
    "    node6 = MultiLevelListNode(val=6, next=None, child=None)\n",
    "    node7 = MultiLevelListNode(val=7, next=None, child=None)\n",
    "    node8 = MultiLevelListNode(val=8, next=None, child=None)\n",
    "    node9 = MultiLevelListNode(val=9, next=None, child=None)\n",
    "\n",
    "    # Connect the second-level next pointers\n",
    "    node6.next = node7\n",
    "    node8.next = node9\n",
    "\n",
    "    # Attach these to node2 (child -> 6) and node4 (child -> 8)\n",
    "    node2.child = node6\n",
    "    node4.child = node8\n",
    "\n",
    "    # Level 3 nodes: 10, 11\n",
    "    node10 = MultiLevelListNode(val=10, next=None, child=None)\n",
    "    node11 = MultiLevelListNode(val=11, next=None, child=None)\n",
    "\n",
    "    # Attach node10 as a child of node7\n",
    "    node7.child = node10\n",
    "\n",
    "    # Attach node11 as a child of node9\n",
    "    node9.child = node11\n",
    "\n",
    "    # Return the head of the top-level list\n",
    "    return node1\n",
    "\n",
    "    return node1  # head"
   ]
  },
  {
   "cell_type": "code",
   "execution_count": 43,
   "metadata": {},
   "outputs": [
    {
     "data": {
      "text/plain": [
       "'1->2->3->4->5'"
      ]
     },
     "execution_count": 43,
     "metadata": {},
     "output_type": "execute_result"
    }
   ],
   "source": [
    "# construct the head\n",
    "multi_level_head = create_sample_input_from_diagram()\n",
    "print_linked_list(multi_level_head)"
   ]
  },
  {
   "cell_type": "markdown",
   "metadata": {},
   "source": [
    "## REVERSED - NORMAL"
   ]
  },
  {
   "cell_type": "code",
   "execution_count": 5,
   "metadata": {},
   "outputs": [],
   "source": [
    "def linked_list_reversal(head):\n",
    "    prev_node = None\n",
    "    curr_node = head\n",
    "\n",
    "    # reverse the direction of each node's pointer until 'curr_node' is null\n",
    "    while curr_node:\n",
    "        next_node = curr_node.next  # save the next node. eg: 2\n",
    "        curr_node.next = prev_node  # reverse the link. eg: None\n",
    "        prev_node = curr_node  # move the prev_node forward. eg: 1\n",
    "        curr_node = next_node  # move the curr_node forward. eg: 2\n",
    "\n",
    "    return prev_node"
   ]
  },
  {
   "cell_type": "code",
   "execution_count": 6,
   "metadata": {},
   "outputs": [
    {
     "name": "stdout",
     "output_type": "stream",
     "text": [
      "Actual list is: [1, 2, 4, 7, 3]\n",
      "\n",
      "Original Linked List:\n",
      "1 -> 2 -> 4 -> 7 -> 3\n"
     ]
    }
   ],
   "source": [
    "# create a linked list\n",
    "values = [1, 2, 4, 7, 3]\n",
    "print(f\"Actual list is: {values}\\n\")\n",
    "head = create_linked_list(values)\n",
    "print(\"Original Linked List:\")\n",
    "print_linked_list(head)"
   ]
  },
  {
   "cell_type": "code",
   "execution_count": 7,
   "metadata": {},
   "outputs": [
    {
     "name": "stdout",
     "output_type": "stream",
     "text": [
      "Reversed Linked List:\n",
      "3 -> 7 -> 4 -> 2 -> 1\n"
     ]
    }
   ],
   "source": [
    "reversed_head = linked_list_reversal(head)\n",
    "print(\"Reversed Linked List:\")\n",
    "print_linked_list(reversed_head)"
   ]
  },
  {
   "cell_type": "code",
   "execution_count": null,
   "metadata": {},
   "outputs": [],
   "source": []
  },
  {
   "cell_type": "markdown",
   "metadata": {},
   "source": [
    "## REVERSED - RECURSION"
   ]
  },
  {
   "cell_type": "code",
   "execution_count": 8,
   "metadata": {},
   "outputs": [],
   "source": [
    "def linked_list_reversal_recursive(head: ListNode) -> ListNode:\n",
    "    if (not head) or (not head.next):  # empty node or head.next == None\n",
    "        return head\n",
    "\n",
    "    new_head = linked_list_reversal_recursive(head.next)\n",
    "\n",
    "    head.next.next = head  # link from new head to current head / reverse link\n",
    "    head.next = None  # remove current link\n",
    "\n",
    "    return new_head"
   ]
  },
  {
   "cell_type": "code",
   "execution_count": 9,
   "metadata": {},
   "outputs": [
    {
     "name": "stdout",
     "output_type": "stream",
     "text": [
      "Actual list is: [1, 2, 4, 7, 3]\n",
      "\n",
      "Original Linked List:\n",
      "1 -> 2 -> 4 -> 7 -> 3\n"
     ]
    }
   ],
   "source": [
    "# create a linked list\n",
    "values = [1, 2, 4, 7, 3]\n",
    "print(f\"Actual list is: {values}\\n\")\n",
    "head = create_linked_list(values)\n",
    "print(\"Original Linked List:\")\n",
    "print_linked_list(head)"
   ]
  },
  {
   "cell_type": "code",
   "execution_count": 10,
   "metadata": {},
   "outputs": [
    {
     "name": "stdout",
     "output_type": "stream",
     "text": [
      "Reversed Linked List:\n",
      "3 -> 7 -> 4 -> 2 -> 1\n"
     ]
    }
   ],
   "source": [
    "reversed_head = linked_list_reversal_recursive(head)\n",
    "print(\"Reversed Linked List:\")\n",
    "print_linked_list(reversed_head)"
   ]
  },
  {
   "cell_type": "markdown",
   "metadata": {},
   "source": [
    "## REMOVE Kth NODE"
   ]
  },
  {
   "cell_type": "code",
   "execution_count": 11,
   "metadata": {},
   "outputs": [],
   "source": [
    "def remove_kth_last_node(head: ListNode, k: int) -> ListNode:\n",
    "    dummy = ListNode(-1)\n",
    "    dummy.next = head\n",
    "    trailer = dummy\n",
    "    leader = dummy\n",
    "\n",
    "    for _ in range(k):\n",
    "        leader = leader.next\n",
    "        # for empty head, leader = None\n",
    "        if not leader: # OR leader == None\n",
    "            return head\n",
    "\n",
    "    while leader.next:  # move until leader.next == None\n",
    "        leader = leader.next\n",
    "        trailer = trailer.next\n",
    "\n",
    "    trailer.next = trailer.next.next\n",
    "    return dummy.next"
   ]
  },
  {
   "cell_type": "markdown",
   "metadata": {},
   "source": [
    "## LINKED LIST INTERSECTION"
   ]
  },
  {
   "cell_type": "code",
   "execution_count": 1,
   "metadata": {},
   "outputs": [],
   "source": [
    "class ListNode:\n",
    "    def __init__(self, value=0, next=None):\n",
    "        self.value = value\n",
    "        self.next = next"
   ]
  },
  {
   "cell_type": "code",
   "execution_count": 3,
   "metadata": {},
   "outputs": [],
   "source": [
    "def linked_list_intersection(head_A, head_B):\n",
    "    ptr_A = head_A  # for list A\n",
    "    ptr_B = head_B  # for list B\n",
    "\n",
    "    while ptr_A != ptr_B:\n",
    "        ptr_A = ptr_A.next if ptr_A else head_B\n",
    "        ptr_B = ptr_B.next if ptr_B else head_A\n",
    "    return ptr_A"
   ]
  },
  {
   "cell_type": "code",
   "execution_count": null,
   "metadata": {},
   "outputs": [],
   "source": []
  },
  {
   "cell_type": "code",
   "execution_count": null,
   "metadata": {},
   "outputs": [],
   "source": []
  },
  {
   "cell_type": "markdown",
   "metadata": {},
   "source": [
    "## LRU CACHE"
   ]
  },
  {
   "cell_type": "code",
   "execution_count": 2,
   "metadata": {},
   "outputs": [],
   "source": [
    "# class for a doublylinked list\n",
    "class DoublyLinkedListNode:\n",
    "    def __init__(self, key: int, val: int):  # eg: (2, 200) -> NODE (key, Value)\n",
    "        self.key = key\n",
    "        self.val = val\n",
    "        self.next = self.prev = None"
   ]
  },
  {
   "cell_type": "code",
   "execution_count": 13,
   "metadata": {},
   "outputs": [],
   "source": [
    "class LRUCache:\n",
    "    def __init__(self, capacity: int):  # takes LRUCache limit. eg: 3\n",
    "        self.capacity = capacity  # max no of items cache can hold\n",
    "        self.hashmap = {}  # quick lookup storage\n",
    "        # create dummy nodes\n",
    "        self.head = DoublyLinkedListNode(-1, -1)\n",
    "        self.tail = DoublyLinkedListNode(-1, -1)\n",
    "        # connect head to tail\n",
    "        self.head.next = self.tail\n",
    "        self.tail.prev = self.head\n",
    "\n",
    "    def get(self, key: int) -> int:\n",
    "        if key not in self.hashmap:\n",
    "            return -1\n",
    "        self.remove_node(self.hashmap[key])\n",
    "        self.add_to_tail(self.hashmap[key])\n",
    "        return self.hashmap[key].val\n",
    "\n",
    "    def put(self, key: int, value: int) -> None:\n",
    "        if key in self.hashmap:\n",
    "            self.remove_node(self.hashmap[key])\n",
    "        node = DoublyLinkedListNode(key, value)\n",
    "        self.hashmap[key] = node\n",
    "        if len(self.hashmap) > self.capacity:\n",
    "            del self.hashmap[self.head.next.key]\n",
    "            self.remove_node(self.head.next)\n",
    "        self.add_to_tail(node)\n",
    "\n",
    "    def add_to_tail(self, node: DoublyLinkedListNode) -> None:\n",
    "        prev_node = self.tail.prev\n",
    "        node.prev = prev_node\n",
    "        node.next = self.tail\n",
    "        prev_node.next = node\n",
    "        self.tail.prev = node\n",
    "\n",
    "    def remove_node(self, node: DeprecationWarning) -> None:\n",
    "        node.prev.next = node.next\n",
    "        node.next.prev = node.prev"
   ]
  },
  {
   "cell_type": "code",
   "execution_count": null,
   "metadata": {},
   "outputs": [],
   "source": []
  },
  {
   "cell_type": "code",
   "execution_count": null,
   "metadata": {},
   "outputs": [],
   "source": []
  },
  {
   "cell_type": "code",
   "execution_count": null,
   "metadata": {},
   "outputs": [],
   "source": []
  },
  {
   "cell_type": "markdown",
   "metadata": {},
   "source": [
    "## PALINDROME LINKED LIST"
   ]
  },
  {
   "cell_type": "code",
   "execution_count": 6,
   "metadata": {},
   "outputs": [],
   "source": [
    "# create a linked list node\n",
    "class ListNode:\n",
    "    def __init__(self, val=None, next=None):\n",
    "        self.val = val\n",
    "        self.next = next"
   ]
  },
  {
   "cell_type": "code",
   "execution_count": 11,
   "metadata": {},
   "outputs": [],
   "source": [
    "def palindromic_linked_list(head: ListNode) -> bool:\n",
    "    mid = find_middle(head)\n",
    "    second_head = reverse_list(mid)\n",
    "\n",
    "    ptr1, ptr2 = head, second_head\n",
    "    while ptr2:\n",
    "        if ptr1.val != ptr2.val:\n",
    "            return False\n",
    "        ptr1, ptr2 = ptr1.next, ptr2.next\n",
    "    return True\n",
    "\n",
    "\n",
    "def reverse_list(head: ListNode) -> ListNode:\n",
    "    prevNode, currNode = None, head\n",
    "    while currNode:\n",
    "        nextNode = currNode.next\n",
    "        currNode.next = prevNode\n",
    "        prevNode = currNode\n",
    "        currNode = nextNode\n",
    "    return prevNode\n",
    "\n",
    "\n",
    "def find_middle(head: ListNode) -> ListNode:\n",
    "    slow = fast = head\n",
    "    while fast and fast.next:  # both have valid values\n",
    "        slow = slow.next\n",
    "        fast = fast.next.next\n",
    "    return slow"
   ]
  },
  {
   "cell_type": "code",
   "execution_count": 28,
   "metadata": {},
   "outputs": [],
   "source": [
    "# create nodes for a linked list\n",
    "node1 = ListNode(1)\n",
    "node2 = ListNode(2)\n",
    "node3 = ListNode(3)\n",
    "node4 = ListNode(2)\n",
    "node5 = ListNode(1)"
   ]
  },
  {
   "cell_type": "code",
   "execution_count": 29,
   "metadata": {},
   "outputs": [],
   "source": [
    "# link the nodes\n",
    "node1.next = node2\n",
    "node2.next = node3\n",
    "node3.next = node4\n",
    "node4.next = node5"
   ]
  },
  {
   "cell_type": "code",
   "execution_count": 24,
   "metadata": {},
   "outputs": [
    {
     "name": "stdout",
     "output_type": "stream",
     "text": [
      "Linked List: 1->2->3->2->1\n"
     ]
    }
   ],
   "source": [
    "# function to print the linked list for visualization\n",
    "print(\"Linked List:\", print_linked_list(node1))"
   ]
  },
  {
   "cell_type": "code",
   "execution_count": 32,
   "metadata": {},
   "outputs": [
    {
     "data": {
      "text/plain": [
       "True"
      ]
     },
     "execution_count": 32,
     "metadata": {},
     "output_type": "execute_result"
    }
   ],
   "source": [
    "# print the palindromic list if it is true\n",
    "palindromic_linked_list(node1)"
   ]
  },
  {
   "cell_type": "code",
   "execution_count": 30,
   "metadata": {},
   "outputs": [
    {
     "name": "stdout",
     "output_type": "stream",
     "text": [
      "Original Linked List:\n"
     ]
    },
    {
     "data": {
      "text/plain": [
       "'1->2->3->2->1'"
      ]
     },
     "execution_count": 30,
     "metadata": {},
     "output_type": "execute_result"
    }
   ],
   "source": [
    "# create a linked list from a list\n",
    "values = [1, 2, 3, 2, 1]\n",
    "head = create_linked_list(values)\n",
    "print(\"Original Linked List:\")\n",
    "print_linked_list(head)"
   ]
  },
  {
   "cell_type": "code",
   "execution_count": 31,
   "metadata": {},
   "outputs": [
    {
     "data": {
      "text/plain": [
       "True"
      ]
     },
     "execution_count": 31,
     "metadata": {},
     "output_type": "execute_result"
    }
   ],
   "source": [
    "# print the palindromic list if it is true\n",
    "palindromic_linked_list(head)"
   ]
  },
  {
   "cell_type": "markdown",
   "metadata": {},
   "source": [
    "## FLATTEN A MULTI LEVEL LINKED LIST"
   ]
  },
  {
   "cell_type": "code",
   "execution_count": 39,
   "metadata": {},
   "outputs": [],
   "source": [
    "def flatten_multi_level_list(head: MultiLevelListNode) -> MultiLevelListNode:\n",
    "    if not head:\n",
    "        return None\n",
    "    tail = head\n",
    "    # find the tail of the first level\n",
    "    while tail.next:  # run the loop until tail.next == None\n",
    "        tail = tail.next\n",
    "    curr = head\n",
    "\n",
    "    while curr:\n",
    "        if curr.child:  # if curr.child has value\n",
    "            tail.next = curr.child\n",
    "            curr.child = None\n",
    "            while tail.next:\n",
    "                tail = tail.next\n",
    "        curr = curr.next\n",
    "    return head"
   ]
  },
  {
   "cell_type": "code",
   "execution_count": 44,
   "metadata": {},
   "outputs": [
    {
     "name": "stdout",
     "output_type": "stream",
     "text": [
      "1 -> 2 -> 3 -> 4 -> 5 -> 6 -> 7 -> 8 -> 9 -> 10 -> 11\n"
     ]
    }
   ],
   "source": [
    "# Flatten it\n",
    "flattened = flatten_multi_level_list(multi_level_head)\n",
    "\n",
    "# Print the flattened list\n",
    "curr = flattened\n",
    "while curr:\n",
    "    print(curr.val, end=\" -> \" if curr.next else \"\\n\")\n",
    "    curr = curr.next"
   ]
  }
 ],
 "metadata": {
  "kernelspec": {
   "display_name": ".venv",
   "language": "python",
   "name": "python3"
  },
  "language_info": {
   "codemirror_mode": {
    "name": "ipython",
    "version": 3
   },
   "file_extension": ".py",
   "mimetype": "text/x-python",
   "name": "python",
   "nbconvert_exporter": "python",
   "pygments_lexer": "ipython3",
   "version": "3.11.11"
  }
 },
 "nbformat": 4,
 "nbformat_minor": 2
}
