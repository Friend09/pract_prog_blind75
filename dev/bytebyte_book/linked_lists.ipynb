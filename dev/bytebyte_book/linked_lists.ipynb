{
 "cells": [
  {
   "cell_type": "markdown",
   "metadata": {},
   "source": [
    "# LINKED LISTS\n"
   ]
  },
  {
   "cell_type": "markdown",
   "metadata": {},
   "source": [
    "## CREATE LINKED LIST"
   ]
  },
  {
   "cell_type": "code",
   "execution_count": 2,
   "metadata": {},
   "outputs": [],
   "source": [
    "# class to create linked list\n",
    "class ListNode:\n",
    "    def __init__(self, value=0, next=None):\n",
    "        self.value = value\n",
    "        self.next = next"
   ]
  },
  {
   "cell_type": "code",
   "execution_count": 3,
   "metadata": {},
   "outputs": [],
   "source": [
    "# helper function to create a linked list from a list\n",
    "def create_linked_list(values):\n",
    "    if not values:\n",
    "        return None\n",
    "\n",
    "    # set the head, current node\n",
    "    head = ListNode(values[0])  # (1)\n",
    "    curr_node = head  # head (1)\n",
    "\n",
    "    # link the remaining items from list to head\n",
    "    for value in values[1:]:  # 2, 4, 7, 3\n",
    "        curr_node.next = ListNode(value)  # head (1) -> 2\n",
    "        curr_node = curr_node.next  # 2\n",
    "    return head  # 1\n",
    "\n",
    "\n",
    "# (HEAD) 1 -> 2 -> 4 -> 7 -> 3"
   ]
  },
  {
   "cell_type": "code",
   "execution_count": 4,
   "metadata": {},
   "outputs": [],
   "source": [
    "# helper function to print linked list\n",
    "def print_linked_list(head):\n",
    "    result = []\n",
    "    while head:\n",
    "        result.append(head.value)\n",
    "        head = head.next\n",
    "    print(\" -> \".join(map(str, result)))"
   ]
  },
  {
   "cell_type": "code",
   "execution_count": 5,
   "metadata": {},
   "outputs": [
    {
     "name": "stdout",
     "output_type": "stream",
     "text": [
      "Original Linked List:\n",
      "1 -> 2 -> 4 -> 7 -> 3\n"
     ]
    }
   ],
   "source": [
    "# create a linked list\n",
    "values = [1, 2, 4, 7, 3]\n",
    "head = create_linked_list(values)\n",
    "print(\"Original Linked List:\")\n",
    "print_linked_list(head)"
   ]
  },
  {
   "cell_type": "markdown",
   "metadata": {},
   "source": [
    "## REVERSED - NORMAL"
   ]
  },
  {
   "cell_type": "code",
   "execution_count": 17,
   "metadata": {},
   "outputs": [],
   "source": [
    "def linked_list_reversal(head):\n",
    "    prev_node = None\n",
    "    curr_node = head\n",
    "\n",
    "    # reverse the direction of each node's pointer until 'curr_node' is null\n",
    "    while curr_node:\n",
    "        next_node = curr_node.next  # save the next node. eg: 2\n",
    "        curr_node.next = prev_node  # reverse the link. eg: None\n",
    "        prev_node = curr_node  # move the prev_node forward. eg: 1\n",
    "        curr_node = next_node  # move the curr_node forward. eg: 2\n",
    "\n",
    "    return prev_node"
   ]
  },
  {
   "cell_type": "code",
   "execution_count": 18,
   "metadata": {},
   "outputs": [
    {
     "name": "stdout",
     "output_type": "stream",
     "text": [
      "Actual list is: [1, 2, 4, 7, 3]\n",
      "\n",
      "Original Linked List:\n",
      "1 -> 2 -> 4 -> 7 -> 3\n"
     ]
    }
   ],
   "source": [
    "# create a linked list\n",
    "values = [1, 2, 4, 7, 3]\n",
    "print(f\"Actual list is: {values}\\n\")\n",
    "head = create_linked_list(values)\n",
    "print(\"Original Linked List:\")\n",
    "print_linked_list(head)"
   ]
  },
  {
   "cell_type": "code",
   "execution_count": 19,
   "metadata": {},
   "outputs": [
    {
     "name": "stdout",
     "output_type": "stream",
     "text": [
      "Reversed Linked List:\n",
      "3 -> 7 -> 4 -> 2 -> 1\n"
     ]
    }
   ],
   "source": [
    "reversed_head = linked_list_reversal(head)\n",
    "print(\"Reversed Linked List:\")\n",
    "print_linked_list(reversed_head)"
   ]
  },
  {
   "cell_type": "code",
   "execution_count": null,
   "metadata": {},
   "outputs": [],
   "source": []
  },
  {
   "cell_type": "markdown",
   "metadata": {},
   "source": [
    "## REVERSED - RECURSION"
   ]
  }
 ],
 "metadata": {
  "kernelspec": {
   "display_name": ".venv",
   "language": "python",
   "name": "python3"
  },
  "language_info": {
   "codemirror_mode": {
    "name": "ipython",
    "version": 3
   },
   "file_extension": ".py",
   "mimetype": "text/x-python",
   "name": "python",
   "nbconvert_exporter": "python",
   "pygments_lexer": "ipython3",
   "version": "3.11.11"
  }
 },
 "nbformat": 4,
 "nbformat_minor": 2
}
