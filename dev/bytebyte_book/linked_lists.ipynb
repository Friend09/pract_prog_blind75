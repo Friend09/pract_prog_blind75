{
 "cells": [
  {
   "cell_type": "markdown",
   "metadata": {},
   "source": [
    "# LINKED LISTS\n"
   ]
  },
  {
   "cell_type": "markdown",
   "metadata": {},
   "source": [
    "## CREATE LINKED LIST"
   ]
  },
  {
   "cell_type": "code",
   "execution_count": 1,
   "metadata": {},
   "outputs": [],
   "source": [
    "# class to create linked list\n",
    "class ListNode:\n",
    "    def __init__(self, value=0, next=None):\n",
    "        self.value = value\n",
    "        self.next = next"
   ]
  },
  {
   "cell_type": "code",
   "execution_count": 2,
   "metadata": {},
   "outputs": [],
   "source": [
    "# helper function to create a linked list from a list\n",
    "def create_linked_list(values):\n",
    "    if not values:\n",
    "        return None\n",
    "\n",
    "    # set the head, current node\n",
    "    head = ListNode(values[0])  # (1)\n",
    "    curr_node = head  # head (1)\n",
    "\n",
    "    # link the remaining items from list to head\n",
    "    for value in values[1:]:  # 2, 4, 7, 3\n",
    "        curr_node.next = ListNode(value)  # head (1) -> 2\n",
    "        curr_node = curr_node.next  # 2\n",
    "    return head  # 1\n",
    "\n",
    "\n",
    "# (HEAD) 1 -> 2 -> 4 -> 7 -> 3"
   ]
  },
  {
   "cell_type": "code",
   "execution_count": 3,
   "metadata": {},
   "outputs": [],
   "source": [
    "# helper function to print linked list\n",
    "def print_linked_list(head):\n",
    "    result = []\n",
    "    while head:\n",
    "        result.append(head.value)\n",
    "        head = head.next\n",
    "    print(\" -> \".join(map(str, result)))"
   ]
  },
  {
   "cell_type": "code",
   "execution_count": 4,
   "metadata": {},
   "outputs": [
    {
     "name": "stdout",
     "output_type": "stream",
     "text": [
      "Original Linked List:\n",
      "1 -> 2 -> 4 -> 7 -> 3\n"
     ]
    }
   ],
   "source": [
    "# create a linked list\n",
    "values = [1, 2, 4, 7, 3]\n",
    "head = create_linked_list(values)\n",
    "print(\"Original Linked List:\")\n",
    "print_linked_list(head)"
   ]
  },
  {
   "cell_type": "markdown",
   "metadata": {},
   "source": [
    "## REVERSED - NORMAL"
   ]
  },
  {
   "cell_type": "code",
   "execution_count": 5,
   "metadata": {},
   "outputs": [],
   "source": [
    "def linked_list_reversal(head):\n",
    "    prev_node = None\n",
    "    curr_node = head\n",
    "\n",
    "    # reverse the direction of each node's pointer until 'curr_node' is null\n",
    "    while curr_node:\n",
    "        next_node = curr_node.next  # save the next node. eg: 2\n",
    "        curr_node.next = prev_node  # reverse the link. eg: None\n",
    "        prev_node = curr_node  # move the prev_node forward. eg: 1\n",
    "        curr_node = next_node  # move the curr_node forward. eg: 2\n",
    "\n",
    "    return prev_node"
   ]
  },
  {
   "cell_type": "code",
   "execution_count": 6,
   "metadata": {},
   "outputs": [
    {
     "name": "stdout",
     "output_type": "stream",
     "text": [
      "Actual list is: [1, 2, 4, 7, 3]\n",
      "\n",
      "Original Linked List:\n",
      "1 -> 2 -> 4 -> 7 -> 3\n"
     ]
    }
   ],
   "source": [
    "# create a linked list\n",
    "values = [1, 2, 4, 7, 3]\n",
    "print(f\"Actual list is: {values}\\n\")\n",
    "head = create_linked_list(values)\n",
    "print(\"Original Linked List:\")\n",
    "print_linked_list(head)"
   ]
  },
  {
   "cell_type": "code",
   "execution_count": 7,
   "metadata": {},
   "outputs": [
    {
     "name": "stdout",
     "output_type": "stream",
     "text": [
      "Reversed Linked List:\n",
      "3 -> 7 -> 4 -> 2 -> 1\n"
     ]
    }
   ],
   "source": [
    "reversed_head = linked_list_reversal(head)\n",
    "print(\"Reversed Linked List:\")\n",
    "print_linked_list(reversed_head)"
   ]
  },
  {
   "cell_type": "code",
   "execution_count": null,
   "metadata": {},
   "outputs": [],
   "source": []
  },
  {
   "cell_type": "markdown",
   "metadata": {},
   "source": [
    "## REVERSED - RECURSION"
   ]
  },
  {
   "cell_type": "code",
   "execution_count": 8,
   "metadata": {},
   "outputs": [],
   "source": [
    "def linked_list_reversal_recursive(head: ListNode) -> ListNode:\n",
    "    if (not head) or (not head.next):  # empty node or head.next == None\n",
    "        return head\n",
    "\n",
    "    new_head = linked_list_reversal_recursive(head.next)\n",
    "\n",
    "    head.next.next = head  # link from new head to current head / reverse link\n",
    "    head.next = None  # remove current link\n",
    "\n",
    "    return new_head"
   ]
  },
  {
   "cell_type": "code",
   "execution_count": 9,
   "metadata": {},
   "outputs": [
    {
     "name": "stdout",
     "output_type": "stream",
     "text": [
      "Actual list is: [1, 2, 4, 7, 3]\n",
      "\n",
      "Original Linked List:\n",
      "1 -> 2 -> 4 -> 7 -> 3\n"
     ]
    }
   ],
   "source": [
    "# create a linked list\n",
    "values = [1, 2, 4, 7, 3]\n",
    "print(f\"Actual list is: {values}\\n\")\n",
    "head = create_linked_list(values)\n",
    "print(\"Original Linked List:\")\n",
    "print_linked_list(head)"
   ]
  },
  {
   "cell_type": "code",
   "execution_count": 10,
   "metadata": {},
   "outputs": [
    {
     "name": "stdout",
     "output_type": "stream",
     "text": [
      "Reversed Linked List:\n",
      "3 -> 7 -> 4 -> 2 -> 1\n"
     ]
    }
   ],
   "source": [
    "reversed_head = linked_list_reversal_recursive(head)\n",
    "print(\"Reversed Linked List:\")\n",
    "print_linked_list(reversed_head)"
   ]
  },
  {
   "cell_type": "markdown",
   "metadata": {},
   "source": [
    "## REMOVE Kth NODE"
   ]
  },
  {
   "cell_type": "code",
   "execution_count": 11,
   "metadata": {},
   "outputs": [],
   "source": [
    "def remove_kth_last_node(head: ListNode, k: int) -> ListNode:\n",
    "    dummy = ListNode(-1)\n",
    "    dummy.next = head\n",
    "    trailer = dummy\n",
    "    leader = dummy\n",
    "\n",
    "    for _ in range(k):\n",
    "        leader = leader.next\n",
    "        # for empty head, leader = None\n",
    "        if not leader: # OR leader == None\n",
    "            return head\n",
    "\n",
    "    while leader.next:  # move until leader.next == None\n",
    "        leader = leader.next\n",
    "        trailer = trailer.next\n",
    "\n",
    "    trailer.next = trailer.next.next\n",
    "    return dummy.next"
   ]
  },
  {
   "cell_type": "markdown",
   "metadata": {},
   "source": [
    "## LINKED LIST INTERSECTION"
   ]
  },
  {
   "cell_type": "code",
   "execution_count": 1,
   "metadata": {},
   "outputs": [],
   "source": [
    "class ListNode:\n",
    "    def __init__(self, value=0, next=None):\n",
    "        self.value = value\n",
    "        self.next = next"
   ]
  },
  {
   "cell_type": "code",
   "execution_count": 3,
   "metadata": {},
   "outputs": [],
   "source": [
    "def linked_list_intersection(head_A, head_B):\n",
    "    ptr_A = head_A  # for list A\n",
    "    ptr_B = head_B  # for list B\n",
    "\n",
    "    while ptr_A != ptr_B:\n",
    "        ptr_A = ptr_A.next if ptr_A else head_B\n",
    "        ptr_B = ptr_B.next if ptr_B else head_A\n",
    "    return ptr_A"
   ]
  },
  {
   "cell_type": "code",
   "execution_count": null,
   "metadata": {},
   "outputs": [],
   "source": []
  },
  {
   "cell_type": "code",
   "execution_count": null,
   "metadata": {},
   "outputs": [],
   "source": []
  },
  {
   "cell_type": "markdown",
   "metadata": {},
   "source": [
    "## LRU CACHE"
   ]
  },
  {
   "cell_type": "code",
   "execution_count": 2,
   "metadata": {},
   "outputs": [],
   "source": [
    "# class for a doublylinked list\n",
    "class DoublyLinkedListNode:\n",
    "    def __init__(self, key: int, val: int):  # eg: (2, 200) -> NODE (key, Value)\n",
    "        self.key = key\n",
    "        self.val = val\n",
    "        self.next = self.prev = None"
   ]
  },
  {
   "cell_type": "code",
   "execution_count": 13,
   "metadata": {},
   "outputs": [],
   "source": [
    "class LRUCache:\n",
    "    def __init__(self, capacity: int):  # takes LRUCache limit. eg: 3\n",
    "        self.capacity = capacity  # max no of items cache can hold\n",
    "        self.hashmap = {}  # quick lookup storage\n",
    "        # create dummy nodes\n",
    "        self.head = DoublyLinkedListNode(-1, -1)\n",
    "        self.tail = DoublyLinkedListNode(-1, -1)\n",
    "        # connect head to tail\n",
    "        self.head.next = self.tail\n",
    "        self.tail.prev = self.head\n",
    "\n",
    "    def get(self, key: int) -> int:\n",
    "        if key not in self.hashmap:\n",
    "            return -1\n",
    "        self.remove_node(self.hashmap[key])\n",
    "        self.add_to_tail(self.hashmap[key])\n",
    "        return self.hashmap[key].val\n",
    "\n",
    "    def put(self, key: int, value: int) -> None:\n",
    "        if key in self.hashmap:\n",
    "            self.remove_node(self.hashmap[key])\n",
    "        node = DoublyLinkedListNode(key, value)\n",
    "        self.hashmap[key] = node\n",
    "        if len(self.hashmap) > self.capacity:\n",
    "            del self.hashmap[self.head.next.key]\n",
    "            self.remove_node(self.head.next)\n",
    "        self.add_to_tail(node)\n",
    "\n",
    "    def add_to_tail(self, node: DoublyLinkedListNode) -> None:\n",
    "        prev_node = self.tail.prev\n",
    "        node.prev = prev_node\n",
    "        node.next = self.tail\n",
    "        prev_node.next = node\n",
    "        self.tail.prev = node\n",
    "\n",
    "    def remove_node(self, node: DeprecationWarning) -> None:\n",
    "        node.prev.next = node.next\n",
    "        node.next.prev = node.prev"
   ]
  },
  {
   "cell_type": "code",
   "execution_count": null,
   "metadata": {},
   "outputs": [],
   "source": []
  },
  {
   "cell_type": "code",
   "execution_count": null,
   "metadata": {},
   "outputs": [],
   "source": []
  },
  {
   "cell_type": "code",
   "execution_count": null,
   "metadata": {},
   "outputs": [],
   "source": []
  },
  {
   "cell_type": "markdown",
   "metadata": {},
   "source": [
    "## PALINDROME LINKED LIST"
   ]
  },
  {
   "cell_type": "code",
   "execution_count": null,
   "metadata": {},
   "outputs": [],
   "source": []
  },
  {
   "cell_type": "markdown",
   "metadata": {},
   "source": [
    "## FLATTEN A MULTI LEVEL LINKED LIST"
   ]
  }
 ],
 "metadata": {
  "kernelspec": {
   "display_name": ".venv",
   "language": "python",
   "name": "python3"
  },
  "language_info": {
   "codemirror_mode": {
    "name": "ipython",
    "version": 3
   },
   "file_extension": ".py",
   "mimetype": "text/x-python",
   "name": "python",
   "nbconvert_exporter": "python",
   "pygments_lexer": "ipython3",
   "version": "3.11.11"
  }
 },
 "nbformat": 4,
 "nbformat_minor": 2
}
