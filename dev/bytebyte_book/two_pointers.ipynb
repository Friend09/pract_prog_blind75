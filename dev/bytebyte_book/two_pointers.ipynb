{
 "cells": [
  {
   "cell_type": "markdown",
   "metadata": {},
   "source": [
    "# Chapter 1: Two Pointers"
   ]
  },
  {
   "cell_type": "markdown",
   "metadata": {},
   "source": [
    "## Pair Sum - Sorted\n"
   ]
  },
  {
   "cell_type": "markdown",
   "metadata": {},
   "source": [
    "Given an array of integers sorted in ascending order and a target value, return the indexes of any pair of numbers in the array that sum to the target. The order of the indexes in the result doesn't matter. If no pair is found, return an empty array.\n",
    "\n",
    "Example 1:\n",
    "Input: nums = [-5, -2, 3, 4, 6], target = 7\n",
    "Output: [2, 3]\n",
    "Explanation: nums[2] + nums[3] = 3 + 4 = 7\n",
    "\n",
    "Example 2:\n",
    "Input: nums = [1, 1, 1], target = 2\n",
    "Output: [0, 1]\n",
    "Explanation: other valid outputs could be [1, 0], [0, 2], [2, 0], [1, 2] or [2, 1].\n"
   ]
  },
  {
   "cell_type": "code",
   "execution_count": null,
   "metadata": {},
   "outputs": [],
   "source": [
    "# approach 1:\n",
    "def twoNumberSum(array, targetSum):\n",
    "    for i in range(len(array)):\n",
    "        # sort the array\n",
    "        array = sorted(array)\n",
    "        # define left, right pointers\n",
    "        left = i\n",
    "        right = len(array) - 1\n",
    "\n",
    "        # run a loop until left and right are equal\n",
    "        while left < right:\n",
    "            # compute sum\n",
    "            sum = array[left] + array[right]\n",
    "            # if sum < target, pick a large number from left\n",
    "            if sum < targetSum:\n",
    "                left += 1\n",
    "            # elif sum > target, pick a small number from right\n",
    "            elif sum > targetSum:\n",
    "                right -= 1\n",
    "            # else we found a pair, return them\n",
    "            else:\n",
    "                return [array[left], array[right]]\n",
    "        # if nothing is found, just return the empty list\n",
    "        return []"
   ]
  },
  {
   "cell_type": "code",
   "execution_count": 27,
   "metadata": {},
   "outputs": [],
   "source": [
    "# approach 2: complement (other number seen) based\n",
    "def twoNumberSum(array, targetSum):\n",
    "    # keep a record of seen numbers\n",
    "    seen_numbers = set()\n",
    "\n",
    "    # run a loop over the array\n",
    "    for num in array:\n",
    "        # get the complement/ other number\n",
    "        complement = targetSum - num\n",
    "        # check if this complement is already in the seen numbers\n",
    "        if complement in seen_numbers:\n",
    "            # return the complement, current number\n",
    "            return [num, complement]\n",
    "        # just add the current number to the seen numbers\n",
    "        seen_numbers.add(num)\n",
    "    # if no pair is found return an empty list\n",
    "    return []"
   ]
  },
  {
   "cell_type": "code",
   "execution_count": 28,
   "metadata": {},
   "outputs": [
    {
     "data": {
      "text/plain": [
       "[9, 8]"
      ]
     },
     "execution_count": 28,
     "metadata": {},
     "output_type": "execute_result"
    }
   ],
   "source": [
    "array = [1, 2, 3, 4, 5, 6, 7, 8, 9]\n",
    "targetSum = 17\n",
    "array.sort()\n",
    "\n",
    "twoNumberSum(array=array, targetSum=targetSum)"
   ]
  },
  {
   "cell_type": "markdown",
   "metadata": {},
   "source": [
    "## Triplet sum\n"
   ]
  },
  {
   "cell_type": "markdown",
   "metadata": {},
   "source": [
    "- [bytebytego](https://bytebytego.com/exercises/coding-patterns/two-pointers/triplet-sum)\n",
    "\n",
    "\n",
    "Given an array of integers, return all triplets [a, b, c] such that a + b + c = 0 . The solution must not contain duplicate triplets (e.g., [1, 2, 3] and [2, 3, 1] are considered duplicates). If no such triplets are found, return an empty array.\n",
    "\n",
    "Each triplet can be arranged in any order, and the output can be returned in any order.\n",
    "\n",
    "Example:\n",
    "Input: nums = [0, -1, 2, -3, 1]\n",
    "Output: [[-3, 1, 2], [-1, 0, 1]]"
   ]
  },
  {
   "cell_type": "code",
   "execution_count": 108,
   "metadata": {},
   "outputs": [
    {
     "name": "stdout",
     "output_type": "stream",
     "text": [
      "1 2\n",
      "2 2\n"
     ]
    },
    {
     "data": {
      "text/plain": [
       "[[-1, 0, 1]]"
      ]
     },
     "execution_count": 108,
     "metadata": {},
     "output_type": "execute_result"
    }
   ],
   "source": [
    "from typing import List\n",
    "\n",
    "\n",
    "def triplet_sum(nums: List[int]) -> List[List[int]]:\n",
    "    triplets = []\n",
    "    nums.sort()\n",
    "    for i in range(len(nums)):\n",
    "        # Optimization: triplets consisting of only positive numbers\n",
    "        # will never sum to 0.\n",
    "\n",
    "        if nums[i] > 0:\n",
    "            break\n",
    "        # To avoid duplicate triplets, skip 'a' if it's the same as\n",
    "        # the previous number.\n",
    "        if i > 0 and nums[i] == nums[i - 1]:\n",
    "            continue\n",
    "        # Find all pairs that sum to a target of '-a' (-nums[i]).\n",
    "        pairs = pair_sum_sorted_all_pairs(nums, i + 1, -nums[i])\n",
    "        for pair in pairs:\n",
    "            triplets.append([nums[i]] + pair)\n",
    "    return triplets\n",
    "\n",
    "\n",
    "def pair_sum_sorted_all_pairs(nums: List[int], start: int, target: int) -> List[int]:\n",
    "    pairs = []\n",
    "    left, right = start, len(nums) - 1\n",
    "    print(left, right)\n",
    "    while left < right:\n",
    "        sum = nums[left] + nums[right]\n",
    "        if sum == target:\n",
    "            pairs.append([nums[left], nums[right]])\n",
    "            left += 1\n",
    "            # To avoid duplicate '[b, c]' pairs, skip 'b' if it's the\n",
    "            # same as the previous number.\n",
    "            while left < right and nums[left] == nums[left - 1]:\n",
    "                left += 1\n",
    "        elif sum < target:\n",
    "            left += 1\n",
    "        else:\n",
    "            right -= 1\n",
    "    return pairs\n",
    "\n",
    "\n",
    "nums = [-1, 1, 0]\n",
    "triplet_sum(nums)"
   ]
  },
  {
   "cell_type": "markdown",
   "metadata": {},
   "source": [
    "## Valid Palindrome"
   ]
  },
  {
   "cell_type": "markdown",
   "metadata": {},
   "source": [
    "- [bytebytego](https://bytebytego.com/exercises/coding-patterns/two-pointers/is-palindrome-valid)\n",
    "- [algoexpert](https://www.algoexpert.io/questions/palindrome-check)\n",
    "\n",
    "A palindrome is a sequence of characters that reads the same forward and backward.\n",
    "\n",
    "Given a string, determine if it's a palindrome after removing all non-alphanumeric characters. A character is alphanumeric if it's either a letter or a number.\n",
    "\n",
    "Example 1:\n",
    "Input: s = 'a dog! a panic in a pagoda.'\n",
    "Output: True\n",
    "Example 2:\n",
    "Input: s = 'abc123'\n",
    "Output: False\n",
    "Constraints:\n",
    "The string may include a combination of lowercase English letters, numbers, spaces, and punctuations."
   ]
  },
  {
   "cell_type": "code",
   "execution_count": 69,
   "metadata": {},
   "outputs": [
    {
     "data": {
      "text/plain": [
       "True"
      ]
     },
     "execution_count": 69,
     "metadata": {},
     "output_type": "execute_result"
    }
   ],
   "source": [
    "def is_palindrome_valid(s: str) -> bool:\n",
    "    # get alphanumeric string, apply cleaning\n",
    "    s = \"\".join(char for char in s if char.isalnum())\n",
    "    # get left, right indexes\n",
    "    left = 0\n",
    "    right = len(s) - 1\n",
    "\n",
    "    # while left and right are not on the same char\n",
    "    while left < right:\n",
    "        # compare the left side,  right side chars\n",
    "        if s[left] != s[right]:\n",
    "            # if they are not equal, not a valid palindrome, return false\n",
    "            return False\n",
    "        # else, just move the left and right towards middle\n",
    "        else:\n",
    "            left += 1\n",
    "            right -= 1\n",
    "    # once the entire while loop is done, and the middle char is met, this is valid\n",
    "    # return True\n",
    "    return True\n",
    "\n",
    "\n",
    "# s = \"ad\"\n",
    "s = \"!, (?)\"\n",
    "# s = \"a dog! a panic in a pagoda.\"\n",
    "is_palindrome_valid(s)"
   ]
  },
  {
   "cell_type": "code",
   "execution_count": 114,
   "metadata": {},
   "outputs": [
    {
     "data": {
      "text/plain": [
       "False"
      ]
     },
     "execution_count": 114,
     "metadata": {},
     "output_type": "execute_result"
    }
   ],
   "source": [
    "# valid palindrome with valid alphanum\n",
    "def is_palindrome_valid(s: str) -> bool:\n",
    "    left = 0\n",
    "    right = len(s) - 1\n",
    "\n",
    "    # while left and right are not on the same char\n",
    "    while left < right:\n",
    "        while left < right and not s[left].isalnum():\n",
    "            left += 1\n",
    "        while left < right and not s[right].isalnum():\n",
    "            right -= 1\n",
    "        if s[left] != s[right]:\n",
    "            return False\n",
    "        else:\n",
    "            left += 1\n",
    "            right -= 1\n",
    "    return True\n",
    "\n",
    "\n",
    "# s = \"a dog! a panic in a pagoda.\"\n",
    "s = \"abc\"\n",
    "# s = \"!, (?)\"\n",
    "is_palindrome_valid(s)"
   ]
  },
  {
   "cell_type": "markdown",
   "metadata": {},
   "source": [
    "## Largest Container"
   ]
  },
  {
   "attachments": {
    "image.png": {
     "image/png": "[encoded data removed]"
    }
   },
   "cell_type": "markdown",
   "metadata": {},
   "source": [
    "You are given an array of numbers, each representing the height of a vertical line on a graph. A container can be formed with any pair of these lines, along with the x-axis of the graph. Return the amount of water which the largest container can hold.\n",
    "\n",
    "Example:\n",
    "![image.png](attachment:image.png)\n",
    "\n",
    "Example\n",
    "- Input: heights = [2, 7, 8, 3, 7, 6]\n",
    "- Output: 24"
   ]
  },
  {
   "cell_type": "markdown",
   "metadata": {},
   "source": [
    "    # 1. Understand - 3-5 minutes\n",
    "    - Write example inputs/outputs\n",
    "    - Note constraints\n",
    "    - Write test cases\n",
    "    \n",
    "    # 2. Plan - 5-7 minutes\n",
    "    - Draw/write algorithm steps\n",
    "    - Consider time/space complexity\n",
    "    - Think about edge cases\n",
    "    \n",
    "    # 3. Code - 15-20 minutes\n",
    "    - Write clean, well-structured code\n",
    "    - Use meaningful variable names\n",
    "    - Add brief comments for clarity\n",
    "    \n",
    "    # 4. Test - 5 minutes\n",
    "    - Run through test cases\n",
    "    - Check edge cases\n",
    "    - Consider optimization"
   ]
  },
  {
   "cell_type": "code",
   "execution_count": 122,
   "metadata": {},
   "outputs": [
    {
     "data": {
      "text/plain": [
       "24"
      ]
     },
     "execution_count": 122,
     "metadata": {},
     "output_type": "execute_result"
    }
   ],
   "source": [
    "from typing import List\n",
    "\n",
    "\n",
    "def largest_container(heights: List[int]) -> int:\n",
    "    # initialize max_container\n",
    "    max_container = 0\n",
    "\n",
    "    # initialize left, right pointers\n",
    "    left = 0\n",
    "    right = len(heights) - 1\n",
    "\n",
    "    # while left < right run the loop\n",
    "    while left < right:\n",
    "        # compute the container width\n",
    "        container = min(heights[left], heights[right]) * (right - left)\n",
    "        # if container > max_container. update max_container\n",
    "        if container > max_container:\n",
    "            max_container = container\n",
    "        # if left ht < rt ht, move left inward\n",
    "        if heights[left] < heights[right]:\n",
    "            left += 1\n",
    "        # elif left ht > rt ht, move right inward\n",
    "        elif heights[left] > heights[right]:\n",
    "            right -= 1\n",
    "        # if both are same, move both inward\n",
    "        else:\n",
    "            left += 1\n",
    "            right -= 1\n",
    "    # once the loop ends, return the max_container\n",
    "    return max_container\n",
    "\n",
    "\n",
    "heights = [2, 7, 8, 3, 7, 6]\n",
    "largest_container(heights=heights)"
   ]
  },
  {
   "cell_type": "markdown",
   "metadata": {},
   "source": [
    "## Shift Zeroes to the End (refer pdf)"
   ]
  },
  {
   "cell_type": "code",
   "execution_count": 154,
   "metadata": {},
   "outputs": [
    {
     "data": {
      "text/plain": [
       "[1, 3, 2, 0, 0]"
      ]
     },
     "execution_count": 154,
     "metadata": {},
     "output_type": "execute_result"
    }
   ],
   "source": [
    "# naive approach\n",
    "from typing import List\n",
    "\n",
    "\n",
    "def shift_zeros_to_the_end(nums: List[int]) -> None:\n",
    "    counter = 0\n",
    "    for num in nums:\n",
    "        if num == 0:\n",
    "            nums.remove(0)\n",
    "            nums.append(0)\n",
    "    return nums\n",
    "\n",
    "\n",
    "nums = [0, 1, 0, 3, 2]\n",
    "shift_zeros_to_the_end(nums=nums)"
   ]
  },
  {
   "cell_type": "code",
   "execution_count": 172,
   "metadata": {},
   "outputs": [
    {
     "data": {
      "text/plain": [
       "[1, 3, 2, 0, 0]"
      ]
     },
     "execution_count": 172,
     "metadata": {},
     "output_type": "execute_result"
    }
   ],
   "source": [
    "# swap approach\n",
    "from typing import List\n",
    "\n",
    "\n",
    "def shift_zeros_to_the_end(nums: List[int]) -> None:\n",
    "    left = 0\n",
    "    for right in range(len(nums)):\n",
    "        if nums[right] != 0:\n",
    "            nums[left], nums[right] = nums[right], nums[left]\n",
    "            left += 1\n",
    "    return nums\n",
    "\n",
    "\n",
    "nums = [0, 1, 0, 3, 2]\n",
    "shift_zeros_to_the_end(nums=nums)"
   ]
  },
  {
   "cell_type": "markdown",
   "metadata": {},
   "source": [
    "## Next Lexographical Sequence"
   ]
  },
  {
   "cell_type": "code",
   "execution_count": null,
   "metadata": {},
   "outputs": [],
   "source": []
  },
  {
   "cell_type": "code",
   "execution_count": null,
   "metadata": {},
   "outputs": [],
   "source": []
  }
 ],
 "metadata": {
  "kernelspec": {
   "display_name": ".venv",
   "language": "python",
   "name": "python3"
  },
  "language_info": {
   "codemirror_mode": {
    "name": "ipython",
    "version": 3
   },
   "file_extension": ".py",
   "mimetype": "text/x-python",
   "name": "python",
   "nbconvert_exporter": "python",
   "pygments_lexer": "ipython3",
   "version": "3.11.10"
  }
 },
 "nbformat": 4,
 "nbformat_minor": 2
}
