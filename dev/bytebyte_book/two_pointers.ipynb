{
 "cells": [
  {
   "cell_type": "markdown",
   "metadata": {},
   "source": [
    "# TWO POINTERS\n"
   ]
  },
  {
   "cell_type": "markdown",
   "metadata": {},
   "source": [
    "## Pair Sum - Sorted\n"
   ]
  },
  {
   "cell_type": "markdown",
   "metadata": {},
   "source": [
    "Given an array of integers sorted in ascending order and a target value, return the indexes of any pair of numbers in the array that sum to the target. The order of the indexes in the result doesn't matter. If no pair is found, return an empty array.\n",
    "\n",
    "Example 1:\n",
    "Input: nums = [-5, -2, 3, 4, 6], target = 7\n",
    "Output: [2, 3]\n",
    "Explanation: nums[2] + nums[3] = 3 + 4 = 7\n",
    "\n",
    "Example 2:\n",
    "Input: nums = [1, 1, 1], target = 2\n",
    "Output: [0, 1]\n",
    "Explanation: other valid outputs could be [1, 0], [0, 2], [2, 0], [1, 2] or [2, 1].\n"
   ]
  },
  {
   "cell_type": "code",
   "execution_count": 7,
   "metadata": {},
   "outputs": [
    {
     "name": "stdout",
     "output_type": "stream",
     "text": [
      "[0, 2]\n"
     ]
    }
   ],
   "source": [
    "from typing import List\n",
    "\n",
    "\n",
    "def pair_sum_sorted(nums: List[int], target: int) -> List[int]:\n",
    "    # initialize pointers\n",
    "    left = 0\n",
    "    right = len(nums) - 1\n",
    "    # a loop runs until left, right are not equal\n",
    "    while left < right:\n",
    "        # get the sum of 2 numbers using left, right indexes\n",
    "        sum = nums[left] + nums[right]\n",
    "        # if sum < target (increase the left)\n",
    "        if sum < target:\n",
    "            left += 1\n",
    "        # elif sum > target (decrease the right)\n",
    "        elif sum > target:\n",
    "            right -= 1\n",
    "        # else sum == target, end the loop return left, right indexes\n",
    "        else:\n",
    "            return [left, right]\n",
    "    # return an empty list\n",
    "    return []\n",
    "\n",
    "\n",
    "nums = [1, 1, 1]\n",
    "target = 2\n",
    "\n",
    "print(pair_sum_sorted(nums, target))"
   ]
  },
  {
   "cell_type": "markdown",
   "metadata": {},
   "source": [
    "## Triplet sum\n"
   ]
  },
  {
   "cell_type": "code",
   "execution_count": null,
   "metadata": {},
   "outputs": [],
   "source": []
  },
  {
   "cell_type": "code",
   "execution_count": null,
   "metadata": {},
   "outputs": [],
   "source": []
  }
 ],
 "metadata": {
  "kernelspec": {
   "display_name": ".venv",
   "language": "python",
   "name": "python3"
  },
  "language_info": {
   "codemirror_mode": {
    "name": "ipython",
    "version": 3
   },
   "file_extension": ".py",
   "mimetype": "text/x-python",
   "name": "python",
   "nbconvert_exporter": "python",
   "pygments_lexer": "ipython3",
   "version": "3.11.10"
  }
 },
 "nbformat": 4,
 "nbformat_minor": 2
}
