{
 "cells": [
  {
   "cell_type": "markdown",
   "metadata": {},
   "source": [
    "# FAST AND SLOW POINTERS\n"
   ]
  },
  {
   "cell_type": "markdown",
   "metadata": {},
   "source": [
    "## LINKED LIST LOOP\n"
   ]
  },
  {
   "cell_type": "code",
   "execution_count": 33,
   "metadata": {},
   "outputs": [],
   "source": [
    "class ListNode:\n",
    "    def __init__(self, val=0, next=None):\n",
    "        self.val = val\n",
    "        self.next = next"
   ]
  },
  {
   "cell_type": "code",
   "execution_count": 41,
   "metadata": {},
   "outputs": [],
   "source": [
    "def create_linked_list_with_loop():\n",
    "    # Create nodes\n",
    "    nodes = [ListNode(i) for i in range(6)]\n",
    "\n",
    "    # Link nodes\n",
    "    for i in range(5):\n",
    "        nodes[i].next = nodes[i + 1]\n",
    "\n",
    "    # Create loop 5 -> 2\n",
    "    nodes[5].next = nodes[2]\n",
    "\n",
    "    # Return the head of the linked list\n",
    "    return nodes[0]\n",
    "\n",
    "\n",
    "# Create linked list with loop\n",
    "head = create_linked_list_with_loop()"
   ]
  },
  {
   "cell_type": "code",
   "execution_count": 42,
   "metadata": {},
   "outputs": [
    {
     "name": "stdout",
     "output_type": "stream",
     "text": [
      "0 -> 1 -> 2 -> 3 -> 4 -> 5 -> Loop detected at node with val: 2\n",
      "End\n"
     ]
    }
   ],
   "source": [
    "# display the list\n",
    "# To display the vals in the list for visual confirmation, we'll implement a simple method\n",
    "\n",
    "\n",
    "# to follow the next pointers, but stop if the loop is detected.\n",
    "def display_linked_list_simple(head):\n",
    "    visited = set()\n",
    "    current = head\n",
    "    while current:\n",
    "        if current in visited:\n",
    "            print(f\"Loop detected at node with val: {current.val}\")\n",
    "            break\n",
    "        visited.add(current)\n",
    "        print(current.val, end=\" -> \")\n",
    "        current = current.next\n",
    "    print(\"End\")\n",
    "\n",
    "\n",
    "# Display the linked list with loop\n",
    "display_linked_list_simple(head)"
   ]
  },
  {
   "cell_type": "code",
   "execution_count": 50,
   "metadata": {},
   "outputs": [
    {
     "data": {
      "text/plain": [
       "True"
      ]
     },
     "execution_count": 50,
     "metadata": {},
     "output_type": "execute_result"
    }
   ],
   "source": [
    "# linked list efficient\n",
    "def linked_list_loop(head):\n",
    "    slow = fast = head\n",
    "\n",
    "    while fast and fast.next:\n",
    "        slow = slow.next\n",
    "        fast = fast.next.next\n",
    "        if fast == slow:\n",
    "            return True\n",
    "    return False\n",
    "\n",
    "\n",
    "linked_list_loop(head)"
   ]
  },
  {
   "cell_type": "markdown",
   "metadata": {},
   "source": [
    "## LINKED LIST MIDPOINT\n"
   ]
  },
  {
   "cell_type": "code",
   "execution_count": null,
   "metadata": {},
   "outputs": [],
   "source": []
  },
  {
   "cell_type": "markdown",
   "metadata": {},
   "source": [
    "## HAPPY NUMBER\n"
   ]
  },
  {
   "cell_type": "code",
   "execution_count": null,
   "metadata": {},
   "outputs": [],
   "source": []
  }
 ],
 "metadata": {
  "kernelspec": {
   "display_name": ".venv",
   "language": "python",
   "name": "python3"
  },
  "language_info": {
   "codemirror_mode": {
    "name": "ipython",
    "version": 3
   },
   "file_extension": ".py",
   "mimetype": "text/x-python",
   "name": "python",
   "nbconvert_exporter": "python",
   "pygments_lexer": "ipython3",
   "version": "3.11.11"
  }
 },
 "nbformat": 4,
 "nbformat_minor": 2
}
