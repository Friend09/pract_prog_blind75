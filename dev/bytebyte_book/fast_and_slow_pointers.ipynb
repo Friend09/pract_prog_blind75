{
 "cells": [
  {
   "cell_type": "markdown",
   "metadata": {},
   "source": [
    "# FAST AND SLOW POINTERS\n"
   ]
  },
  {
   "cell_type": "markdown",
   "metadata": {},
   "source": [
    "## LINKED LIST LOOP\n"
   ]
  },
  {
   "cell_type": "code",
   "execution_count": 33,
   "metadata": {},
   "outputs": [],
   "source": [
    "class ListNode:\n",
    "    def __init__(self, val=0, next=None):\n",
    "        self.val = val\n",
    "        self.next = next"
   ]
  },
  {
   "cell_type": "code",
   "execution_count": 41,
   "metadata": {},
   "outputs": [],
   "source": [
    "def create_linked_list_with_loop():\n",
    "    # Create nodes\n",
    "    nodes = [ListNode(i) for i in range(6)]\n",
    "\n",
    "    # Link nodes\n",
    "    for i in range(5):\n",
    "        nodes[i].next = nodes[i + 1]\n",
    "\n",
    "    # Create loop 5 -> 2\n",
    "    nodes[5].next = nodes[2]\n",
    "\n",
    "    # Return the head of the linked list\n",
    "    return nodes[0]\n",
    "\n",
    "\n",
    "# Create linked list with loop\n",
    "head = create_linked_list_with_loop()"
   ]
  },
  {
   "cell_type": "code",
   "execution_count": 42,
   "metadata": {},
   "outputs": [
    {
     "name": "stdout",
     "output_type": "stream",
     "text": [
      "0 -> 1 -> 2 -> 3 -> 4 -> 5 -> Loop detected at node with val: 2\n",
      "End\n"
     ]
    }
   ],
   "source": [
    "# display the list\n",
    "# To display the vals in the list for visual confirmation, we'll implement a simple method\n",
    "\n",
    "\n",
    "# to follow the next pointers, but stop if the loop is detected.\n",
    "def display_linked_list_simple(head):\n",
    "    visited = set()\n",
    "    current = head\n",
    "    while current:\n",
    "        if current in visited:\n",
    "            print(f\"Loop detected at node with val: {current.val}\")\n",
    "            break\n",
    "        visited.add(current)\n",
    "        print(current.val, end=\" -> \")\n",
    "        current = current.next\n",
    "    print(\"End\")\n",
    "\n",
    "\n",
    "# Display the linked list with loop\n",
    "display_linked_list_simple(head)"
   ]
  },
  {
   "cell_type": "code",
   "execution_count": 50,
   "metadata": {},
   "outputs": [
    {
     "data": {
      "text/plain": [
       "True"
      ]
     },
     "execution_count": 50,
     "metadata": {},
     "output_type": "execute_result"
    }
   ],
   "source": [
    "# linked list efficient\n",
    "def linked_list_loop(head):\n",
    "    slow = fast = head\n",
    "\n",
    "    while fast and fast.next:\n",
    "        slow = slow.next\n",
    "        fast = fast.next.next\n",
    "        if fast == slow:\n",
    "            return True\n",
    "    return False\n",
    "\n",
    "\n",
    "linked_list_loop(head)"
   ]
  },
  {
   "cell_type": "markdown",
   "metadata": {},
   "source": [
    "## LINKED LIST MIDPOINT\n"
   ]
  },
  {
   "cell_type": "code",
   "execution_count": 3,
   "metadata": {},
   "outputs": [],
   "source": [
    "class ListNode:\n",
    "    def __init__(self, val=0, next=None):\n",
    "        self.val = val\n",
    "        self.next = next"
   ]
  },
  {
   "cell_type": "code",
   "execution_count": 23,
   "metadata": {},
   "outputs": [],
   "source": [
    "# create and define linked list\n",
    "def create_linked_list(values):\n",
    "    if not values:\n",
    "        return None\n",
    "\n",
    "    head = ListNode(values[0])\n",
    "    curr_node = head\n",
    "\n",
    "    for value in values[1:]:\n",
    "        curr_node.next = ListNode(value)\n",
    "        curr_node = curr_node.next\n",
    "\n",
    "    return head"
   ]
  },
  {
   "cell_type": "code",
   "execution_count": 45,
   "metadata": {},
   "outputs": [
    {
     "name": "stdout",
     "output_type": "stream",
     "text": [
      "1->2->4->7->3\n"
     ]
    }
   ],
   "source": [
    "def print_linked_list(head):\n",
    "    if not head:\n",
    "        print(\"Not a linked list OR empty\")\n",
    "\n",
    "    values = []\n",
    "    curr_node = head\n",
    "    while curr_node:\n",
    "        values.append(str(curr_node.val))\n",
    "        curr_node = curr_node.next\n",
    "    print(\"->\".join(values))\n",
    "\n",
    "\n",
    "values = [1, 2, 4, 7, 3]\n",
    "head = create_linked_list(values=values)\n",
    "print_linked_list(head)"
   ]
  },
  {
   "cell_type": "code",
   "execution_count": 46,
   "metadata": {},
   "outputs": [
    {
     "name": "stdout",
     "output_type": "stream",
     "text": [
      "1->2->4->7->3\n",
      "4\n"
     ]
    },
    {
     "data": {
      "text/plain": [
       "<__main__.ListNode at 0x111240f90>"
      ]
     },
     "execution_count": 46,
     "metadata": {},
     "output_type": "execute_result"
    }
   ],
   "source": [
    "def linked_list_midpoint(head: ListNode) -> ListNode:\n",
    "    # define pointers\n",
    "    slow = fast = head\n",
    "    print_linked_list(head)\n",
    "\n",
    "    # end if an empty list\n",
    "    if not head:\n",
    "        return None\n",
    "\n",
    "    # loop over the list\n",
    "    while fast and fast.next:\n",
    "        slow = slow.next\n",
    "        fast = fast.next.next\n",
    "    print(slow.val)\n",
    "    return slow\n",
    "\n",
    "\n",
    "linked_list_midpoint(head)"
   ]
  },
  {
   "cell_type": "code",
   "execution_count": null,
   "metadata": {},
   "outputs": [],
   "source": []
  },
  {
   "cell_type": "code",
   "execution_count": null,
   "metadata": {},
   "outputs": [],
   "source": []
  },
  {
   "cell_type": "code",
   "execution_count": null,
   "metadata": {},
   "outputs": [],
   "source": []
  },
  {
   "cell_type": "markdown",
   "metadata": {},
   "source": [
    "## HAPPY NUMBER\n"
   ]
  },
  {
   "cell_type": "code",
   "execution_count": 42,
   "metadata": {},
   "outputs": [
    {
     "name": "stdout",
     "output_type": "stream",
     "text": [
      "14\n",
      "17\n",
      "==\n",
      "17\n",
      "25\n",
      "==\n",
      "50\n",
      "85\n",
      "==\n",
      "25\n",
      "145\n",
      "==\n",
      "29\n",
      "20\n",
      "==\n",
      "85\n",
      "16\n",
      "==\n",
      "89\n",
      "58\n",
      "==\n",
      "145\n",
      "145\n",
      "==\n"
     ]
    },
    {
     "data": {
      "text/plain": [
       "False"
      ]
     },
     "execution_count": 42,
     "metadata": {},
     "output_type": "execute_result"
    }
   ],
   "source": [
    "# check the happy number\n",
    "def happy_number(num: int) -> bool:  # here num is the head\n",
    "    slow = fast = num\n",
    "\n",
    "    while True:\n",
    "        slow = get_next_number(slow)\n",
    "        fast = get_next_number(get_next_number(fast))\n",
    "\n",
    "        if fast == 1:\n",
    "            return True\n",
    "        elif fast == slow:\n",
    "            return False\n",
    "\n",
    "\n",
    "# get the next number\n",
    "def get_next_number(num: int) -> int:\n",
    "    next_num = 0\n",
    "\n",
    "    # get the sum of squares\n",
    "    while num > 0:  # 123\n",
    "        # get the last digit from the number\n",
    "        digit = num % 10  # 3\n",
    "        # square and add it to the next digit\n",
    "        next_num += digit * digit  # 9\n",
    "        # remove the last digit from the digit\n",
    "        num //= 10\n",
    "    return next_num\n",
    "\n",
    "\n",
    "happy_number(123)"
   ]
  },
  {
   "cell_type": "code",
   "execution_count": 19,
   "metadata": {},
   "outputs": [
    {
     "data": {
      "text/plain": [
       "3"
      ]
     },
     "execution_count": 19,
     "metadata": {},
     "output_type": "execute_result"
    }
   ],
   "source": [
    "123 % 10"
   ]
  },
  {
   "cell_type": "code",
   "execution_count": 20,
   "metadata": {},
   "outputs": [
    {
     "data": {
      "text/plain": [
       "12"
      ]
     },
     "execution_count": 20,
     "metadata": {},
     "output_type": "execute_result"
    }
   ],
   "source": [
    "123 // 10"
   ]
  }
 ],
 "metadata": {
  "kernelspec": {
   "display_name": ".venv",
   "language": "python",
   "name": "python3"
  },
  "language_info": {
   "codemirror_mode": {
    "name": "ipython",
    "version": 3
   },
   "file_extension": ".py",
   "mimetype": "text/x-python",
   "name": "python",
   "nbconvert_exporter": "python",
   "pygments_lexer": "ipython3",
   "version": "3.11.11"
  }
 },
 "nbformat": 4,
 "nbformat_minor": 2
}
