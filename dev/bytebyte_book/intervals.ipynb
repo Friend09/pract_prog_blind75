{
 "cells": [
  {
   "cell_type": "markdown",
   "metadata": {},
   "source": [
    "# INTERVALS\n"
   ]
  },
  {
   "cell_type": "markdown",
   "metadata": {},
   "source": [
    "## merge_overlapping_intervals\n"
   ]
  },
  {
   "cell_type": "code",
   "execution_count": 28,
   "metadata": {},
   "outputs": [
    {
     "name": "stdout",
     "output_type": "stream",
     "text": [
      "2\n"
     ]
    }
   ],
   "source": [
    "from typing import List\n",
    "\n",
    "\n",
    "class Interval:\n",
    "    def __init__(self, start: int, end: int):\n",
    "        self.start = start\n",
    "        self.end = end\n",
    "\n",
    "    def __repr__(self):\n",
    "        return f\"{self.start} {self.end}\"\n",
    "\n",
    "\n",
    "test_interval = Interval(2, 3)\n",
    "print(test_interval.start)"
   ]
  },
  {
   "cell_type": "code",
   "execution_count": null,
   "metadata": {},
   "outputs": [
    {
     "name": "stdout",
     "output_type": "stream",
     "text": [
      "[1 4, 2 5, 3 4, 6 7, 7 8]\n",
      "merged: [1 4]\n",
      "A: 1 4\n",
      "merged A,B: [1 5]\n",
      "A: 1 5\n",
      "merged A,B: [1 5]\n",
      "A: 1 5\n",
      "merged B: [1 5, 6 7]\n",
      "A: 6 7\n",
      "merged A,B: [1 5, 6 8]\n"
     ]
    },
    {
     "data": {
      "text/plain": [
       "[1 5, 6 8]"
      ]
     },
     "execution_count": 38,
     "metadata": {},
     "output_type": "execute_result"
    }
   ],
   "source": [
    "from typing import List\n",
    "\n",
    "\n",
    "def merge_overlapping_intervals(intervals: List[Interval]) -> List[Interval]:\n",
    "    intervals = [Interval(interval[0], interval[1]) for interval in intervals]\n",
    "    intervals.sort(key=lambda x: x.start)\n",
    "    print(intervals)\n",
    "    merged = [intervals[0]]\n",
    "    print(f\"merged: {merged}\")\n",
    "    for B in intervals[1:]:\n",
    "        A = merged[-1]\n",
    "        print(f\"A: {A}\")\n",
    "\n",
    "        if A.end < B.start:  # no overlap\n",
    "            merged.append(B)\n",
    "            print(f\"merged B: {merged}\")\n",
    "        else:  # Merge A, B\n",
    "            merged[-1] = Interval(A.start, max(A.end, B.end))\n",
    "            print(f\"merged A,B: {merged}\")\n",
    "\n",
    "    return merged\n",
    "\n",
    "\n",
    "intervals = [[3, 4], [7, 8], [2, 5], [6, 7], [1, 4]]\n",
    "merge_overlapping_intervals(intervals)"
   ]
  },
  {
   "cell_type": "code",
   "execution_count": null,
   "metadata": {},
   "outputs": [],
   "source": []
  },
  {
   "cell_type": "code",
   "execution_count": null,
   "metadata": {},
   "outputs": [],
   "source": []
  },
  {
   "cell_type": "markdown",
   "metadata": {},
   "source": [
    "## identify_all_interval_overlaps\n"
   ]
  },
  {
   "cell_type": "code",
   "execution_count": 44,
   "metadata": {},
   "outputs": [
    {
     "name": "stdout",
     "output_type": "stream",
     "text": [
      "(2, 3)\n"
     ]
    }
   ],
   "source": [
    "from typing import List\n",
    "\n",
    "\n",
    "class Interval:\n",
    "    def __init__(self, start: int, end: int):\n",
    "        self.start = start\n",
    "        self.end = end\n",
    "\n",
    "    def __repr__(self):\n",
    "        return f\"{self.start, self.end}\"\n",
    "\n",
    "\n",
    "interval = Interval(2, 3)\n",
    "print(interval)"
   ]
  },
  {
   "cell_type": "code",
   "execution_count": null,
   "metadata": {},
   "outputs": [],
   "source": []
  },
  {
   "cell_type": "markdown",
   "metadata": {},
   "source": [
    "## largest_overlap_of_intervals\n"
   ]
  },
  {
   "cell_type": "code",
   "execution_count": null,
   "metadata": {},
   "outputs": [],
   "source": []
  }
 ],
 "metadata": {
  "kernelspec": {
   "display_name": ".venv",
   "language": "python",
   "name": "python3"
  },
  "language_info": {
   "codemirror_mode": {
    "name": "ipython",
    "version": 3
   },
   "file_extension": ".py",
   "mimetype": "text/x-python",
   "name": "python",
   "nbconvert_exporter": "python",
   "pygments_lexer": "ipython3",
   "version": "3.11.11"
  }
 },
 "nbformat": 4,
 "nbformat_minor": 2
}
