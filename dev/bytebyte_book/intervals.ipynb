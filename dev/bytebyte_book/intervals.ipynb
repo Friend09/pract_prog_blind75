{
 "cells": [
  {
   "cell_type": "markdown",
   "metadata": {},
   "source": [
    "# INTERVALS\n"
   ]
  },
  {
   "cell_type": "markdown",
   "metadata": {},
   "source": [
    "## merge_overlapping_intervals\n"
   ]
  },
  {
   "cell_type": "code",
   "execution_count": 28,
   "metadata": {},
   "outputs": [
    {
     "name": "stdout",
     "output_type": "stream",
     "text": [
      "2\n"
     ]
    }
   ],
   "source": [
    "from typing import List\n",
    "\n",
    "\n",
    "class Interval:\n",
    "    def __init__(self, start: int, end: int):\n",
    "        self.start = start\n",
    "        self.end = end\n",
    "\n",
    "    def __repr__(self):\n",
    "        return f\"{self.start} {self.end}\"\n",
    "\n",
    "\n",
    "test_interval = Interval(2, 3)\n",
    "print(test_interval.start)"
   ]
  },
  {
   "cell_type": "code",
   "execution_count": null,
   "metadata": {},
   "outputs": [
    {
     "name": "stdout",
     "output_type": "stream",
     "text": [
      "[1 4, 2 5, 3 4, 6 7, 7 8]\n",
      "merged: [1 4]\n",
      "A: 1 4\n",
      "merged A,B: [1 5]\n",
      "A: 1 5\n",
      "merged A,B: [1 5]\n",
      "A: 1 5\n",
      "merged B: [1 5, 6 7]\n",
      "A: 6 7\n",
      "merged A,B: [1 5, 6 8]\n"
     ]
    },
    {
     "data": {
      "text/plain": [
       "[1 5, 6 8]"
      ]
     },
     "execution_count": 38,
     "metadata": {},
     "output_type": "execute_result"
    }
   ],
   "source": [
    "from typing import List\n",
    "\n",
    "\n",
    "def merge_overlapping_intervals(intervals: List[Interval]) -> List[Interval]:\n",
    "    intervals = [Interval(interval[0], interval[1]) for interval in intervals]\n",
    "    intervals.sort(key=lambda x: x.start)\n",
    "    print(intervals)\n",
    "    merged = [intervals[0]]\n",
    "    print(f\"merged: {merged}\")\n",
    "    for B in intervals[1:]:\n",
    "        A = merged[-1]\n",
    "        print(f\"A: {A}\")\n",
    "\n",
    "        if A.end < B.start:  # no overlap\n",
    "            merged.append(B)\n",
    "            print(f\"merged B: {merged}\")\n",
    "        else:  # Merge A, B\n",
    "            merged[-1] = Interval(A.start, max(A.end, B.end))\n",
    "            print(f\"merged A,B: {merged}\")\n",
    "\n",
    "    return merged\n",
    "\n",
    "\n",
    "intervals = [[3, 4], [7, 8], [2, 5], [6, 7], [1, 4]]\n",
    "merge_overlapping_intervals(intervals)"
   ]
  },
  {
   "cell_type": "code",
   "execution_count": null,
   "metadata": {},
   "outputs": [],
   "source": []
  },
  {
   "cell_type": "code",
   "execution_count": null,
   "metadata": {},
   "outputs": [],
   "source": []
  },
  {
   "cell_type": "markdown",
   "metadata": {},
   "source": [
    "## identify_all_interval_overlaps\n"
   ]
  },
  {
   "cell_type": "code",
   "execution_count": 18,
   "metadata": {},
   "outputs": [
    {
     "name": "stdout",
     "output_type": "stream",
     "text": [
      "(2, 3)\n"
     ]
    }
   ],
   "source": [
    "from typing import List\n",
    "\n",
    "\n",
    "class Interval:\n",
    "    def __init__(self, start: int, end: int):\n",
    "        self.start = start\n",
    "        self.end = end\n",
    "\n",
    "    def __repr__(self):\n",
    "        return f\"{self.start, self.end}\"\n",
    "\n",
    "\n",
    "interval = Interval(2, 3)\n",
    "print(interval)"
   ]
  },
  {
   "cell_type": "code",
   "execution_count": 21,
   "metadata": {},
   "outputs": [
    {
     "data": {
      "text/plain": [
       "[(2, 4), (5, 6), (9, 9)]"
      ]
     },
     "execution_count": 21,
     "metadata": {},
     "output_type": "execute_result"
    }
   ],
   "source": [
    "def identify_all_interval_overlaps(\n",
    "    intervals1: List[Interval], intervals2: List[Interval]\n",
    ") -> List[Interval]:\n",
    "    intervals1 = [Interval(item[0], item[1]) for item in intervals1]\n",
    "    intervals2 = [Interval(item[0], item[1]) for item in intervals2]\n",
    "\n",
    "    overlaps = []\n",
    "    i = j = 0\n",
    "    while i < len(intervals1) and j < len(intervals2):\n",
    "        if intervals1[i].start <= intervals2[j].start:\n",
    "            A, B = intervals1[i], intervals2[j]\n",
    "        else:\n",
    "            A, B = intervals2[j], intervals1[i]\n",
    "\n",
    "        if A.end >= B.start:\n",
    "            overlaps.append(Interval(B.start, min(A.end, B.end)))\n",
    "\n",
    "        if intervals1[i].end < intervals2[j].end:\n",
    "            i += 1\n",
    "        else:\n",
    "            j += 1\n",
    "    return overlaps\n",
    "\n",
    "\n",
    "intervals1 = [[1, 4], [5, 6], [9, 10]]\n",
    "intervals2 = [[2, 7], [8, 9]]\n",
    "\n",
    "identify_all_interval_overlaps(intervals1, intervals2)"
   ]
  },
  {
   "cell_type": "code",
   "execution_count": null,
   "metadata": {},
   "outputs": [
    {
     "data": {
      "text/plain": [
       "[(1, 4), (5, 6), (9, 10)]"
      ]
     },
     "execution_count": 12,
     "metadata": {},
     "output_type": "execute_result"
    }
   ],
   "source": [
    "[Interval(item[0], item[1]) for item in intervals1]"
   ]
  },
  {
   "cell_type": "markdown",
   "metadata": {},
   "source": [
    "## largest_overlap_of_intervals\n"
   ]
  },
  {
   "cell_type": "code",
   "execution_count": 41,
   "metadata": {},
   "outputs": [
    {
     "data": {
      "text/plain": [
       "2, 3"
      ]
     },
     "execution_count": 41,
     "metadata": {},
     "output_type": "execute_result"
    }
   ],
   "source": [
    "from typing import List\n",
    "\n",
    "\n",
    "class Interval:\n",
    "    def __init__(self, start: int, end: int):\n",
    "        self.start = start\n",
    "        self.end = end\n",
    "\n",
    "    def __repr__(self):\n",
    "        return f\"{self.start}, {self.end}\"\n",
    "\n",
    "\n",
    "Interval(2, 3)"
   ]
  },
  {
   "cell_type": "code",
   "execution_count": 60,
   "metadata": {},
   "outputs": [
    {
     "name": "stdout",
     "output_type": "stream",
     "text": [
      "[(1, 'S'), (2, 'S'), (3, 'E'), (4, 'S'), (5, 'S'), (6, 'E'), (7, 'E'), (8, 'E')]\n",
      "\n",
      "point_type is: S\n",
      "active_intervals: 1\n",
      "max_overlaps is: 1\n",
      "\n",
      "point_type is: S\n",
      "active_intervals: 2\n",
      "max_overlaps is: 2\n",
      "\n",
      "point_type is: E\n",
      "active_intervals: 1\n",
      "max_overlaps is: 2\n",
      "\n",
      "point_type is: S\n",
      "active_intervals: 2\n",
      "max_overlaps is: 2\n",
      "\n",
      "point_type is: S\n",
      "active_intervals: 3\n",
      "max_overlaps is: 3\n",
      "\n",
      "point_type is: E\n",
      "active_intervals: 2\n",
      "max_overlaps is: 3\n",
      "\n",
      "point_type is: E\n",
      "active_intervals: 1\n",
      "max_overlaps is: 3\n",
      "\n",
      "point_type is: E\n",
      "active_intervals: 0\n",
      "max_overlaps is: 3\n",
      "\n"
     ]
    },
    {
     "data": {
      "text/plain": [
       "3"
      ]
     },
     "execution_count": 60,
     "metadata": {},
     "output_type": "execute_result"
    }
   ],
   "source": [
    "def largest_overlap_of_intervals(intervals: List[Interval]):\n",
    "    # Convert input intervals to Interval objects\n",
    "    intervals = [Interval(interval[0], interval[1]) for interval in intervals]\n",
    "\n",
    "    points = []\n",
    "    for interval in intervals:\n",
    "        points.append((interval.start, \"S\"))\n",
    "        points.append((interval.end, \"E\"))\n",
    "    points.sort(key=lambda x: (x[0], x[1]))\n",
    "    print(points, end=\"\\n\\n\")\n",
    "\n",
    "    active_intervals = 0\n",
    "    max_overlaps = 0\n",
    "\n",
    "    for time, point_type in points:\n",
    "        print(f\"point_type is: {point_type}\")\n",
    "        if point_type == \"S\":\n",
    "            active_intervals += 1\n",
    "        else:\n",
    "            active_intervals -= 1\n",
    "        print(f\"active_intervals: {active_intervals}\")\n",
    "        max_overlaps = max(max_overlaps, active_intervals)\n",
    "        print(f\"max_overlaps is: {max_overlaps}\", end=\"\\n\\n\")\n",
    "\n",
    "    return max_overlaps\n",
    "\n",
    "\n",
    "intervals = [[1, 3], [5, 7], [2, 6], [4, 8]]\n",
    "largest_overlap_of_intervals(intervals)"
   ]
  }
 ],
 "metadata": {
  "kernelspec": {
   "display_name": ".venv",
   "language": "python",
   "name": "python3"
  },
  "language_info": {
   "codemirror_mode": {
    "name": "ipython",
    "version": 3
   },
   "file_extension": ".py",
   "mimetype": "text/x-python",
   "name": "python",
   "nbconvert_exporter": "python",
   "pygments_lexer": "ipython3",
   "version": "3.11.11"
  }
 },
 "nbformat": 4,
 "nbformat_minor": 2
}
