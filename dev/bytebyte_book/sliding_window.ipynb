{
 "cells": [
  {
   "cell_type": "markdown",
   "metadata": {},
   "source": [
    "# SLIDING WINDOW"
   ]
  },
  {
   "cell_type": "markdown",
   "metadata": {},
   "source": [
    "## SUBSTRING ANAGRAMS"
   ]
  },
  {
   "cell_type": "markdown",
   "metadata": {},
   "source": [
    "Given two strings, `s` and `t`, both consisting of lowercase English letters, return the number of substrings in `s` that are anagrams of `t`.\n",
    "\n",
    "An anagram is a word or phrase formed by rearranging the letters of another word or phrase, using all the original letters exactly once.\n",
    "\n",
    "Example:\n",
    "Input: `s = 'caabab'`, `t = 'aba'`\n",
    "Output: `2`\n",
    "Explanation: There is an anagram of `t` starting at index 1 (\"caabab\") and another starting at index 2 (\"caabab\")."
   ]
  },
  {
   "cell_type": "code",
   "execution_count": 19,
   "metadata": {},
   "outputs": [
    {
     "data": {
      "text/plain": [
       "2"
      ]
     },
     "execution_count": 19,
     "metadata": {},
     "output_type": "execute_result"
    }
   ],
   "source": [
    "def substring_anagrams(s: str, t: str) -> int:\n",
    "    # Get the lengths of the strings s and t\n",
    "    len_s, len_t = len(s), len(t)\n",
    "\n",
    "    # If t is longer than s, there can't be any anagrams of t in s\n",
    "    if len_t > len_s:\n",
    "        return 0\n",
    "\n",
    "    # Initialize the count of anagrams found\n",
    "    count = 0\n",
    "\n",
    "    # Initialize frequency arrays for characters in t and the current window in s\n",
    "    expected_freqs, window_freqs = [0] * 26, [0] * 26\n",
    "\n",
    "    # Populate the expected frequency array with characters from t\n",
    "    for char in t:\n",
    "        expected_freqs[ord(char) - ord(\"a\")] += 1\n",
    "\n",
    "    # Initialize the sliding window pointers\n",
    "    left = right = 0\n",
    "\n",
    "    # Slide the window over s\n",
    "    while right < len_s:\n",
    "        # Add the character at the right pointer to the window frequency array\n",
    "        window_freqs[ord(s[right]) - ord(\"a\")] += 1\n",
    "\n",
    "        # Check if the window length is equal to the length of t\n",
    "        if right - left + 1 == len_t:\n",
    "            # If the frequency arrays match, we found an anagram\n",
    "            if window_freqs == expected_freqs:\n",
    "                count += 1\n",
    "            # Remove the character at the left pointer from the window frequency array\n",
    "            window_freqs[ord(s[left]) - ord(\"a\")] -= 1\n",
    "            # Move the left pointer to the right\n",
    "            left += 1\n",
    "\n",
    "        # Move the right pointer to the right\n",
    "        right += 1\n",
    "\n",
    "    return count\n",
    "\n",
    "\n",
    "# Input:\n",
    "s = \"caabab\"\n",
    "t = \"aba\"\n",
    "\n",
    "# Call the function and print the result\n",
    "substring_anagrams(s, t)"
   ]
  },
  {
   "cell_type": "markdown",
   "metadata": {},
   "source": [
    "## LONGEST SUBSTRING W/ UNIQUE CHARACTERS"
   ]
  },
  {
   "cell_type": "markdown",
   "metadata": {},
   "source": [
    "### sliding window w/ no optimization"
   ]
  },
  {
   "cell_type": "code",
   "execution_count": 18,
   "metadata": {},
   "outputs": [
    {
     "name": "stdout",
     "output_type": "stream",
     "text": [
      "3\n"
     ]
    }
   ],
   "source": [
    "def longest_substring_with_unique_chars(s: str) -> int:\n",
    "    # define variables\n",
    "    len_s = len(s)\n",
    "    max_len = 0\n",
    "    hash_set = set()\n",
    "    left = right = 0\n",
    "\n",
    "    while right < len_s:\n",
    "        while s[right] in hash_set:\n",
    "            hash_set.remove(s[left])\n",
    "            left += 1\n",
    "        max_len = max(max_len, right - left + 1)\n",
    "        hash_set.add(s[right])\n",
    "        # expand the window\n",
    "        right += 1\n",
    "    return max_len\n",
    "\n",
    "\n",
    "s = \"abcba\"\n",
    "\n",
    "print(longest_substring_with_unique_chars(s))"
   ]
  },
  {
   "cell_type": "markdown",
   "metadata": {},
   "source": [
    "### sliding window w/ optimization - unique chars"
   ]
  },
  {
   "cell_type": "code",
   "execution_count": 27,
   "metadata": {},
   "outputs": [
    {
     "name": "stdout",
     "output_type": "stream",
     "text": [
      "3\n"
     ]
    }
   ],
   "source": [
    "def longest_substring_with_unique_chars_optimized(s: str) -> int:\n",
    "    # define constants\n",
    "    len_s = len(s)\n",
    "    max_len = 0\n",
    "    prev_indexes = {}  # \"a\" : 0, \"b\": 1,....\n",
    "    left = right = 0\n",
    "\n",
    "    # loop over the string\n",
    "    while right < len_s:\n",
    "        if s[right] in prev_indexes and prev_indexes[s[right]] >= left:\n",
    "            left = prev_indexes[s[right]] + 1\n",
    "        max_len = max(max_len, right - left + 1)\n",
    "        prev_indexes[s[right]] = right\n",
    "        right += 1\n",
    "    return max_len\n",
    "\n",
    "\n",
    "s = \"abcba\"\n",
    "print(longest_substring_with_unique_chars_optimized(s))"
   ]
  },
  {
   "cell_type": "markdown",
   "metadata": {},
   "source": [
    "## LONGEST UNIFORM SUBSTRING AFTER REPLACEMENTS"
   ]
  },
  {
   "cell_type": "code",
   "execution_count": null,
   "metadata": {},
   "outputs": [],
   "source": []
  }
 ],
 "metadata": {
  "kernelspec": {
   "display_name": ".venv",
   "language": "python",
   "name": "python3"
  },
  "language_info": {
   "codemirror_mode": {
    "name": "ipython",
    "version": 3
   },
   "file_extension": ".py",
   "mimetype": "text/x-python",
   "name": "python",
   "nbconvert_exporter": "python",
   "pygments_lexer": "ipython3",
   "version": "3.11.11"
  }
 },
 "nbformat": 4,
 "nbformat_minor": 2
}
