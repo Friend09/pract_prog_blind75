{
 "cells": [
  {
   "cell_type": "markdown",
   "id": "b9f3f341",
   "metadata": {},
   "source": [
    "# TRIES\n"
   ]
  },
  {
   "cell_type": "markdown",
   "id": "92c67f23",
   "metadata": {},
   "source": [
    "## Design a Trie - Medium\n"
   ]
  },
  {
   "cell_type": "code",
   "execution_count": 1,
   "id": "8a2db663",
   "metadata": {},
   "outputs": [],
   "source": [
    "class TrieNode:\n",
    "    def __init__(self):\n",
    "        self.children = {}\n",
    "        self.is_word = False"
   ]
  },
  {
   "cell_type": "code",
   "execution_count": null,
   "id": "f49caa9e",
   "metadata": {},
   "outputs": [],
   "source": [
    "class Trie:\n",
    "    def __init__(self):\n",
    "        self.root = TrieNode()\n",
    "\n",
    "    def insert(self, word: str) -> None:\n",
    "        node = self.root\n",
    "\n",
    "        for c in word:\n",
    "            if c not in node.children:\n",
    "                node.children[c] = TrieNode()\n",
    "            node = node.children[c]\n",
    "        node.is_word = True\n",
    "\n",
    "    def search(self, word: str) -> bool:\n",
    "        node = self.root\n",
    "        for c in word:\n",
    "            if c not in node.children:\n",
    "                return False\n",
    "            node = node.children[c]\n",
    "        return node.is_word\n",
    "\n",
    "    def has_prefix(self, prefix: str) -> bool:\n",
    "        node = self.root\n",
    "        for c in prefix:\n",
    "            if c not in node.children:\n",
    "                return False\n",
    "            node = node.children[c]\n",
    "        return True\n"
   ]
  },
  {
   "cell_type": "code",
   "execution_count": 20,
   "id": "df8616f8",
   "metadata": {},
   "outputs": [],
   "source": [
    "some_trie = Trie()"
   ]
  },
  {
   "cell_type": "code",
   "execution_count": 21,
   "id": "78757d8b",
   "metadata": {},
   "outputs": [
    {
     "name": "stdout",
     "output_type": "stream",
     "text": [
      "Inserted 'top'\n",
      "Inserted 'bye'\n",
      "Has prefix 'to': False\n",
      "Search 'to': False\n",
      "Inserted 'to'\n",
      "Search 'to': True\n"
     ]
    }
   ],
   "source": [
    "# Test the trie with various operations\n",
    "operations = [\n",
    "    ('insert', 'top'),\n",
    "    ('insert', 'bye'),\n",
    "    ('has_prefix', 'to'),\n",
    "    ('search', 'to'),\n",
    "    ('insert', 'to'),\n",
    "    ('search', 'to')\n",
    "]\n",
    "\n",
    "# Execute operations and print results\n",
    "for operation, word in operations:\n",
    "    if operation == 'insert':\n",
    "        some_trie.insert(word)\n",
    "        print(f\"Inserted '{word}'\")\n",
    "    elif operation == 'search':\n",
    "        result = some_trie.search(word)\n",
    "        print(f\"Search '{word}': {result}\")\n",
    "    elif operation == 'has_prefix':\n",
    "        result = some_trie.has_prefix(word)\n",
    "        print(f\"Has prefix '{word}': {result}\")"
   ]
  },
  {
   "cell_type": "markdown",
   "id": "b7f2b63d",
   "metadata": {},
   "source": [
    "## Insert and Search Words with Wildcards - Medium\n"
   ]
  },
  {
   "cell_type": "code",
   "execution_count": null,
   "id": "7564cc54",
   "metadata": {},
   "outputs": [],
   "source": []
  },
  {
   "cell_type": "markdown",
   "id": "7aef2fdd",
   "metadata": {},
   "source": [
    "## Find All Words on a Board - Hard\n"
   ]
  },
  {
   "cell_type": "code",
   "execution_count": null,
   "id": "b57c3eec",
   "metadata": {},
   "outputs": [],
   "source": []
  }
 ],
 "metadata": {
  "kernelspec": {
   "display_name": "pract_prog_blind75",
   "language": "python",
   "name": "python3"
  },
  "language_info": {
   "codemirror_mode": {
    "name": "ipython",
    "version": 3
   },
   "file_extension": ".py",
   "mimetype": "text/x-python",
   "name": "python",
   "nbconvert_exporter": "python",
   "pygments_lexer": "ipython3",
   "version": "3.12.7"
  }
 },
 "nbformat": 4,
 "nbformat_minor": 5
}
