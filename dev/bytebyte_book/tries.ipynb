{
 "cells": [
  {
   "cell_type": "markdown",
   "id": "b9f3f341",
   "metadata": {},
   "source": [
    "# TRIES"
   ]
  },
  {
   "cell_type": "markdown",
   "id": "92c67f23",
   "metadata": {},
   "source": [
    "## Design a Trie - Medium\n"
   ]
  },
  {
   "cell_type": "code",
   "execution_count": null,
   "id": "8a2db663",
   "metadata": {
    "vscode": {
     "languageId": "plaintext"
    }
   },
   "outputs": [],
   "source": []
  },
  {
   "cell_type": "markdown",
   "id": "b7f2b63d",
   "metadata": {},
   "source": [
    "## Insert and Search Words with Wildcards - Medium\n"
   ]
  },
  {
   "cell_type": "code",
   "execution_count": null,
   "id": "7564cc54",
   "metadata": {
    "vscode": {
     "languageId": "plaintext"
    }
   },
   "outputs": [],
   "source": []
  },
  {
   "cell_type": "markdown",
   "id": "7aef2fdd",
   "metadata": {},
   "source": [
    "## Find All Words on a Board - Hard\n"
   ]
  },
  {
   "cell_type": "code",
   "execution_count": null,
   "id": "b57c3eec",
   "metadata": {
    "vscode": {
     "languageId": "plaintext"
    }
   },
   "outputs": [],
   "source": []
  }
 ],
 "metadata": {
  "language_info": {
   "name": "python"
  }
 },
 "nbformat": 4,
 "nbformat_minor": 5
}
