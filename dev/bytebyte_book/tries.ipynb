{
 "cells": [
  {
   "cell_type": "markdown",
   "id": "b9f3f341",
   "metadata": {},
   "source": [
    "# TRIES"
   ]
  },
  {
   "cell_type": "markdown",
   "id": "92c67f23",
   "metadata": {},
   "source": [
    "## Design a Trie - Medium\n"
   ]
  },
  {
   "cell_type": "code",
   "execution_count": 2,
   "id": "8a2db663",
   "metadata": {},
   "outputs": [],
   "source": [
    "class TrieNode:\n",
    "    def __init__(self):\n",
    "        self.children = {}\n",
    "        self.is_word = False"
   ]
  },
  {
   "cell_type": "code",
   "execution_count": null,
   "id": "f49caa9e",
   "metadata": {},
   "outputs": [],
   "source": [
    "class Trie:\n",
    "    def __init__(self):\n",
    "        self.root = TrieNode()\n",
    "\n",
    "    def insert(self, word: str) -> None:\n",
    "        node = self.root\n",
    "        for c in word:\n",
    "            if c not in node.children:\n",
    "                node.children[c] = TrieNode()\n",
    "            node = node.children[c]\n"
   ]
  },
  {
   "cell_type": "markdown",
   "id": "b7f2b63d",
   "metadata": {},
   "source": [
    "## Insert and Search Words with Wildcards - Medium\n"
   ]
  },
  {
   "cell_type": "code",
   "execution_count": null,
   "id": "7564cc54",
   "metadata": {},
   "outputs": [],
   "source": []
  },
  {
   "cell_type": "markdown",
   "id": "7aef2fdd",
   "metadata": {},
   "source": [
    "## Find All Words on a Board - Hard\n"
   ]
  },
  {
   "cell_type": "code",
   "execution_count": null,
   "id": "b57c3eec",
   "metadata": {},
   "outputs": [],
   "source": []
  }
 ],
 "metadata": {
  "kernelspec": {
   "display_name": "pract_prog_blind75",
   "language": "python",
   "name": "python3"
  },
  "language_info": {
   "codemirror_mode": {
    "name": "ipython",
    "version": 3
   },
   "file_extension": ".py",
   "mimetype": "text/x-python",
   "name": "python",
   "nbconvert_exporter": "python",
   "pygments_lexer": "ipython3",
   "version": "3.12.7"
  }
 },
 "nbformat": 4,
 "nbformat_minor": 5
}
