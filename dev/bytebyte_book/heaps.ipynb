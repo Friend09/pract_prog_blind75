{
 "cells": [
  {
   "cell_type": "markdown",
   "metadata": {},
   "source": [
    "# HEAPS"
   ]
  },
  {
   "cell_type": "markdown",
   "metadata": {},
   "source": [
    "## K Most Frequent Strings - Medium\n"
   ]
  },
  {
   "cell_type": "code",
   "execution_count": null,
   "metadata": {},
   "outputs": [
    {
     "name": "stdout",
     "output_type": "stream",
     "text": [
      "[(go, 4), (coding, 1), (byte, 2), (interview, 1), (python, 2), (c++, 3), (rust, 2)]\n",
      "[(go, 4), (python, 2), (c++, 3), (interview, 1), (coding, 1), (byte, 2), (rust, 2)]\n"
     ]
    },
    {
     "data": {
      "text/plain": [
       "['go', 'c++']"
      ]
     },
     "execution_count": 31,
     "metadata": {},
     "output_type": "execute_result"
    }
   ],
   "source": [
    "from collections import Counter\n",
    "import heapq\n",
    "from typing import List\n",
    "\n",
    "\n",
    "class Pair:\n",
    "    def __init__(self, str, freq):\n",
    "        self.str = str\n",
    "        self.freq = freq\n",
    "\n",
    "    def __lt__(self, other):\n",
    "        if self.freq == other.freq:\n",
    "            return self.str < other.str\n",
    "        return self.freq > other.freq\n",
    "\n",
    "    def __repr__(self):\n",
    "        return f\"({self.str}, {self.freq})\"  # Display both attributes\n",
    "\n",
    "\n",
    "def k_most_frequent_strings(strs: List[str], k: int) -> List[str]:\n",
    "    # get lookup table\n",
    "    freqs = Counter(strs)\n",
    "    # create a list for heap using pair class\n",
    "    max_heap = [Pair(str, freq) for str, freq in freqs.items()]\n",
    "    print(max_heap)  # before max heap\n",
    "    heapq.heapify(max_heap)\n",
    "    print(max_heap)  # after max heap\n",
    "    return [heapq.heappop(max_heap).str for _ in range(k)]\n",
    "\n",
    "\n",
    "# strs = [\"coding\", \"interview\"]\n",
    "strs = [\n",
    "    \"go\",\n",
    "    \"coding\",\n",
    "    \"byte\",\n",
    "    \"byte\",\n",
    "    \"go\",\n",
    "    \"interview\",\n",
    "    \"go\",\n",
    "    \"python\",\n",
    "    \"go\",\n",
    "    \"python\",\n",
    "    \"c++\",\n",
    "    \"c++\",\n",
    "    \"c++\",\n",
    "    \"rust\",\n",
    "    \"rust\",\n",
    "]\n",
    "k = 2\n",
    "\n",
    "k_most_frequent_strings(strs, k)"
   ]
  },
  {
   "cell_type": "code",
   "execution_count": null,
   "metadata": {},
   "outputs": [
    {
     "name": "stdout",
     "output_type": "stream",
     "text": [
      "[60, 16, 50, 10, 15, 30, 8]\n"
     ]
    }
   ],
   "source": [
    "# to convert a list in first min heap then into a max heap\n",
    "a_list = [30, 16, 8, 10, 15, 50, 60]\n",
    "b_list = [-item for item in a_list]\n",
    "heapq.heapify(b_list)\n",
    "\n",
    "a_list = [-item for item in b_list]\n",
    "\n",
    "print(a_list)"
   ]
  },
  {
   "cell_type": "markdown",
   "metadata": {},
   "source": [
    "## Combine Sorted Linked Lists - Medium\n"
   ]
  },
  {
   "cell_type": "code",
   "execution_count": null,
   "metadata": {},
   "outputs": [],
   "source": []
  },
  {
   "cell_type": "markdown",
   "metadata": {},
   "source": [
    "## Median of an Integer Stream - Hard\n"
   ]
  },
  {
   "cell_type": "markdown",
   "metadata": {},
   "source": [
    "## Sort a K-Sorted Array - Medium\n"
   ]
  }
 ],
 "metadata": {
  "kernelspec": {
   "display_name": ".venv",
   "language": "python",
   "name": "python3"
  },
  "language_info": {
   "codemirror_mode": {
    "name": "ipython",
    "version": 3
   },
   "file_extension": ".py",
   "mimetype": "text/x-python",
   "name": "python",
   "nbconvert_exporter": "python",
   "pygments_lexer": "ipython3",
   "version": "3.11.11"
  }
 },
 "nbformat": 4,
 "nbformat_minor": 2
}
