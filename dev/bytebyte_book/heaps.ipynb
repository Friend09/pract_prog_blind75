{
 "cells": [
  {
   "cell_type": "markdown",
   "metadata": {},
   "source": [
    "# HEAPS\n"
   ]
  },
  {
   "cell_type": "markdown",
   "metadata": {},
   "source": [
    "## K Most Frequent Strings - Medium\n"
   ]
  },
  {
   "cell_type": "code",
   "execution_count": null,
   "metadata": {},
   "outputs": [
    {
     "name": "stdout",
     "output_type": "stream",
     "text": [
      "[(go, 4), (coding, 1), (byte, 2), (interview, 1), (python, 2), (c++, 3), (rust, 2)]\n",
      "[(go, 4), (python, 2), (c++, 3), (interview, 1), (coding, 1), (byte, 2), (rust, 2)]\n"
     ]
    },
    {
     "data": {
      "text/plain": [
       "['go', 'c++']"
      ]
     },
     "execution_count": 31,
     "metadata": {},
     "output_type": "execute_result"
    }
   ],
   "source": [
    "from collections import Counter\n",
    "import heapq\n",
    "from typing import List\n",
    "\n",
    "\n",
    "class Pair:\n",
    "    def __init__(self, str, freq):\n",
    "        self.str = str\n",
    "        self.freq = freq\n",
    "\n",
    "    def __lt__(self, other):\n",
    "        if self.freq == other.freq:\n",
    "            return self.str < other.str\n",
    "        return self.freq > other.freq\n",
    "\n",
    "    def __repr__(self):\n",
    "        return f\"({self.str}, {self.freq})\"  # Display both attributes\n",
    "\n",
    "\n",
    "def k_most_frequent_strings(strs: List[str], k: int) -> List[str]:\n",
    "    # get lookup table\n",
    "    freqs = Counter(strs)\n",
    "    # create a list for heap using pair class\n",
    "    max_heap = [Pair(str, freq) for str, freq in freqs.items()]\n",
    "    print(max_heap)  # before max heap\n",
    "    heapq.heapify(max_heap)\n",
    "    print(max_heap)  # after max heap\n",
    "    return [heapq.heappop(max_heap).str for _ in range(k)]\n",
    "\n",
    "\n",
    "# strs = [\"coding\", \"interview\"]\n",
    "strs = [\n",
    "    \"go\",\n",
    "    \"coding\",\n",
    "    \"byte\",\n",
    "    \"byte\",\n",
    "    \"go\",\n",
    "    \"interview\",\n",
    "    \"go\",\n",
    "    \"python\",\n",
    "    \"go\",\n",
    "    \"python\",\n",
    "    \"c++\",\n",
    "    \"c++\",\n",
    "    \"c++\",\n",
    "    \"rust\",\n",
    "    \"rust\",\n",
    "]\n",
    "k = 2\n",
    "\n",
    "k_most_frequent_strings(strs, k)"
   ]
  },
  {
   "cell_type": "code",
   "execution_count": null,
   "metadata": {},
   "outputs": [
    {
     "name": "stdout",
     "output_type": "stream",
     "text": [
      "[60, 16, 50, 10, 15, 30, 8]\n"
     ]
    }
   ],
   "source": [
    "# to convert a list in first min heap then into a max heap\n",
    "a_list = [30, 16, 8, 10, 15, 50, 60]\n",
    "b_list = [-item for item in a_list]\n",
    "heapq.heapify(b_list)\n",
    "\n",
    "a_list = [-item for item in b_list]\n",
    "\n",
    "print(a_list)"
   ]
  },
  {
   "cell_type": "code",
   "execution_count": null,
   "metadata": {},
   "outputs": [
    {
     "data": {
      "text/plain": [
       "['c++', 'go']"
      ]
     },
     "execution_count": 34,
     "metadata": {},
     "output_type": "execute_result"
    }
   ],
   "source": [
    "# k most freq strings using min heap keeping only less than k\n",
    "from collections import Counter\n",
    "import heapq\n",
    "from typing import List\n",
    "\n",
    "\n",
    "class Pair:\n",
    "    def __init__(self, str, freq):\n",
    "        self.str = str\n",
    "        self.freq = freq\n",
    "\n",
    "    # tells if self has to be placed on top of min heap\n",
    "    def __lt__(self, other):\n",
    "        if self.freq == other.freq:\n",
    "            return self.str > other.str\n",
    "        return self.freq < other.freq\n",
    "\n",
    "    def __repr__(self):\n",
    "        return f\"({self.str}, {self.freq})\"  # Display both attributes\n",
    "\n",
    "\n",
    "def k_most_frequent_strings_min_heap(strs: List[str], k: int) -> List[str]:\n",
    "    freqs = Counter(strs)\n",
    "    min_heap = []\n",
    "    for str, freq in freqs.items():\n",
    "        heapq.heappush(min_heap, Pair(str, freq))\n",
    "        if len(min_heap) > k:\n",
    "            heapq.heappop(min_heap)\n",
    "\n",
    "    res = [heapq.heappop(min_heap).str for _ in range(k)]\n",
    "    res.reverse()\n",
    "    return res\n",
    "\n",
    "\n",
    "# strs = [\"coding\", \"interview\"]\n",
    "strs = [\n",
    "    \"go\",\n",
    "    \"coding\",\n",
    "    \"byte\",\n",
    "    \"byte\",\n",
    "    \"go\",\n",
    "    \"interview\",\n",
    "    \"go\",\n",
    "    \"python\",\n",
    "    \"go\",\n",
    "    \"python\",\n",
    "    \"c++\",\n",
    "    \"c++\",\n",
    "    \"c++\",\n",
    "    \"rust\",\n",
    "    \"rust\",\n",
    "]\n",
    "k = 2\n",
    "\n",
    "k_most_frequent_strings_min_heap(strs, k)"
   ]
  },
  {
   "cell_type": "markdown",
   "metadata": {},
   "source": [
    "```yaml\n",
    "# First: \"go\": 3\n",
    "pair = Pair(\"go\", 3)\n",
    "# No comparisons - first element\n",
    "\n",
    "# Second: \"coding\": 1\n",
    "pair = Pair(\"coding\", 1)\n",
    "# heapq calls __lt__: Is Pair(\"coding\", 1) < Pair(\"go\", 3)?\n",
    "# frequencies different: 1 < 3 is True\n",
    "# \"coding\" moves BEFORE \"go\" because 1 < 3\n",
    "heap = [Pair(\"coding\", 1), Pair(\"go\", 3)]\n",
    "\n",
    "# Third: \"byte\": 2\n",
    "pair = Pair(\"byte\", 2)\n",
    "# Is Pair(\"byte\", 2) < Pair(\"coding\", 1)?\n",
    "# frequencies different: 2 < 1 is False, so \"byte\" doesn't go before \"coding\"\n",
    "# Is Pair(\"byte\", 2) < Pair(\"go\", 3)?\n",
    "# frequencies different: 2 < 3 is True, so \"byte\" goes before \"go\"\n",
    "heap = [Pair(\"coding\", 1), Pair(\"byte\", 2), Pair(\"go\", 3)]\n",
    "\n",
    "# Fourth: \"interview\": 1\n",
    "pair = Pair(\"interview\", 1)\n",
    "# Is Pair(\"interview\", 1) < Pair(\"coding\", 1)?\n",
    "# frequencies equal: \"interview\" > \"coding\" is True\n",
    "# so \"interview\" comes after \"coding\"\n",
    "heap = [Pair(\"coding\", 1), Pair(\"interview\", 1), Pair(\"byte\", 2), Pair(\"go\", 3)]\n",
    "```\n"
   ]
  },
  {
   "cell_type": "markdown",
   "metadata": {},
   "source": [
    "Let me create a detailed visualization for how the min-heap gets built with your input, focusing on each `__lt__` comparison that happens. I'll mark each TRUE/FALSE with what it means for heap ordering.\n",
    "\n",
    "```python\n",
    "# Start with empty heap: []\n",
    "\n",
    "# 1. Add \"go\" (freq=3)\n",
    "# First element, no comparisons needed\n",
    "heap = [(\"go\", 3)]\n",
    "\n",
    "# 2. Add \"coding\" (freq=1)\n",
    "# heapq asks: Is coding < go?\n",
    "__lt__(coding, go):\n",
    "    coding.freq < go.freq  # 1 < 3\n",
    "    returns True  # \"True means coding SHOULD GO BEFORE go\"\n",
    "heap = [(\"coding\", 1), (\"go\", 3)]\n",
    "\n",
    "# 3. Add \"byte\" (freq=2)\n",
    "# heapq asks: Is byte < coding?\n",
    "__lt__(byte, coding):\n",
    "    byte.freq < coding.freq  # 2 < 1\n",
    "    returns False  # \"False means byte should NOT GO BEFORE coding\"\n",
    "# heapq then asks: Is byte < go?\n",
    "__lt__(byte, go):\n",
    "    byte.freq < go.freq  # 2 < 3\n",
    "    returns True  # \"True means byte SHOULD GO BEFORE go\"\n",
    "heap = [(\"coding\", 1), (\"byte\", 2), (\"go\", 3)]\n",
    "\n",
    "# 4. Add \"interview\" (freq=1)\n",
    "# heapq asks: Is interview < coding?\n",
    "__lt__(interview, coding):\n",
    "    interview.freq == coding.freq  # 1 == 1\n",
    "    interview.str > coding.str  # \"interview\" > \"coding\"\n",
    "    returns True  # \"True means interview SHOULD GO BEFORE coding\"\n",
    "heap = [(\"interview\", 1), (\"coding\", 1), (\"byte\", 2), (\"go\", 3)]\n",
    "```\n",
    "\n",
    "The key insight is:\n",
    "\n",
    "- When `__lt__` returns True, heapq puts that element BEFORE the one it's being compared with\n",
    "- When `__lt__` returns False, heapq puts that element AFTER the one it's being compared with\n",
    "\n",
    "In a min-heap:\n",
    "\n",
    "1. For frequencies: we want smaller frequencies first, so we use `<`\n",
    "\n",
    "   - If freq1 < freq2 returns True → freq1 goes before freq2\n",
    "   - Example: 1 < 3 is True, so freq=1 goes before freq=3\n",
    "\n",
    "2. For equal frequencies: we're using `>` for strings\n",
    "   - If str1 > str2 returns True → str1 goes before str2\n",
    "   - Example: \"interview\" > \"coding\" is True, so \"interview\" goes before \"coding\"\n",
    "\n",
    "This creates a min-heap ordered by:\n",
    "\n",
    "1. Smallest frequencies at the top\n",
    "2. For equal frequencies, lexicographically larger strings at the top\n",
    "\n",
    "The final heap order: [\"interview\"(1), \"coding\"(1), \"byte\"(2), \"go\"(3)]\n",
    "\n",
    "Does this help clarify how the comparisons determine the heap ordering?\n"
   ]
  },
  {
   "cell_type": "code",
   "execution_count": 12,
   "metadata": {},
   "outputs": [
    {
     "data": {
      "text/plain": [
       "True"
      ]
     },
     "execution_count": 12,
     "metadata": {},
     "output_type": "execute_result"
    }
   ],
   "source": [
    "\"interview\" > \"coding\""
   ]
  },
  {
   "cell_type": "markdown",
   "metadata": {},
   "source": [
    "## Combine Sorted Linked Lists - Medium\n"
   ]
  },
  {
   "cell_type": "code",
   "execution_count": 30,
   "metadata": {},
   "outputs": [
    {
     "data": {
      "text/plain": [
       "1 -> 1 -> 3 -> 4 -> 6 -> 6 -> 7 -> None"
      ]
     },
     "execution_count": 30,
     "metadata": {},
     "output_type": "execute_result"
    }
   ],
   "source": [
    "import heapq\n",
    "from typing import List\n",
    "\n",
    "\n",
    "class ListNode:\n",
    "    def __init__(self, val=None, next=None):\n",
    "        self.val = val\n",
    "        self.next = next\n",
    "\n",
    "    def __repr__(self):\n",
    "        return f\"{self.val} -> {self.next}\"\n",
    "\n",
    "\n",
    "def combine_sorted_linked_lists(lists: List[ListNode]) -> ListNode:\n",
    "    ListNode.__lt__ = lambda self, other: self.val < other.val\n",
    "    heap = []\n",
    "    for head in lists:\n",
    "        # maintain min_heap\n",
    "        if head:\n",
    "            heapq.heappush(heap, head)  # (heap) HEAD\n",
    "\n",
    "    dummy = ListNode(-1)\n",
    "    curr = dummy\n",
    "    while heap:\n",
    "        smallest_node = heapq.heappop(heap)\n",
    "        curr.next = smallest_node\n",
    "        curr = curr.next\n",
    "        if smallest_node.next:\n",
    "            heapq.heappush(heap, smallest_node.next)\n",
    "    return dummy.next\n",
    "\n",
    "\n",
    "# input\n",
    "def create_linked_list(values):\n",
    "    if not values:  # if no values are given\n",
    "        return None\n",
    "    head = ListNode(values[0])\n",
    "    current = head\n",
    "    for val in values[1:]:\n",
    "        current.next = ListNode(val)\n",
    "        current = current.next\n",
    "    return head\n",
    "\n",
    "\n",
    "list1 = create_linked_list([1, 6])\n",
    "list2 = create_linked_list([1, 4, 6])\n",
    "list3 = create_linked_list([3, 7])\n",
    "\n",
    "lists = [list1, list2, list3]\n",
    "\n",
    "combine_sorted_linked_lists(lists)"
   ]
  },
  {
   "cell_type": "markdown",
   "metadata": {},
   "source": [
    "## Median of an Integer Stream - Hard\n"
   ]
  },
  {
   "cell_type": "code",
   "execution_count": 11,
   "metadata": {},
   "outputs": [
    {
     "name": "stdout",
     "output_type": "stream",
     "text": [
      "Added 5, median = 5\n",
      "Added 1, median = 3.0\n",
      "Added 0, median = 1\n",
      "Added 6, median = 3.0\n",
      "Added 8, median = 5\n",
      "Added 9, median = 5.5\n",
      "Added 10, median = 6\n",
      "Added 2, median = 5.5\n",
      "Added 6, median = 6\n"
     ]
    }
   ],
   "source": [
    "import heapq\n",
    "\n",
    "\n",
    "class MedianOfAnIntegerStream:\n",
    "    def __init__(self):\n",
    "        self.left_half = []  # Max-heap.\n",
    "        self.right_half = []  # Min-heap.\n",
    "\n",
    "    def add(self, num: int) -> None:\n",
    "        # If 'num' is less than or equal to the max of 'left_half', it\n",
    "        # belongs to the left half.\n",
    "        if not self.left_half or num <= -self.left_half[0]:\n",
    "            heapq.heappush(self.left_half, -num)\n",
    "            # Rebalance the heaps if the size of the 'left_half'\n",
    "            # exceeds the size of the 'right_half' by more than one.\n",
    "            if len(self.left_half) > len(self.right_half) + 1:\n",
    "                heapq.heappush(self.right_half, -heapq.heappop(self.left_half))\n",
    "        # Otherwise, it belongs to the right half.\n",
    "        else:\n",
    "            heapq.heappush(self.right_half, num)\n",
    "            # Rebalance the heaps if 'right_half' is larger than\n",
    "            # 'left_half'.\n",
    "            if len(self.left_half) < len(self.right_half):\n",
    "                heapq.heappush(self.left_half, -heapq.heappop(self.right_half))\n",
    "\n",
    "    def get_median(self) -> float:\n",
    "        if len(self.left_half) == len(self.right_half):\n",
    "            return (-self.left_half[0] + self.right_half[0]) / 2.0\n",
    "        return -self.left_half[0]\n",
    "\n",
    "\n",
    "stream = MedianOfAnIntegerStream()\n",
    "nums = [5, 1, 0, 6, 8, 9, 10, 2, 6]\n",
    "for num in nums:\n",
    "    stream.add(num)\n",
    "    print(f\"Added {num}, median = {stream.get_median()}\")"
   ]
  },
  {
   "cell_type": "markdown",
   "metadata": {},
   "source": [
    "## Sort a K-Sorted Array - Medium\n"
   ]
  },
  {
   "cell_type": "code",
   "execution_count": 2,
   "metadata": {},
   "outputs": [],
   "source": [
    "import heapq\n",
    "from typing import List"
   ]
  },
  {
   "cell_type": "code",
   "execution_count": 16,
   "metadata": {},
   "outputs": [
    {
     "name": "stdout",
     "output_type": "stream",
     "text": [
      "[1, 5, 9]\n"
     ]
    },
    {
     "data": {
      "text/plain": [
       "[1, 4, 5, 7, 9, 10]"
      ]
     },
     "execution_count": 16,
     "metadata": {},
     "output_type": "execute_result"
    }
   ],
   "source": [
    "def sort_a_k_sorted_array(nums: List[int], k: int) -> List[int]:\n",
    "    min_heap = nums[: k + 1]\n",
    "    heapq.heapify(min_heap)\n",
    "    print(min_heap)\n",
    "\n",
    "    insert_index = 0\n",
    "    for i in range(k + 1, len(nums)):\n",
    "        nums[insert_index] = heapq.heappop(min_heap)\n",
    "        insert_index += 1\n",
    "        heapq.heappush(min_heap, nums[i])\n",
    "    while min_heap:\n",
    "        nums[insert_index] = heapq.heappop(min_heap)\n",
    "        insert_index += 1\n",
    "    return nums\n",
    "\n",
    "\n",
    "nums = [5, 1, 9, 4, 7, 10]\n",
    "k = 2\n",
    "sort_a_k_sorted_array(nums, k)"
   ]
  }
 ],
 "metadata": {
  "kernelspec": {
   "display_name": ".venv",
   "language": "python",
   "name": "python3"
  },
  "language_info": {
   "codemirror_mode": {
    "name": "ipython",
    "version": 3
   },
   "file_extension": ".py",
   "mimetype": "text/x-python",
   "name": "python",
   "nbconvert_exporter": "python",
   "pygments_lexer": "ipython3",
   "version": "3.11.11"
  }
 },
 "nbformat": 4,
 "nbformat_minor": 2
}
