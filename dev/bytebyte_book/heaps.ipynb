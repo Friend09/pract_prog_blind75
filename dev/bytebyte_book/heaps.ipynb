{
 "cells": [
  {
   "cell_type": "markdown",
   "metadata": {},
   "source": [
    "# HEAPS\n"
   ]
  },
  {
   "cell_type": "markdown",
   "metadata": {},
   "source": [
    "## K Most Frequent Strings - Medium\n"
   ]
  },
  {
   "cell_type": "code",
   "execution_count": null,
   "metadata": {},
   "outputs": [
    {
     "name": "stdout",
     "output_type": "stream",
     "text": [
      "[(go, 4), (coding, 1), (byte, 2), (interview, 1), (python, 2), (c++, 3), (rust, 2)]\n",
      "[(go, 4), (python, 2), (c++, 3), (interview, 1), (coding, 1), (byte, 2), (rust, 2)]\n"
     ]
    },
    {
     "data": {
      "text/plain": [
       "['go', 'c++']"
      ]
     },
     "execution_count": 31,
     "metadata": {},
     "output_type": "execute_result"
    }
   ],
   "source": [
    "from collections import Counter\n",
    "import heapq\n",
    "from typing import List\n",
    "\n",
    "\n",
    "class Pair:\n",
    "    def __init__(self, str, freq):\n",
    "        self.str = str\n",
    "        self.freq = freq\n",
    "\n",
    "    def __lt__(self, other):\n",
    "        if self.freq == other.freq:\n",
    "            return self.str < other.str\n",
    "        return self.freq > other.freq\n",
    "\n",
    "    def __repr__(self):\n",
    "        return f\"({self.str}, {self.freq})\"  # Display both attributes\n",
    "\n",
    "\n",
    "def k_most_frequent_strings(strs: List[str], k: int) -> List[str]:\n",
    "    # get lookup table\n",
    "    freqs = Counter(strs)\n",
    "    # create a list for heap using pair class\n",
    "    max_heap = [Pair(str, freq) for str, freq in freqs.items()]\n",
    "    print(max_heap)  # before max heap\n",
    "    heapq.heapify(max_heap)\n",
    "    print(max_heap)  # after max heap\n",
    "    return [heapq.heappop(max_heap).str for _ in range(k)]\n",
    "\n",
    "\n",
    "# strs = [\"coding\", \"interview\"]\n",
    "strs = [\n",
    "    \"go\",\n",
    "    \"coding\",\n",
    "    \"byte\",\n",
    "    \"byte\",\n",
    "    \"go\",\n",
    "    \"interview\",\n",
    "    \"go\",\n",
    "    \"python\",\n",
    "    \"go\",\n",
    "    \"python\",\n",
    "    \"c++\",\n",
    "    \"c++\",\n",
    "    \"c++\",\n",
    "    \"rust\",\n",
    "    \"rust\",\n",
    "]\n",
    "k = 2\n",
    "\n",
    "k_most_frequent_strings(strs, k)"
   ]
  },
  {
   "cell_type": "code",
   "execution_count": null,
   "metadata": {},
   "outputs": [
    {
     "name": "stdout",
     "output_type": "stream",
     "text": [
      "[60, 16, 50, 10, 15, 30, 8]\n"
     ]
    }
   ],
   "source": [
    "# to convert a list in first min heap then into a max heap\n",
    "a_list = [30, 16, 8, 10, 15, 50, 60]\n",
    "b_list = [-item for item in a_list]\n",
    "heapq.heapify(b_list)\n",
    "\n",
    "a_list = [-item for item in b_list]\n",
    "\n",
    "print(a_list)"
   ]
  },
  {
   "cell_type": "code",
   "execution_count": null,
   "metadata": {},
   "outputs": [
    {
     "data": {
      "text/plain": [
       "['c++', 'go']"
      ]
     },
     "execution_count": 34,
     "metadata": {},
     "output_type": "execute_result"
    }
   ],
   "source": [
    "# k most freq strings using min heap keeping only less than k\n",
    "from collections import Counter\n",
    "import heapq\n",
    "from typing import List\n",
    "\n",
    "\n",
    "class Pair:\n",
    "    def __init__(self, str, freq):\n",
    "        self.str = str\n",
    "        self.freq = freq\n",
    "\n",
    "    # tells if self has to be placed on top of min heap\n",
    "    def __lt__(self, other):\n",
    "        if self.freq == other.freq:\n",
    "            return self.str > other.str\n",
    "        return self.freq < other.freq\n",
    "\n",
    "    def __repr__(self):\n",
    "        return f\"({self.str}, {self.freq})\"  # Display both attributes\n",
    "\n",
    "\n",
    "def k_most_frequent_strings_min_heap(strs: List[str], k: int) -> List[str]:\n",
    "    freqs = Counter(strs)\n",
    "    min_heap = []\n",
    "    for str, freq in freqs.items():\n",
    "        heapq.heappush(min_heap, Pair(str, freq))\n",
    "        if len(min_heap) > k:\n",
    "            heapq.heappop(min_heap)\n",
    "\n",
    "    res = [heapq.heappop(min_heap).str for _ in range(k)]\n",
    "    res.reverse()\n",
    "    return res\n",
    "\n",
    "\n",
    "# strs = [\"coding\", \"interview\"]\n",
    "strs = [\n",
    "    \"go\",\n",
    "    \"coding\",\n",
    "    \"byte\",\n",
    "    \"byte\",\n",
    "    \"go\",\n",
    "    \"interview\",\n",
    "    \"go\",\n",
    "    \"python\",\n",
    "    \"go\",\n",
    "    \"python\",\n",
    "    \"c++\",\n",
    "    \"c++\",\n",
    "    \"c++\",\n",
    "    \"rust\",\n",
    "    \"rust\",\n",
    "]\n",
    "k = 2\n",
    "\n",
    "k_most_frequent_strings_min_heap(strs, k)"
   ]
  },
  {
   "cell_type": "markdown",
   "metadata": {},
   "source": [
    "```yaml\n",
    "# First: \"go\": 3\n",
    "pair = Pair(\"go\", 3)\n",
    "# No comparisons - first element\n",
    "\n",
    "# Second: \"coding\": 1\n",
    "pair = Pair(\"coding\", 1)\n",
    "# heapq calls __lt__: Is Pair(\"coding\", 1) < Pair(\"go\", 3)?\n",
    "# frequencies different: 1 < 3 is True\n",
    "# \"coding\" moves BEFORE \"go\" because 1 < 3\n",
    "heap = [Pair(\"coding\", 1), Pair(\"go\", 3)]\n",
    "\n",
    "# Third: \"byte\": 2\n",
    "pair = Pair(\"byte\", 2)\n",
    "# Is Pair(\"byte\", 2) < Pair(\"coding\", 1)?\n",
    "# frequencies different: 2 < 1 is False, so \"byte\" doesn't go before \"coding\"\n",
    "# Is Pair(\"byte\", 2) < Pair(\"go\", 3)?\n",
    "# frequencies different: 2 < 3 is True, so \"byte\" goes before \"go\"\n",
    "heap = [Pair(\"coding\", 1), Pair(\"byte\", 2), Pair(\"go\", 3)]\n",
    "\n",
    "# Fourth: \"interview\": 1\n",
    "pair = Pair(\"interview\", 1)\n",
    "# Is Pair(\"interview\", 1) < Pair(\"coding\", 1)?\n",
    "# frequencies equal: \"interview\" > \"coding\" is True\n",
    "# so \"interview\" comes after \"coding\"\n",
    "heap = [Pair(\"coding\", 1), Pair(\"interview\", 1), Pair(\"byte\", 2), Pair(\"go\", 3)]\n",
    "```\n"
   ]
  },
  {
   "cell_type": "markdown",
   "metadata": {},
   "source": [
    "Let me create a detailed visualization for how the min-heap gets built with your input, focusing on each `__lt__` comparison that happens. I'll mark each TRUE/FALSE with what it means for heap ordering.\n",
    "\n",
    "```python\n",
    "# Start with empty heap: []\n",
    "\n",
    "# 1. Add \"go\" (freq=3)\n",
    "# First element, no comparisons needed\n",
    "heap = [(\"go\", 3)]\n",
    "\n",
    "# 2. Add \"coding\" (freq=1)\n",
    "# heapq asks: Is coding < go?\n",
    "__lt__(coding, go):\n",
    "    coding.freq < go.freq  # 1 < 3\n",
    "    returns True  # \"True means coding SHOULD GO BEFORE go\"\n",
    "heap = [(\"coding\", 1), (\"go\", 3)]\n",
    "\n",
    "# 3. Add \"byte\" (freq=2)\n",
    "# heapq asks: Is byte < coding?\n",
    "__lt__(byte, coding):\n",
    "    byte.freq < coding.freq  # 2 < 1\n",
    "    returns False  # \"False means byte should NOT GO BEFORE coding\"\n",
    "# heapq then asks: Is byte < go?\n",
    "__lt__(byte, go):\n",
    "    byte.freq < go.freq  # 2 < 3\n",
    "    returns True  # \"True means byte SHOULD GO BEFORE go\"\n",
    "heap = [(\"coding\", 1), (\"byte\", 2), (\"go\", 3)]\n",
    "\n",
    "# 4. Add \"interview\" (freq=1)\n",
    "# heapq asks: Is interview < coding?\n",
    "__lt__(interview, coding):\n",
    "    interview.freq == coding.freq  # 1 == 1\n",
    "    interview.str > coding.str  # \"interview\" > \"coding\"\n",
    "    returns True  # \"True means interview SHOULD GO BEFORE coding\"\n",
    "heap = [(\"interview\", 1), (\"coding\", 1), (\"byte\", 2), (\"go\", 3)]\n",
    "```\n",
    "\n",
    "The key insight is:\n",
    "\n",
    "- When `__lt__` returns True, heapq puts that element BEFORE the one it's being compared with\n",
    "- When `__lt__` returns False, heapq puts that element AFTER the one it's being compared with\n",
    "\n",
    "In a min-heap:\n",
    "\n",
    "1. For frequencies: we want smaller frequencies first, so we use `<`\n",
    "\n",
    "   - If freq1 < freq2 returns True → freq1 goes before freq2\n",
    "   - Example: 1 < 3 is True, so freq=1 goes before freq=3\n",
    "\n",
    "2. For equal frequencies: we're using `>` for strings\n",
    "   - If str1 > str2 returns True → str1 goes before str2\n",
    "   - Example: \"interview\" > \"coding\" is True, so \"interview\" goes before \"coding\"\n",
    "\n",
    "This creates a min-heap ordered by:\n",
    "\n",
    "1. Smallest frequencies at the top\n",
    "2. For equal frequencies, lexicographically larger strings at the top\n",
    "\n",
    "The final heap order: [\"interview\"(1), \"coding\"(1), \"byte\"(2), \"go\"(3)]\n",
    "\n",
    "Does this help clarify how the comparisons determine the heap ordering?\n"
   ]
  },
  {
   "cell_type": "code",
   "execution_count": 12,
   "metadata": {},
   "outputs": [
    {
     "data": {
      "text/plain": [
       "True"
      ]
     },
     "execution_count": 12,
     "metadata": {},
     "output_type": "execute_result"
    }
   ],
   "source": [
    "\"interview\" > \"coding\""
   ]
  },
  {
   "cell_type": "markdown",
   "metadata": {},
   "source": [
    "## Combine Sorted Linked Lists - Medium\n"
   ]
  },
  {
   "cell_type": "markdown",
   "metadata": {},
   "source": [
    "## Median of an Integer Stream - Hard\n"
   ]
  },
  {
   "cell_type": "markdown",
   "metadata": {},
   "source": [
    "## Sort a K-Sorted Array - Medium\n"
   ]
  }
 ],
 "metadata": {
  "kernelspec": {
   "display_name": ".venv",
   "language": "python",
   "name": "python3"
  },
  "language_info": {
   "codemirror_mode": {
    "name": "ipython",
    "version": 3
   },
   "file_extension": ".py",
   "mimetype": "text/x-python",
   "name": "python",
   "nbconvert_exporter": "python",
   "pygments_lexer": "ipython3",
   "version": "3.11.11"
  }
 },
 "nbformat": 4,
 "nbformat_minor": 2
}
