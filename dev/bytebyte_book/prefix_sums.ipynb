{
 "cells": [
  {
   "cell_type": "markdown",
   "metadata": {},
   "source": [
    "# PREFIX SUMS\n"
   ]
  },
  {
   "cell_type": "markdown",
   "metadata": {},
   "source": [
    "## Sum Between Range - Easy\n"
   ]
  },
  {
   "cell_type": "code",
   "execution_count": null,
   "metadata": {},
   "outputs": [
    {
     "data": {
      "text/plain": [
       "2"
      ]
     },
     "execution_count": 14,
     "metadata": {},
     "output_type": "execute_result"
    }
   ],
   "source": [
    "from typing import List\n",
    "\n",
    "\n",
    "class SumBetweenRange:\n",
    "    def __init__(self, nums: List[int]):\n",
    "        self.prefix_sum = [nums[0]]\n",
    "        for i in range(1, len(nums)):\n",
    "            self.prefix_sum.append(self.prefix_sum[-1] + nums[i])\n",
    "\n",
    "    def sum_range(self, i: int, j: int): # 0, 3\n",
    "        if i == 0:\n",
    "            return self.prefix_sum[j]\n",
    "        return self.prefix_sum[j] - self.prefix_sum[i - 1]\n",
    "\n",
    "\n",
    "nums = [3, -7, 6, 0, -2, 5]\n",
    "prefix_sums = [3, -4, 2, 2, 0, 5]\n",
    "some_nums = SumBetweenRange(nums)\n",
    "some_nums.sum_range(0, 3)"
   ]
  },
  {
   "cell_type": "markdown",
   "metadata": {},
   "source": [
    "## K-Sum Subarrays - Medium\n"
   ]
  },
  {
   "cell_type": "code",
   "execution_count": null,
   "metadata": {},
   "outputs": [],
   "source": []
  },
  {
   "cell_type": "markdown",
   "metadata": {},
   "source": [
    "## Product Array Without Current Element - Medium\n"
   ]
  },
  {
   "cell_type": "code",
   "execution_count": null,
   "metadata": {},
   "outputs": [],
   "source": []
  }
 ],
 "metadata": {
  "kernelspec": {
   "display_name": ".venv",
   "language": "python",
   "name": "python3"
  },
  "language_info": {
   "codemirror_mode": {
    "name": "ipython",
    "version": 3
   },
   "file_extension": ".py",
   "mimetype": "text/x-python",
   "name": "python",
   "nbconvert_exporter": "python",
   "pygments_lexer": "ipython3",
   "version": "3.11.11"
  }
 },
 "nbformat": 4,
 "nbformat_minor": 2
}
