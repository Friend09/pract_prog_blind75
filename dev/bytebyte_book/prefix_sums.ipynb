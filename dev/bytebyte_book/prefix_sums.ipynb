{
 "cells": [
  {
   "cell_type": "markdown",
   "metadata": {},
   "source": [
    "# PREFIX SUMS\n"
   ]
  },
  {
   "cell_type": "markdown",
   "metadata": {},
   "source": [
    "## Sum Between Range - Easy\n"
   ]
  },
  {
   "cell_type": "code",
   "execution_count": null,
   "metadata": {},
   "outputs": [
    {
     "data": {
      "text/plain": [
       "2"
      ]
     },
     "execution_count": 14,
     "metadata": {},
     "output_type": "execute_result"
    }
   ],
   "source": [
    "from typing import List\n",
    "\n",
    "\n",
    "class SumBetweenRange:\n",
    "    def __init__(self, nums: List[int]):\n",
    "        self.prefix_sum = [nums[0]]\n",
    "        for i in range(1, len(nums)):\n",
    "            self.prefix_sum.append(self.prefix_sum[-1] + nums[i])\n",
    "\n",
    "    def sum_range(self, i: int, j: int): # 0, 3\n",
    "        if i == 0:\n",
    "            return self.prefix_sum[j]\n",
    "        return self.prefix_sum[j] - self.prefix_sum[i - 1]\n",
    "\n",
    "\n",
    "nums = [3, -7, 6, 0, -2, 5]\n",
    "prefix_sums = [3, -4, 2, 2, 0, 5]\n",
    "some_nums = SumBetweenRange(nums)\n",
    "some_nums.sum_range(0, 3)"
   ]
  },
  {
   "cell_type": "markdown",
   "metadata": {},
   "source": [
    "## K-Sum Subarrays - Medium\n"
   ]
  },
  {
   "cell_type": "markdown",
   "metadata": {},
   "source": [
    "### Non Optimized"
   ]
  },
  {
   "cell_type": "code",
   "execution_count": null,
   "metadata": {},
   "outputs": [
    {
     "name": "stdout",
     "output_type": "stream",
     "text": [
      "[0, 1]\n",
      "[0, 1, 3]\n",
      "[0, 1, 3, 2]\n",
      "[0, 1, 3, 2, 3]\n",
      "[0, 1, 3, 2, 3, 5]\n"
     ]
    }
   ],
   "source": [
    "from typing import List\n",
    "\n",
    "\n",
    "def k_sum_subarrays(nums: List[int], k: int) -> int:\n",
    "    n = len(nums)\n",
    "    count = 0\n",
    "\n",
    "    prefix_sum = [0]\n",
    "    for i in range(0, n):\n",
    "        prefix_sum.append(prefix_sum[-1] + nums[i])\n",
    "\n",
    "    for j in range(1, n+1):\n",
    "        for i in range(1, j+1):\n",
    "            if prefix_sum[j] - prefix_sum[i-1] == k:\n",
    "                count += 1\n",
    "\n",
    "    return count\n",
    "\n",
    "\n",
    "nums = [1, 2, -1, 1, 2]\n",
    "k = 3\n",
    "\n",
    "k_sum_subarrays(nums, k)"
   ]
  },
  {
   "cell_type": "markdown",
   "metadata": {},
   "source": [
    "### K-Sum Subarrays - Optimized"
   ]
  },
  {
   "cell_type": "code",
   "execution_count": null,
   "metadata": {},
   "outputs": [],
   "source": [
    "def k_sum_subarrays_optimized(nums: List[int], k: int) -> int:\n",
    "    count = 0\n",
    "    # Initialize the map with 0 to handle subarrays that sum to 'k'\n",
    "    # from the start of the array.\n",
    "    prefix_sum_map = {0: 1}\n",
    "    curr_prefix_sum = 0\n",
    "    for num in nums:\n",
    "        # Update the running prefix sum by adding the current number.\n",
    "        curr_prefix_sum += num\n",
    "        # If a subarray with sum 'k' exists, increment 'count' by the\n",
    "        # number of times it has been found.\n",
    "        if curr_prefix_sum - k in prefix_sum_map:\n",
    "            count += prefix_sum_map[curr_prefix_sum - k]\n",
    "        # Update the frequency of 'curr_prefix_sum' in the hash map.\n",
    "        freq = prefix_sum_map.get(curr_prefix_sum, 0)\n",
    "        prefix_sum_map[curr_prefix_sum] = freq + 1\n",
    "    return count\n",
    "\n",
    "\n",
    "\n",
    "nums = [1, 2, -1, 1, 2]\n",
    "k = 3\n",
    "\n",
    "k_sum_subarrays(nums, k)"
   ]
  },
  {
   "cell_type": "markdown",
   "metadata": {},
   "source": [
    "## Product Array Without Current Element - Medium\n"
   ]
  },
  {
   "cell_type": "code",
   "execution_count": null,
   "metadata": {},
   "outputs": [],
   "source": []
  }
 ],
 "metadata": {
  "kernelspec": {
   "display_name": ".venv",
   "language": "python",
   "name": "python3"
  },
  "language_info": {
   "codemirror_mode": {
    "name": "ipython",
    "version": 3
   },
   "file_extension": ".py",
   "mimetype": "text/x-python",
   "name": "python",
   "nbconvert_exporter": "python",
   "pygments_lexer": "ipython3",
   "version": "3.11.11"
  }
 },
 "nbformat": 4,
 "nbformat_minor": 2
}
