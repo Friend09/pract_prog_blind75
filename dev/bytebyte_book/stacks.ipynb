{
 "cells": [
  {
   "cell_type": "markdown",
   "metadata": {},
   "source": [
    "# STACKS\n"
   ]
  },
  {
   "cell_type": "markdown",
   "metadata": {},
   "source": [
    "## Valid Parenthesis Expression - Easy\n"
   ]
  },
  {
   "cell_type": "code",
   "execution_count": 11,
   "metadata": {},
   "outputs": [
    {
     "data": {
      "text/plain": [
       "True"
      ]
     },
     "execution_count": 11,
     "metadata": {},
     "output_type": "execute_result"
    }
   ],
   "source": [
    "def valid_parenthesis_expression(s: str) -> bool:\n",
    "    # create lookup\n",
    "    parenthesis_map = {\n",
    "        \"{\": \"}\",\n",
    "        \"[\": \"]\",\n",
    "        \"(\": \")\",\n",
    "    }\n",
    "    # define variables\n",
    "    stack = []\n",
    "\n",
    "    # loop over string\n",
    "    for char in s:\n",
    "        # if char in map, append to the stack\n",
    "        if char in parenthesis_map:\n",
    "            stack.append(char)\n",
    "        else:\n",
    "            if stack and parenthesis_map[stack[-1]] == char:\n",
    "                stack.pop()\n",
    "            else:\n",
    "                return False\n",
    "\n",
    "    # result\n",
    "    return not stack\n",
    "\n",
    "\n",
    "s = \"([]{})\"\n",
    "valid_parenthesis_expression(s)"
   ]
  },
  {
   "cell_type": "markdown",
   "metadata": {},
   "source": [
    "## Next Largest Number to the Right - Medium\n"
   ]
  },
  {
   "cell_type": "code",
   "execution_count": 7,
   "metadata": {},
   "outputs": [
    {
     "data": {
      "text/plain": [
       "[6, 4, 6, -1, -1]"
      ]
     },
     "execution_count": 7,
     "metadata": {},
     "output_type": "execute_result"
    }
   ],
   "source": [
    "from typing import List\n",
    "\n",
    "\n",
    "def next_largest_number_to_the_right(nums: List[int]) -> List[int]:\n",
    "    res = [0] * len(nums)\n",
    "    stack = []\n",
    "\n",
    "    for i in range(len(nums) - 1, -1, -1):\n",
    "        # check stack\n",
    "        while stack and stack[-1] <= nums[i]:\n",
    "            stack.pop()\n",
    "\n",
    "        # update res, stack\n",
    "        res[i] = stack[-1] if stack else -1\n",
    "        stack.append(nums[i])\n",
    "    return res\n",
    "\n",
    "\n",
    "nums = [5, 2, 4, 6, 1]\n",
    "next_largest_number_to_the_right(nums)"
   ]
  },
  {
   "cell_type": "markdown",
   "metadata": {},
   "source": [
    "## Evaluate Expression - Hard\n"
   ]
  },
  {
   "cell_type": "code",
   "execution_count": 25,
   "metadata": {},
   "outputs": [
    {
     "data": {
      "text/plain": [
       "13"
      ]
     },
     "execution_count": 25,
     "metadata": {},
     "output_type": "execute_result"
    }
   ],
   "source": [
    "def evaluate_expression(s: str) -> int:\n",
    "    stack = []\n",
    "    curr_num, sign, res = 0, 1, 0\n",
    "    for c in s:\n",
    "        if c.isdigit():\n",
    "            curr_num = curr_num * 10 + int(c)\n",
    "        # If the current character is an operator, add 'curr_num' to\n",
    "        # the result after multiplying it by its sign.\n",
    "        elif c == \"+\" or c == \"-\":\n",
    "            res += curr_num * sign\n",
    "            # Update the sign and reset 'curr_num'.\n",
    "            sign = -1 if c == \"-\" else 1\n",
    "            curr_num = 0\n",
    "        # If the current character is an opening parenthesis, a new\n",
    "        # nested expression is starting.\n",
    "        elif c == \"(\":\n",
    "            # Save the current 'res' and 'sign' values by pushing them\n",
    "            # onto the stack, then reset their values to start\n",
    "            # calculating the new nested expression.\n",
    "            stack.append(res)\n",
    "            stack.append(sign)\n",
    "            res, sign = 0, 1\n",
    "        # If the current character is a closing parenthesis, a nested\n",
    "        # expression has ended.\n",
    "        elif c == \")\":\n",
    "            # Finalize the result of the current nested expression.\n",
    "            res += sign * curr_num\n",
    "            # Apply the sign of the current nested  expression's result\n",
    "            # before adding this result to the result of the outer\n",
    "            # expression.\n",
    "            res *= stack.pop()\n",
    "            res += stack.pop()\n",
    "            curr_num = 0\n",
    "    # Finalize the result of the overall expression.\n",
    "    return res + curr_num * sign\n",
    "\n",
    "\n",
    "s = \"18-(7+(2-4))\"\n",
    "evaluate_expression(s)"
   ]
  },
  {
   "cell_type": "markdown",
   "metadata": {},
   "source": [
    "## Repeated Removal of Adjacent Duplicates - Easy\n"
   ]
  },
  {
   "cell_type": "code",
   "execution_count": 25,
   "metadata": {},
   "outputs": [
    {
     "data": {
      "text/plain": [
       "'c'"
      ]
     },
     "execution_count": 25,
     "metadata": {},
     "output_type": "execute_result"
    }
   ],
   "source": [
    "def repeated_removal_of_adjacent_duplicates(s: str) -> str:\n",
    "    # define variables\n",
    "    stack = []\n",
    "    # loop over the string\n",
    "    for char in s:\n",
    "        # check if the top item of stack is same as the current char\n",
    "        if stack and stack[-1] == char:\n",
    "            stack.pop()\n",
    "        else:\n",
    "            stack.append(char)\n",
    "    return \"\".join(stack)\n",
    "\n",
    "\n",
    "s = \"aacabba\"\n",
    "repeated_removal_of_adjacent_duplicates(s)"
   ]
  },
  {
   "cell_type": "code",
   "execution_count": 20,
   "metadata": {},
   "outputs": [
    {
     "data": {
      "text/plain": [
       "5"
      ]
     },
     "execution_count": 20,
     "metadata": {},
     "output_type": "execute_result"
    }
   ],
   "source": [
    "s = [1, 2, 5]\n",
    "s.pop(-1)"
   ]
  },
  {
   "cell_type": "markdown",
   "metadata": {},
   "source": [
    "## Implement a Queue using Stacks - Medium\n"
   ]
  },
  {
   "cell_type": "code",
   "execution_count": 12,
   "metadata": {},
   "outputs": [
    {
     "data": {
      "text/plain": [
       "[None, None, 1, None, 2]"
      ]
     },
     "execution_count": 12,
     "metadata": {},
     "output_type": "execute_result"
    }
   ],
   "source": [
    "class Queue:\n",
    "    def __init__(self):\n",
    "        self.enqueue_stack = []\n",
    "        self.dequeue_stack = []\n",
    "\n",
    "    def enqueue(self, x: int) -> None:\n",
    "        self.enqueue_stack.append(x)\n",
    "\n",
    "    def transfer_enqueue_to_dequeue(self) -> None:\n",
    "        # If the dequeue stack is empty, push all elements from the enqueue stack\n",
    "        # onto the dequeue stack. This ensures the top of the dequeue stack\n",
    "        # contains the most recent value.\n",
    "        if not self.dequeue_stack:\n",
    "            while self.enqueue_stack:\n",
    "                self.dequeue_stack.append(self.enqueue_stack.pop())\n",
    "\n",
    "    def dequeue(self) -> int:\n",
    "        self.transfer_enqueue_to_dequeue()\n",
    "        # Pop and return the value at the top of the dequeue stack.\n",
    "        return self.dequeue_stack.pop() if self.dequeue_stack else None\n",
    "\n",
    "    def peek(self) -> int:\n",
    "        self.transfer_enqueue_to_dequeue()\n",
    "        return self.dequeue_stack[-1] if self.dequeue_stack else None\n",
    "\n",
    "\n",
    "queue = Queue()\n",
    "[queue.enqueue(1), queue.enqueue(2), queue.dequeue(), queue.enqueue(3), queue.peek()]"
   ]
  },
  {
   "cell_type": "markdown",
   "metadata": {},
   "source": [
    "## Maximums of Sliding Window - Hard\n"
   ]
  },
  {
   "cell_type": "code",
   "execution_count": 8,
   "metadata": {},
   "outputs": [
    {
     "data": {
      "text/plain": [
       "[4, 4, 4, 2]"
      ]
     },
     "execution_count": 8,
     "metadata": {},
     "output_type": "execute_result"
    }
   ],
   "source": [
    "from typing import List\n",
    "from collections import deque\n",
    "\n",
    "\n",
    "def maximums_of_sliding_window(nums, k):\n",
    "    # define variables\n",
    "    res = []\n",
    "    dq = deque()  # [(3, 0), (1,7)] val, idx\n",
    "    left = 0\n",
    "    right = 0\n",
    "\n",
    "    # loop until right meets the end of the nums\n",
    "    while right < len(nums):\n",
    "        # maintain monotonic decreasing order in the deque\n",
    "        while dq and dq[-1][0] <= nums[right]:\n",
    "            dq.pop()\n",
    "        # add the item to dq\n",
    "        dq.append((nums[right], right))\n",
    "        # get the max value within the window\n",
    "        if right - left + 1 == k:\n",
    "            if dq and dq[0][1] < left:\n",
    "                dq.popleft()\n",
    "            res.append((dq[0][0]))\n",
    "            left += 1\n",
    "        right += 1\n",
    "\n",
    "    # return the result\n",
    "    return res\n",
    "\n",
    "\n",
    "# nums = [1, 3, -1, -3, 5, 3, 6, 7]\n",
    "# k = 1\n",
    "nums = [3, 2, 4, 1, 2, 1, 1]\n",
    "k = 4\n",
    "\n",
    "maximums_of_sliding_window(nums, k)"
   ]
  }
 ],
 "metadata": {
  "kernelspec": {
   "display_name": ".venv",
   "language": "python",
   "name": "python3"
  },
  "language_info": {
   "codemirror_mode": {
    "name": "ipython",
    "version": 3
   },
   "file_extension": ".py",
   "mimetype": "text/x-python",
   "name": "python",
   "nbconvert_exporter": "python",
   "pygments_lexer": "ipython3",
   "version": "3.11.11"
  }
 },
 "nbformat": 4,
 "nbformat_minor": 2
}
