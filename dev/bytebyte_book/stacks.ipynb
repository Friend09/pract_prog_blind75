{
 "cells": [
  {
   "cell_type": "markdown",
   "metadata": {},
   "source": [
    "# STACKS\n"
   ]
  },
  {
   "cell_type": "markdown",
   "metadata": {},
   "source": [
    "## Valid Parenthesis Expression - Easy\n"
   ]
  },
  {
   "cell_type": "code",
   "execution_count": 11,
   "metadata": {},
   "outputs": [
    {
     "data": {
      "text/plain": [
       "True"
      ]
     },
     "execution_count": 11,
     "metadata": {},
     "output_type": "execute_result"
    }
   ],
   "source": [
    "def valid_parenthesis_expression(s: str) -> bool:\n",
    "    # create lookup\n",
    "    parenthesis_map = {\n",
    "        \"{\": \"}\",\n",
    "        \"[\": \"]\",\n",
    "        \"(\": \")\",\n",
    "    }\n",
    "    # define variables\n",
    "    stack = []\n",
    "\n",
    "    # loop over string\n",
    "    for char in s:\n",
    "        # if char in map, append to the stack\n",
    "        if char in parenthesis_map:\n",
    "            stack.append(char)\n",
    "        else:\n",
    "            if stack and parenthesis_map[stack[-1]] == char:\n",
    "                stack.pop()\n",
    "            else:\n",
    "                return False\n",
    "\n",
    "    # result\n",
    "    return not stack\n",
    "\n",
    "\n",
    "s = \"([]{})\"\n",
    "valid_parenthesis_expression(s)"
   ]
  },
  {
   "cell_type": "markdown",
   "metadata": {},
   "source": [
    "## Next Largest Number to the Right - Medium\n"
   ]
  },
  {
   "cell_type": "code",
   "execution_count": null,
   "metadata": {},
   "outputs": [],
   "source": []
  },
  {
   "cell_type": "markdown",
   "metadata": {},
   "source": [
    "## Evaluate Expression - Hard\n"
   ]
  },
  {
   "cell_type": "markdown",
   "metadata": {},
   "source": [
    "## Repeated Removal of Adjacent Duplicates - Easy\n"
   ]
  },
  {
   "cell_type": "markdown",
   "metadata": {},
   "source": [
    "## Implement a Queue using Stacks - Medium\n"
   ]
  },
  {
   "cell_type": "markdown",
   "metadata": {},
   "source": [
    "## Maximums of Sliding Window - Hard\n"
   ]
  }
 ],
 "metadata": {
  "kernelspec": {
   "display_name": ".venv",
   "language": "python",
   "name": "python3"
  },
  "language_info": {
   "codemirror_mode": {
    "name": "ipython",
    "version": 3
   },
   "file_extension": ".py",
   "mimetype": "text/x-python",
   "name": "python",
   "nbconvert_exporter": "python",
   "pygments_lexer": "ipython3",
   "version": "3.11.11"
  }
 },
 "nbformat": 4,
 "nbformat_minor": 2
}
