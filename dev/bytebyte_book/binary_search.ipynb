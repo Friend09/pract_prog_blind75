{
 "cells": [
  {
   "cell_type": "markdown",
   "metadata": {},
   "source": [
    "# BINARY SEARCH"
   ]
  },
  {
   "cell_type": "markdown",
   "metadata": {},
   "source": [
    "### Find the Insertion Index"
   ]
  },
  {
   "cell_type": "code",
   "execution_count": 18,
   "metadata": {},
   "outputs": [
    {
     "data": {
      "text/plain": [
       "2"
      ]
     },
     "execution_count": 18,
     "metadata": {},
     "output_type": "execute_result"
    }
   ],
   "source": [
    "from typing import List\n",
    "\n",
    "\n",
    "def find_the_insertion_index(nums: List[int], target: int) -> int:\n",
    "    left, right = 0, len(nums)\n",
    "\n",
    "    while left < right:\n",
    "        mid = (left + right) // 2\n",
    "        if nums[mid] >= target:\n",
    "            right = mid\n",
    "        else:\n",
    "            left = mid + 1\n",
    "    return left\n",
    "\n",
    "\n",
    "nums = [1, 2, 4, 5, 7, 8, 9]\n",
    "target = 4\n",
    "\n",
    "find_the_insertion_index(nums, target)"
   ]
  },
  {
   "cell_type": "markdown",
   "metadata": {},
   "source": [
    "### First and Last Occurrences of a Number\n"
   ]
  },
  {
   "cell_type": "code",
   "execution_count": 25,
   "metadata": {},
   "outputs": [
    {
     "data": {
      "text/plain": [
       "[8, 10]"
      ]
     },
     "execution_count": 25,
     "metadata": {},
     "output_type": "execute_result"
    }
   ],
   "source": [
    "from typing import List\n",
    "\n",
    "\n",
    "def first_and_last_occurences_of_a_number(nums, target):\n",
    "    lower_bound = lower_bound_binary_search(nums, target)\n",
    "    upper_bound = upper_bound_binary_search(nums, target)\n",
    "    return [lower_bound, upper_bound]\n",
    "\n",
    "\n",
    "def lower_bound_binary_search(nums, target):\n",
    "    # define left, right\n",
    "    left = 0\n",
    "    right = len(nums) - 1\n",
    "    # loop until left, right meets\n",
    "    while left < right:\n",
    "        # get mid value\n",
    "        mid = (left + right) // 2  # 12 // 2 = 6\n",
    "        # check w/ target value and update left, right pointers\n",
    "        if nums[mid] > target:\n",
    "            right = mid - 1\n",
    "        elif nums[mid] < target:\n",
    "            left = mid + 1\n",
    "        else:\n",
    "            right = mid\n",
    "    # return the left index\n",
    "    return left if nums and nums[left] == target else -1\n",
    "\n",
    "\n",
    "def upper_bound_binary_search(nums, target):\n",
    "    # define left, right\n",
    "    left = 0\n",
    "    right = len(nums) - 1\n",
    "    # loop until left, right meets\n",
    "    while left < right:\n",
    "        mid = (left + right) // 2 + 1\n",
    "        if nums[mid] > target:\n",
    "            right = mid - 1\n",
    "        elif nums[mid] < target:\n",
    "            left = mid + 1\n",
    "        else:\n",
    "            left = mid\n",
    "\n",
    "    # return the right index (upper bound index)\n",
    "    return right if nums and nums[right] == target else -1\n",
    "\n",
    "\n",
    "nums = [1, 3, 4, 5, 6, 7, 8, 9, 10, 10, 10]\n",
    "target = 10\n",
    "# nums = [1, 2, 3, 4, 4, 4, 5, 6, 7, 8, 9, 10, 11]\n",
    "# target = 4\n",
    "\n",
    "first_and_last_occurrences_of_a_number(nums, target)"
   ]
  },
  {
   "cell_type": "markdown",
   "metadata": {},
   "source": [
    "### Cutting Wood\n"
   ]
  },
  {
   "cell_type": "code",
   "execution_count": 16,
   "metadata": {},
   "outputs": [
    {
     "data": {
      "text/plain": [
       "3"
      ]
     },
     "execution_count": 16,
     "metadata": {},
     "output_type": "execute_result"
    }
   ],
   "source": [
    "from typing import List\n",
    "\n",
    "\n",
    "def cutting_wood(heights: List[int], k: int) -> int:\n",
    "    left, right = 0, max(heights)\n",
    "    while left < right:\n",
    "        mid = (left + right) // 2 + 1\n",
    "        if cuts_enough_wood(H=mid, k=k, heights=heights):  # check if H=0 return True\n",
    "            left = mid\n",
    "        else:\n",
    "            right = mid - 1\n",
    "    return right\n",
    "\n",
    "\n",
    "# Determine if the current value of 'H' cuts at least 'k' meters of\n",
    "# wood.\n",
    "def cuts_enough_wood(H: int, k: int, heights: List[int]) -> bool:\n",
    "    wood_collected = 0\n",
    "    for height in heights:\n",
    "        if height > H:\n",
    "            wood_collected += height - H\n",
    "    return wood_collected >= k\n",
    "\n",
    "\n",
    "heights = [2, 6, 3, 8]\n",
    "k = 7\n",
    "\n",
    "cutting_wood(heights, k)"
   ]
  },
  {
   "cell_type": "markdown",
   "metadata": {},
   "source": [
    "### Find the Target in a Rotated Sorted Array\n"
   ]
  },
  {
   "cell_type": "code",
   "execution_count": 30,
   "metadata": {},
   "outputs": [
    {
     "data": {
      "text/plain": [
       "-1"
      ]
     },
     "execution_count": 30,
     "metadata": {},
     "output_type": "execute_result"
    }
   ],
   "source": [
    "from typing import List\n",
    "\n",
    "\n",
    "def find_the_target_in_a_rotated_sorted_array(nums: List[int], target: int) -> int:\n",
    "    left = 0\n",
    "    right = len(nums) - 1\n",
    "\n",
    "    while left < right:\n",
    "        mid = (left + right) // 2\n",
    "        if nums[mid] == target:\n",
    "            return mid\n",
    "        # search the left  space\n",
    "        elif nums[left] <= nums[mid]:\n",
    "            if nums[left] <= target < nums[mid]:\n",
    "                right = mid - 1\n",
    "            else:\n",
    "                left = mid + 1\n",
    "\n",
    "        # search the right space\n",
    "        else:\n",
    "            if nums[mid] < target <= nums[right]:\n",
    "                left = mid + 1\n",
    "            else:\n",
    "                right = mid - 1\n",
    "\n",
    "    return left if nums and nums[left] == target else -1\n",
    "\n",
    "\n",
    "nums = []\n",
    "target = 1\n",
    "\n",
    "find_the_target_in_a_rotated_sorted_array(nums, target)"
   ]
  },
  {
   "cell_type": "markdown",
   "metadata": {},
   "source": [
    "### Find the Median From Two Sorted Arrays\n"
   ]
  },
  {
   "cell_type": "code",
   "execution_count": 8,
   "metadata": {},
   "outputs": [
    {
     "data": {
      "text/plain": [
       "4.0"
      ]
     },
     "execution_count": 8,
     "metadata": {},
     "output_type": "execute_result"
    }
   ],
   "source": [
    "from typing import List\n",
    "\n",
    "\n",
    "def find_the_median_from_two_sorted_arrays(nums1: List[int], nums2: List[int]) -> float:\n",
    "    if len(nums1) < len(nums2):\n",
    "        nums1, nums2 = nums2, nums1\n",
    "\n",
    "    # get midpoint\n",
    "    m, n = len(nums1), len(nums2)\n",
    "    half_total_len = (m + n) // 2\n",
    "    left = 0\n",
    "    right = m - 1\n",
    "\n",
    "    # get the median using binary search\n",
    "    while True:\n",
    "        L1_index = (left + right) // 2\n",
    "        L2_index = half_total_len - (L1_index + 1) - 1\n",
    "        # get the L1, L2, R1, R2\n",
    "        L1 = float(\"-inf\") if L1_index < 0 else nums1[L1_index]\n",
    "        L2 = float(\"-inf\") if L2_index < 0 else nums2[L2_index]\n",
    "        R1 = float(\"inf\") if L1_index >= m - 1 else nums1[L1_index + 1]\n",
    "        R2 = float(\"inf\") if L2_index >= n - 1 else nums2[L2_index + 1]\n",
    "        # print(L1, L2, R1, R2)\n",
    "        # break\n",
    "\n",
    "        if L1 > R2:\n",
    "            right = L1_index - 1\n",
    "        elif L2 > R1:\n",
    "            left = L1_index + 1\n",
    "        else:\n",
    "            if (m + n) % 2 == 0:  # if even\n",
    "                return (max(L1, L2) + min(R1, R2)) / 2.0\n",
    "            else:  # if odd\n",
    "                return min(R1, R2)\n",
    "\n",
    "\n",
    "nums1 = [0, 2, 5, 6, 8]\n",
    "nums2 = [1, 3, 7]\n",
    "\n",
    "find_the_median_from_two_sorted_arrays(nums1, nums2)"
   ]
  },
  {
   "cell_type": "markdown",
   "metadata": {},
   "source": [
    "### Matrix Search\n"
   ]
  },
  {
   "attachments": {
    "image.png": {
     "image/png": "[encoded data removed]"
    }
   },
   "cell_type": "markdown",
   "metadata": {},
   "source": [
    "![image.png](attachment:image.png)"
   ]
  },
  {
   "cell_type": "code",
   "execution_count": 1,
   "metadata": {},
   "outputs": [
    {
     "name": "stdout",
     "output_type": "stream",
     "text": [
      "[2, 3, 4, 6]\n",
      "[7, 10, 11, 17]\n",
      "[20, 21, 24, 33]\n"
     ]
    }
   ],
   "source": [
    "# Define the matrix\n",
    "matrix = [[2, 3, 4, 6], [7, 10, 11, 17], [20, 21, 24, 33]]\n",
    "\n",
    "# Print the matrix\n",
    "for row in matrix:\n",
    "    print(row)"
   ]
  },
  {
   "cell_type": "code",
   "execution_count": 16,
   "metadata": {},
   "outputs": [
    {
     "data": {
      "text/plain": [
       "True"
      ]
     },
     "execution_count": 16,
     "metadata": {},
     "output_type": "execute_result"
    }
   ],
   "source": [
    "from typing import List\n",
    "\n",
    "\n",
    "def matrix_search(matrix: List[List[int]], target: int) -> bool:\n",
    "    # get the # of rows, cols\n",
    "    m = len(matrix)\n",
    "    n = len(matrix[0])  # [2, 3, 4, 6]\n",
    "\n",
    "    # get left, right pointers\n",
    "    left = 0\n",
    "    right = (m * n) - 1  # lenght of flattened matrix\n",
    "\n",
    "    # loop until left, right are <=\n",
    "    while left <= right:\n",
    "        # get mid point\n",
    "        mid = (left + right) // 2\n",
    "\n",
    "        # get the index of row, col at midpoint\n",
    "        r = mid // n  # quotient\n",
    "        c = mid % n  # remainder\n",
    "\n",
    "        # check the value at midpoint to compare w/ target\n",
    "        if matrix[r][c] == target:\n",
    "            return True\n",
    "        elif matrix[r][c] < target:\n",
    "            left = mid + 1\n",
    "        else:\n",
    "            right = mid - 1\n",
    "    return False\n",
    "\n",
    "\n",
    "matrix_search(matrix, target=21)"
   ]
  },
  {
   "cell_type": "code",
   "execution_count": 5,
   "metadata": {},
   "outputs": [
    {
     "data": {
      "text/plain": [
       "3"
      ]
     },
     "execution_count": 5,
     "metadata": {},
     "output_type": "execute_result"
    }
   ],
   "source": []
  },
  {
   "cell_type": "code",
   "execution_count": null,
   "metadata": {},
   "outputs": [],
   "source": []
  },
  {
   "cell_type": "code",
   "execution_count": null,
   "metadata": {},
   "outputs": [],
   "source": []
  },
  {
   "cell_type": "markdown",
   "metadata": {},
   "source": [
    "### Local Maxima in Array\n"
   ]
  },
  {
   "cell_type": "code",
   "execution_count": null,
   "metadata": {},
   "outputs": [],
   "source": []
  },
  {
   "cell_type": "markdown",
   "metadata": {},
   "source": [
    "### Weighted Random Selection"
   ]
  },
  {
   "cell_type": "code",
   "execution_count": null,
   "metadata": {},
   "outputs": [],
   "source": []
  }
 ],
 "metadata": {
  "kernelspec": {
   "display_name": ".venv",
   "language": "python",
   "name": "python3"
  },
  "language_info": {
   "codemirror_mode": {
    "name": "ipython",
    "version": 3
   },
   "file_extension": ".py",
   "mimetype": "text/x-python",
   "name": "python",
   "nbconvert_exporter": "python",
   "pygments_lexer": "ipython3",
   "version": "3.11.11"
  }
 },
 "nbformat": 4,
 "nbformat_minor": 2
}
