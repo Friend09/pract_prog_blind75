{
 "cells": [
  {
   "cell_type": "markdown",
   "id": "bd7a0360",
   "metadata": {},
   "source": [
    "# TREES\n"
   ]
  },
  {
   "cell_type": "markdown",
   "id": "ff3bf5e8",
   "metadata": {},
   "source": [
    "## invert_binary_tree_iterative.py\n"
   ]
  },
  {
   "cell_type": "markdown",
   "id": "eb443cf9",
   "metadata": {},
   "source": [
    "## invert_binary_tree_recursive.py\n"
   ]
  },
  {
   "cell_type": "markdown",
   "id": "08a8002f",
   "metadata": {},
   "source": [
    "## balanced_binary_tree_validation.py\n"
   ]
  },
  {
   "cell_type": "markdown",
   "id": "61888e4e",
   "metadata": {},
   "source": [
    "## rightmost_nodes_of_a_binary_tree.py\n"
   ]
  },
  {
   "cell_type": "markdown",
   "id": "f8e5a3a2",
   "metadata": {},
   "source": [
    "## widest_binary_tree_level.py\n"
   ]
  },
  {
   "cell_type": "markdown",
   "id": "908aa0df",
   "metadata": {},
   "source": [
    "## binary_search_tree_validation.py\n"
   ]
  },
  {
   "cell_type": "markdown",
   "id": "fb9bb040",
   "metadata": {},
   "source": [
    "## lowest_common_ancestor.py\n"
   ]
  },
  {
   "cell_type": "markdown",
   "id": "84e62de3",
   "metadata": {},
   "source": [
    "## build_binary_tree.py\n"
   ]
  },
  {
   "cell_type": "markdown",
   "id": "c1789b4f",
   "metadata": {},
   "source": [
    "## maximum_path_sum.py\n"
   ]
  },
  {
   "cell_type": "markdown",
   "id": "5e44bc85",
   "metadata": {},
   "source": [
    "## binary_tree_symmetry.py\n"
   ]
  },
  {
   "cell_type": "markdown",
   "id": "ec2a2ffc",
   "metadata": {},
   "source": [
    "## binary_tree_columns.py\n"
   ]
  },
  {
   "cell_type": "markdown",
   "id": "19d4be07",
   "metadata": {},
   "source": [
    "## kth_smallest_number_in_BST_iterative.py\n"
   ]
  },
  {
   "cell_type": "markdown",
   "id": "2d83a3e1",
   "metadata": {},
   "source": [
    "## kth_smallest_number_in_BST_recursive.py\n"
   ]
  },
  {
   "cell_type": "markdown",
   "id": "e7923e1a",
   "metadata": {},
   "source": [
    "## serialize_and_deserialize_a_binary_tree.py\n"
   ]
  }
 ],
 "metadata": {
  "language_info": {
   "name": "python"
  }
 },
 "nbformat": 4,
 "nbformat_minor": 5
}
