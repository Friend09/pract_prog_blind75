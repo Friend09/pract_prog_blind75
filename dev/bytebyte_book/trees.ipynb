{
 "cells": [
  {
   "cell_type": "markdown",
   "id": "bd7a0360",
   "metadata": {},
   "source": [
    "# TREES\n"
   ]
  },
  {
   "cell_type": "markdown",
   "id": "ff3bf5e8",
   "metadata": {},
   "source": [
    "## invert_binary_tree_iterative.py\n"
   ]
  },
  {
   "cell_type": "code",
   "execution_count": 13,
   "id": "ebedd85f",
   "metadata": {},
   "outputs": [],
   "source": [
    "# TreeNode and inversion code\n",
    "class TreeNode:\n",
    "    def __init__(self, val):\n",
    "        self.val = val\n",
    "        self.left = None\n",
    "        self.right = None\n",
    "\n",
    "    def expr(self):\n",
    "        return f\"{self.val}\"\n",
    "\n",
    "\n",
    "def invert_binary_tree_iterative(root: TreeNode) -> TreeNode:\n",
    "    if not root:\n",
    "        return None\n",
    "    stack = [root]\n",
    "    while stack:\n",
    "        node = stack.pop()\n",
    "        # swap left, right\n",
    "        node.left, node.right = node.right, node.left\n",
    "        if node.left:\n",
    "            stack.append(node.left)\n",
    "        if node.right:\n",
    "            stack.append(node.right)\n",
    "    return root"
   ]
  },
  {
   "cell_type": "code",
   "execution_count": 16,
   "id": "9583e91b",
   "metadata": {},
   "outputs": [
    {
     "data": {
      "text/plain": [
       "<__main__.TreeNode at 0x116ac8610>"
      ]
     },
     "execution_count": 16,
     "metadata": {},
     "output_type": "execute_result"
    }
   ],
   "source": [
    "def build_binary_tree(values):\n",
    "    \"\"\"\n",
    "    Build a binary tree from a list of values in level order.\n",
    "    None values represent empty nodes.\n",
    "    \"\"\"\n",
    "    if not values or values[0] is None:\n",
    "        return None\n",
    "\n",
    "    root = TreeNode(values[0])\n",
    "    queue = [root]\n",
    "    i = 1\n",
    "\n",
    "    while queue and i < len(values):\n",
    "        node = queue.pop(0)\n",
    "\n",
    "        # Left child\n",
    "        if i < len(values) and values[i] is not None:\n",
    "            node.left = TreeNode(values[i])\n",
    "            queue.append(node.left)\n",
    "        i += 1\n",
    "\n",
    "        # Right child\n",
    "        if i < len(values) and values[i] is not None:\n",
    "            node.right = TreeNode(values[i])\n",
    "            queue.append(node.right)\n",
    "        i += 1\n",
    "\n",
    "    return root\n",
    "\n",
    "\n",
    "tree_list = [5, 1, 8, 7, 6, None, 4]\n",
    "root = build_binary_tree(tree_list)\n",
    "\n",
    "invert_binary_tree_iterative(root)"
   ]
  },
  {
   "cell_type": "markdown",
   "id": "eb443cf9",
   "metadata": {},
   "source": [
    "## invert_binary_tree_recursive.py\n"
   ]
  },
  {
   "cell_type": "code",
   "execution_count": null,
   "id": "44b56a00",
   "metadata": {},
   "outputs": [
    {
     "data": {
      "text/plain": [
       "<__main__.TreeNode at 0x116aaee10>"
      ]
     },
     "execution_count": 19,
     "metadata": {},
     "output_type": "execute_result"
    }
   ],
   "source": [
    "class TreeNode:\n",
    "    def __init__(self, val):\n",
    "        self.val = val\n",
    "        self.left = None\n",
    "        self.right = None\n",
    "\n",
    "\n",
    "def invert_binary_tree_recursive(root: TreeNode):\n",
    "    if not root:\n",
    "        return None\n",
    "\n",
    "    root.left, root.right = root.right, root.left\n",
    "    invert_binary_tree_recursive(root.left)\n",
    "    invert_binary_tree_recursive(root.right)\n",
    "    return root\n",
    "\n",
    "\n",
    "# Create and print the tree\n",
    "tree_list = [5, 1, 8, 7, 6, None, 4]\n",
    "root = build_binary_tree(tree_list)\n",
    "\n",
    "invert_binary_tree_iterative(root)"
   ]
  },
  {
   "cell_type": "markdown",
   "id": "08a8002f",
   "metadata": {},
   "source": [
    "## balanced_binary_tree_validation.py\n"
   ]
  },
  {
   "cell_type": "code",
   "execution_count": 2,
   "id": "432422e1",
   "metadata": {},
   "outputs": [],
   "source": [
    "class TreeNode:\n",
    "    def __init__(self, val=0, left=None, right=None):\n",
    "        self.val = val\n",
    "        self.left = left\n",
    "        self.right = right"
   ]
  },
  {
   "cell_type": "code",
   "execution_count": null,
   "id": "1bde3ced",
   "metadata": {},
   "outputs": [
    {
     "ename": "NameError",
     "evalue": "name 'TreeNode' is not defined",
     "output_type": "error",
     "traceback": [
      "\u001b[0;31m---------------------------------------------------------------------------\u001b[0m",
      "\u001b[0;31mNameError\u001b[0m                                 Traceback (most recent call last)",
      "Cell \u001b[0;32mIn[5], line 1\u001b[0m\n\u001b[0;32m----> 1\u001b[0m \u001b[38;5;28;01mdef\u001b[39;00m \u001b[38;5;21mbalanced_binary_tree_validation\u001b[39m(root: \u001b[43mTreeNode\u001b[49m) \u001b[38;5;241m-\u001b[39m\u001b[38;5;241m>\u001b[39m \u001b[38;5;28mbool\u001b[39m:\n\u001b[1;32m      2\u001b[0m     \u001b[38;5;28;01mreturn\u001b[39;00m get_height_imbalance(root) \u001b[38;5;241m!=\u001b[39m \u001b[38;5;241m-\u001b[39m\u001b[38;5;241m1\u001b[39m\n\u001b[1;32m      5\u001b[0m \u001b[38;5;28;01mdef\u001b[39;00m \u001b[38;5;21mget_height_imbalance\u001b[39m(node: TreeNode) \u001b[38;5;241m-\u001b[39m\u001b[38;5;241m>\u001b[39m \u001b[38;5;28mint\u001b[39m:\n",
      "\u001b[0;31mNameError\u001b[0m: name 'TreeNode' is not defined"
     ]
    }
   ],
   "source": [
    "def balanced_binary_tree_validation(root: TreeNode) -> bool:\n",
    "    return get_height_imbalance(root) != -1\n",
    "\n",
    "\n",
    "def get_height_imbalance(node: TreeNode) -> int:\n",
    "    # base case\n",
    "    if not node:\n",
    "        return 0"
   ]
  },
  {
   "cell_type": "code",
   "execution_count": null,
   "id": "50e97305",
   "metadata": {},
   "outputs": [],
   "source": []
  },
  {
   "cell_type": "code",
   "execution_count": null,
   "id": "f2ee85d4",
   "metadata": {},
   "outputs": [],
   "source": []
  },
  {
   "cell_type": "code",
   "execution_count": null,
   "id": "19816ac9",
   "metadata": {},
   "outputs": [],
   "source": []
  },
  {
   "cell_type": "markdown",
   "id": "61888e4e",
   "metadata": {},
   "source": [
    "## rightmost_nodes_of_a_binary_tree.py\n"
   ]
  },
  {
   "cell_type": "markdown",
   "id": "f8e5a3a2",
   "metadata": {},
   "source": [
    "## widest_binary_tree_level.py\n"
   ]
  },
  {
   "cell_type": "markdown",
   "id": "908aa0df",
   "metadata": {},
   "source": [
    "## binary_search_tree_validation.py\n"
   ]
  },
  {
   "cell_type": "markdown",
   "id": "fb9bb040",
   "metadata": {},
   "source": [
    "## lowest_common_ancestor.py\n"
   ]
  },
  {
   "cell_type": "markdown",
   "id": "84e62de3",
   "metadata": {},
   "source": [
    "## build_binary_tree.py\n"
   ]
  },
  {
   "cell_type": "markdown",
   "id": "c1789b4f",
   "metadata": {},
   "source": [
    "## maximum_path_sum.py\n"
   ]
  },
  {
   "cell_type": "markdown",
   "id": "5e44bc85",
   "metadata": {},
   "source": [
    "## binary_tree_symmetry.py\n"
   ]
  },
  {
   "cell_type": "markdown",
   "id": "ec2a2ffc",
   "metadata": {},
   "source": [
    "## binary_tree_columns.py\n"
   ]
  },
  {
   "cell_type": "markdown",
   "id": "19d4be07",
   "metadata": {},
   "source": [
    "## kth_smallest_number_in_BST_iterative.py\n"
   ]
  },
  {
   "cell_type": "markdown",
   "id": "2d83a3e1",
   "metadata": {},
   "source": [
    "## kth_smallest_number_in_BST_recursive.py\n"
   ]
  },
  {
   "cell_type": "markdown",
   "id": "e7923e1a",
   "metadata": {},
   "source": [
    "## serialize_and_deserialize_a_binary_tree.py\n"
   ]
  }
 ],
 "metadata": {
  "kernelspec": {
   "display_name": ".venv",
   "language": "python",
   "name": "python3"
  },
  "language_info": {
   "codemirror_mode": {
    "name": "ipython",
    "version": 3
   },
   "file_extension": ".py",
   "mimetype": "text/x-python",
   "name": "python",
   "nbconvert_exporter": "python",
   "pygments_lexer": "ipython3",
   "version": "3.11.12"
  }
 },
 "nbformat": 4,
 "nbformat_minor": 5
}
