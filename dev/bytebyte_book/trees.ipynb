{
 "cells": [
  {
   "cell_type": "markdown",
   "id": "bd7a0360",
   "metadata": {},
   "source": [
    "# TREES\n"
   ]
  },
  {
   "cell_type": "markdown",
   "id": "ff3bf5e8",
   "metadata": {},
   "source": [
    "## invert_binary_tree_iterative.py\n"
   ]
  },
  {
   "cell_type": "code",
   "execution_count": 2,
   "id": "ebedd85f",
   "metadata": {},
   "outputs": [],
   "source": [
    "# TreeNode and inversion code\n",
    "class TreeNode:\n",
    "    def __init__(self, val):\n",
    "        self.val = val\n",
    "        self.left = None\n",
    "        self.right = None\n",
    "\n",
    "    def __repr__(self):\n",
    "        return f\"{self.val}\"\n",
    "\n",
    "\n",
    "def invert_binary_tree_iterative(root: TreeNode) -> TreeNode:\n",
    "    if not root:\n",
    "        return None\n",
    "    stack = [root]\n",
    "    while stack:\n",
    "        node = stack.pop()\n",
    "        # swap left, right\n",
    "        node.left, node.right = node.right, node.left\n",
    "        if node.left:\n",
    "            stack.append(node.left)\n",
    "        if node.right:\n",
    "            stack.append(node.right)\n",
    "    return root"
   ]
  },
  {
   "cell_type": "code",
   "execution_count": 3,
   "id": "9583e91b",
   "metadata": {},
   "outputs": [
    {
     "data": {
      "text/plain": [
       "5"
      ]
     },
     "execution_count": 3,
     "metadata": {},
     "output_type": "execute_result"
    }
   ],
   "source": [
    "def build_binary_tree(values):\n",
    "    \"\"\"\n",
    "    Build a binary tree from a list of values in level order.\n",
    "    None values represent empty nodes.\n",
    "    \"\"\"\n",
    "    if not values or values[0] is None:\n",
    "        return None\n",
    "\n",
    "    root = TreeNode(values[0])\n",
    "    queue = [root]\n",
    "    i = 1\n",
    "\n",
    "    while queue and i < len(values):\n",
    "        node = queue.pop(0)\n",
    "\n",
    "        # Left child\n",
    "        if i < len(values) and values[i] is not None:\n",
    "            node.left = TreeNode(values[i])\n",
    "            queue.append(node.left)\n",
    "        i += 1\n",
    "\n",
    "        # Right child\n",
    "        if i < len(values) and values[i] is not None:\n",
    "            node.right = TreeNode(values[i])\n",
    "            queue.append(node.right)\n",
    "        i += 1\n",
    "\n",
    "    return root\n",
    "\n",
    "\n",
    "tree_list = [5, 1, 8, 7, 6, None, 4]\n",
    "root = build_binary_tree(tree_list)\n",
    "\n",
    "invert_binary_tree_iterative(root)"
   ]
  },
  {
   "cell_type": "markdown",
   "id": "eb443cf9",
   "metadata": {},
   "source": [
    "## invert_binary_tree_recursive.py\n"
   ]
  },
  {
   "cell_type": "code",
   "execution_count": 23,
   "id": "44b56a00",
   "metadata": {},
   "outputs": [
    {
     "data": {
      "text/plain": [
       "<__main__.TreeNode at 0x107c7c710>"
      ]
     },
     "execution_count": 23,
     "metadata": {},
     "output_type": "execute_result"
    }
   ],
   "source": [
    "class TreeNode:\n",
    "    def __init__(self, val):\n",
    "        self.val = val\n",
    "        self.left = None\n",
    "        self.right = None\n",
    "\n",
    "\n",
    "def invert_binary_tree_recursive(root: TreeNode):\n",
    "    if not root:\n",
    "        return None\n",
    "\n",
    "    root.left, root.right = root.right, root.left\n",
    "    invert_binary_tree_recursive(root.left)\n",
    "    invert_binary_tree_recursive(root.right)\n",
    "    return root\n",
    "\n",
    "\n",
    "# Create and print the tree\n",
    "tree_list = [5, 1, 8, 7, 6, None, 4]\n",
    "root = build_binary_tree(tree_list)\n",
    "\n",
    "invert_binary_tree_iterative(root)"
   ]
  },
  {
   "cell_type": "markdown",
   "id": "08a8002f",
   "metadata": {},
   "source": [
    "## balanced_binary_tree_validation.py\n"
   ]
  },
  {
   "cell_type": "code",
   "execution_count": 24,
   "id": "432422e1",
   "metadata": {},
   "outputs": [],
   "source": [
    "class TreeNode:\n",
    "    def __init__(self, val=0, left=None, right=None):\n",
    "        self.val = val\n",
    "        self.left = left\n",
    "        self.right = right"
   ]
  },
  {
   "cell_type": "code",
   "execution_count": 25,
   "id": "1bde3ced",
   "metadata": {},
   "outputs": [],
   "source": [
    "def balanced_binary_tree_validation(root: TreeNode) -> bool:\n",
    "    return get_height_imbalance(root) != -1\n",
    "\n",
    "\n",
    "def get_height_imbalance(node: TreeNode) -> int:\n",
    "    if not node:\n",
    "        return 0\n",
    "\n",
    "    left_height = get_height_imbalance(node.left)\n",
    "    right_height = get_height_imbalance(node.right)\n",
    "\n",
    "    if left_height == -1 or right_height == -1:\n",
    "        return -1\n",
    "\n",
    "    if abs(left_height - right_height) > 1:\n",
    "        return -1\n",
    "\n",
    "    return 1 + max(left_height, right_height)"
   ]
  },
  {
   "cell_type": "code",
   "execution_count": 26,
   "id": "50e97305",
   "metadata": {},
   "outputs": [
    {
     "data": {
      "text/plain": [
       "True"
      ]
     },
     "execution_count": 26,
     "metadata": {},
     "output_type": "execute_result"
    }
   ],
   "source": [
    "tree_list = [5, 1, 8, 7, 6, None, 4]\n",
    "root = build_binary_tree(tree_list)\n",
    "\n",
    "balanced_binary_tree_validation(root)"
   ]
  },
  {
   "cell_type": "markdown",
   "id": "61888e4e",
   "metadata": {},
   "source": [
    "## rightmost_nodes_of_a_binary_tree.py\n"
   ]
  },
  {
   "cell_type": "code",
   "execution_count": 27,
   "id": "34dbaf2b",
   "metadata": {},
   "outputs": [],
   "source": [
    "class TreeNode:\n",
    "    def __init__(self, val):\n",
    "        self.val = val\n",
    "        self.left = None\n",
    "        self.right = None"
   ]
  },
  {
   "cell_type": "code",
   "execution_count": 28,
   "id": "ce6c4dbd",
   "metadata": {},
   "outputs": [],
   "source": [
    "from typing import List\n",
    "from collections import deque\n",
    "\n",
    "\n",
    "def rightmost_nodes_of_a_binary_tree(root: TreeNode) -> List[int]:\n",
    "    if not root:\n",
    "        return []\n",
    "    res = []\n",
    "    queue = deque([root])\n",
    "    while queue:\n",
    "        level_size = len(queue)\n",
    "        for i in range(level_size):\n",
    "            node = queue.popleft()\n",
    "            if node.left:\n",
    "                queue.append(node.left)\n",
    "            if node.right:\n",
    "                queue.append(node.right)\n",
    "\n",
    "            if i == level_size - 1:\n",
    "                res.append(node.val)\n",
    "\n",
    "    return res"
   ]
  },
  {
   "cell_type": "markdown",
   "id": "f8e5a3a2",
   "metadata": {},
   "source": [
    "## widest_binary_tree_level.py\n"
   ]
  },
  {
   "cell_type": "code",
   "execution_count": 29,
   "id": "caff73b7",
   "metadata": {},
   "outputs": [],
   "source": [
    "from collections import deque\n",
    "\n",
    "\n",
    "class TreeNode:\n",
    "    def __init__(self, val):\n",
    "        self.val = val\n",
    "        self.left = None\n",
    "        self.right = None\n",
    "\n",
    "    def expr(self):\n",
    "        return str(self.val)"
   ]
  },
  {
   "cell_type": "code",
   "execution_count": 30,
   "id": "866f5b40",
   "metadata": {},
   "outputs": [],
   "source": [
    "import matplotlib.pyplot as plt\n",
    "import networkx as nx\n",
    "\n",
    "\n",
    "def build_binary_tree(values):\n",
    "    if not values or values[0] is None:\n",
    "        return None\n",
    "\n",
    "    root = TreeNode(values[0])\n",
    "    queue = [root]\n",
    "    i = 1\n",
    "\n",
    "    while queue and i < len(values):\n",
    "        node = queue.pop(0)\n",
    "\n",
    "        if i < len(values) and values[i] is not None:\n",
    "            node.left = TreeNode(values[i])\n",
    "            queue.append(node.left)\n",
    "        i += 1\n",
    "\n",
    "        if i < len(values) and values[i] is not None:\n",
    "            node.right = TreeNode(values[i])\n",
    "            queue.append(node.right)\n",
    "        i += 1\n",
    "\n",
    "    return root\n",
    "\n",
    "\n",
    "def add_edges(graph, node, pos, x=0, y=0, level=1, dx=1.0):\n",
    "    if node:\n",
    "        graph.add_node(node.val)\n",
    "        pos[node.val] = (x, y)\n",
    "        if node.left:\n",
    "            graph.add_edge(node.val, node.left.val)\n",
    "            add_edges(graph, node.left, pos, x - dx, y - 1, level + 1, dx / 2)\n",
    "        if node.right:\n",
    "            graph.add_edge(node.val, node.right.val)\n",
    "            add_edges(graph, node.right, pos, x + dx, y - 1, level + 1, dx / 2)"
   ]
  },
  {
   "cell_type": "code",
   "execution_count": 31,
   "id": "fc93e2ae",
   "metadata": {},
   "outputs": [
    {
     "data": {
      "image/png": "[encoded data removed]",
      "text/plain": [
       "<Figure size 1000x600 with 1 Axes>"
      ]
     },
     "metadata": {},
     "output_type": "display_data"
    }
   ],
   "source": [
    "tree_list = [1, 2, 3, 4, 5, None, 7, 8, 9, None, 11, None, None, 14]\n",
    "root = build_binary_tree(values=tree_list)\n",
    "\n",
    "G = nx.DiGraph()\n",
    "pos = {}\n",
    "add_edges(G, root, pos)\n",
    "\n",
    "plt.figure(figsize=(10, 6))\n",
    "nx.draw(G, pos, with_labels=True, arrows=False, node_size=1000, node_color=\"lightblue\")\n",
    "plt.title(\"Binary Tree Visualization\")\n",
    "plt.show()"
   ]
  },
  {
   "cell_type": "code",
   "execution_count": 32,
   "id": "ed86f373",
   "metadata": {},
   "outputs": [],
   "source": [
    "def widest_binary_tree_level(root: TreeNode) -> int:\n",
    "    if not root:\n",
    "        return 0\n",
    "    max_width = 0\n",
    "    queue = deque([(root, 0)])  # (node, index) pair\n",
    "\n",
    "    while queue:\n",
    "        level_size = len(queue)\n",
    "        leftmost_index = queue[0][1]  # -> (_, index)\n",
    "        rightmost_index = leftmost_index  # initially same as left\n",
    "\n",
    "        for _ in range(level_size):\n",
    "            node, i = queue.popleft()\n",
    "            if node.left:\n",
    "                queue.append((node.left, 2 * i + 1))\n",
    "            if node.right:\n",
    "                queue.append((node.right), 2 * i + 2)\n",
    "            rightmost_index = i\n",
    "        max_width = max(max_width, rightmost_index - leftmost_index + 1)\n",
    "    return max_width"
   ]
  },
  {
   "cell_type": "markdown",
   "id": "908aa0df",
   "metadata": {},
   "source": [
    "## binary_search_tree_validation.py\n"
   ]
  },
  {
   "cell_type": "code",
   "execution_count": 33,
   "id": "a9070b0b",
   "metadata": {},
   "outputs": [],
   "source": [
    "class TreeNode:\n",
    "    def __init__(self, val):\n",
    "        self.val = val\n",
    "        self.left = None\n",
    "        self.right = None\n",
    "\n",
    "\n",
    "def binary_search_tree_validation(root: TreeNode) -> bool:\n",
    "    return is_within_bounds(root, float(\"-inf\"), float(\"inf\"))\n",
    "\n",
    "\n",
    "def is_within_bounds(node: TreeNode, lower_bound: int, upper_bound: int) -> bool:\n",
    "    if not node:\n",
    "        return True\n",
    "\n",
    "    if not lower_bound < node.val < upper_bound:\n",
    "        return False\n",
    "\n",
    "    if not is_within_bounds(node.left, lower_bound, node.val):\n",
    "        return False\n",
    "\n",
    "    return is_within_bounds(node.right, node.val, upper_bound)"
   ]
  },
  {
   "cell_type": "markdown",
   "id": "fb9bb040",
   "metadata": {},
   "source": [
    "## lowest_common_ancestor.py\n"
   ]
  },
  {
   "cell_type": "code",
   "execution_count": 34,
   "id": "052c6d76",
   "metadata": {},
   "outputs": [],
   "source": [
    "class TreeNode:\n",
    "    def __init__(self, val):\n",
    "        self.val = val\n",
    "        self.left = None\n",
    "        self.right = None\n",
    "\n",
    "    def __repr__(self):\n",
    "        return f\"TreeNode({self.val})\"\n",
    "\n",
    "\n",
    "def build_tree(nodes):\n",
    "    \"\"\"Build binary tree from a level-order array representation\"\"\"\n",
    "    if not nodes or nodes[0] is None:\n",
    "        return None\n",
    "\n",
    "    # create root node\n",
    "    root = TreeNode(nodes[0])\n",
    "    queue = [root]\n",
    "    i = 1\n",
    "\n",
    "    # Process the rest of the nodes\n",
    "    while queue and i < len(nodes):\n",
    "        node = queue.pop(0)\n",
    "\n",
    "        # Add left child\n",
    "        if i < len(nodes) and nodes[i] is not None:\n",
    "            node.left = TreeNode(nodes[i])\n",
    "            queue.append(node.left)\n",
    "        i += 1\n",
    "\n",
    "        # Add right child\n",
    "        if i < len(nodes) and nodes[i] is not None:\n",
    "            node.right = TreeNode(nodes[i])\n",
    "            queue.append(node.right)\n",
    "        i += 1\n",
    "\n",
    "    return root"
   ]
  },
  {
   "cell_type": "code",
   "execution_count": 42,
   "id": "ba08b745",
   "metadata": {},
   "outputs": [],
   "source": [
    "def find_node(root, target_val):\n",
    "    \"\"\"Find the node with the specified value in the tree.\"\"\"\n",
    "    if not root:\n",
    "        return None\n",
    "\n",
    "    if root.val == target_val:\n",
    "        return root\n",
    "\n",
    "    # Check left and right subtrees\n",
    "    left_result = find_node(root.left, target_val)\n",
    "    if left_result:\n",
    "        return left_result\n",
    "\n",
    "    return find_node(root.right, target_val)"
   ]
  },
  {
   "cell_type": "code",
   "execution_count": 43,
   "id": "e07c90ee",
   "metadata": {},
   "outputs": [],
   "source": [
    "def lowest_common_ancestor(root, p, q):\n",
    "    \"\"\"Find the lowest common ancestor of nodes p and q.\"\"\"\n",
    "    result = [None]  # Use a list to store our result\n",
    "\n",
    "    def dfs(node):\n",
    "        if not node:\n",
    "            return False\n",
    "\n",
    "        node_is_p_or_q = node == p or node == q\n",
    "        left_contains_p_or_q = dfs(node.left)\n",
    "        right_contains_p_or_q = dfs(node.right)\n",
    "\n",
    "        if node_is_p_or_q + left_contains_p_or_q + right_contains_p_or_q == 2:\n",
    "            result[0] = node\n",
    "\n",
    "        return node_is_p_or_q or left_contains_p_or_q or right_contains_p_or_q\n",
    "\n",
    "    dfs(root)\n",
    "    return result[0]"
   ]
  },
  {
   "cell_type": "code",
   "execution_count": 44,
   "id": "3f28fdc9",
   "metadata": {},
   "outputs": [
    {
     "name": "stdout",
     "output_type": "stream",
     "text": [
      "The LCA of nodes TreeNode(8) and TreeNode(7) is: TreeNode(3)\n"
     ]
    }
   ],
   "source": [
    "# Test with the example\n",
    "nodes = [1, 2, 3, 4, 5, 6, 7, None, None, None, None, 8, 9]\n",
    "root = build_tree(nodes)\n",
    "\n",
    "# Find the nodes with values 8 and 7\n",
    "p = find_node(root, 8)\n",
    "q = find_node(root, 7)\n",
    "\n",
    "# Find the LCA\n",
    "lca = lowest_common_ancestor(root, p, q)\n",
    "print(f\"The LCA of nodes {p} and {q} is: {lca}\")"
   ]
  },
  {
   "cell_type": "markdown",
   "id": "84e62de3",
   "metadata": {},
   "source": [
    "## build_binary_tree.py\n"
   ]
  },
  {
   "cell_type": "code",
   "execution_count": 9,
   "id": "0dec2881",
   "metadata": {},
   "outputs": [],
   "source": [
    "from typing import List, Optional\n",
    "\n",
    "\n",
    "class TreeNode:\n",
    "    def __init__(self, val):\n",
    "        self.val = val\n",
    "        self.left = None\n",
    "        self.right = None"
   ]
  },
  {
   "cell_type": "code",
   "execution_count": 15,
   "id": "e92c2451",
   "metadata": {},
   "outputs": [],
   "source": [
    "def build_binary_tree(preorder: List[int], inorder: List[int]) -> Optional[TreeNode]:\n",
    "    pass"
   ]
  },
  {
   "cell_type": "markdown",
   "id": "c1789b4f",
   "metadata": {},
   "source": [
    "## maximum_path_sum.py\n"
   ]
  },
  {
   "cell_type": "markdown",
   "id": "5e44bc85",
   "metadata": {},
   "source": [
    "## binary_tree_symmetry.py\n"
   ]
  },
  {
   "cell_type": "markdown",
   "id": "ec2a2ffc",
   "metadata": {},
   "source": [
    "## binary_tree_columns.py\n"
   ]
  },
  {
   "cell_type": "markdown",
   "id": "19d4be07",
   "metadata": {},
   "source": [
    "## kth_smallest_number_in_BST_iterative.py\n"
   ]
  },
  {
   "cell_type": "markdown",
   "id": "2d83a3e1",
   "metadata": {},
   "source": [
    "## kth_smallest_number_in_BST_recursive.py\n"
   ]
  },
  {
   "cell_type": "markdown",
   "id": "e7923e1a",
   "metadata": {},
   "source": [
    "## serialize_and_deserialize_a_binary_tree.py\n"
   ]
  }
 ],
 "metadata": {
  "kernelspec": {
   "display_name": ".venv",
   "language": "python",
   "name": "python3"
  },
  "language_info": {
   "codemirror_mode": {
    "name": "ipython",
    "version": 3
   },
   "file_extension": ".py",
   "mimetype": "text/x-python",
   "name": "python",
   "nbconvert_exporter": "python",
   "pygments_lexer": "ipython3",
   "version": "3.13.2"
  }
 },
 "nbformat": 4,
 "nbformat_minor": 5
}
