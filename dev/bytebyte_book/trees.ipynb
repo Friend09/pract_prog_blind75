{
 "cells": [
  {
   "cell_type": "markdown",
   "id": "bd7a0360",
   "metadata": {},
   "source": [
    "# TREES\n"
   ]
  },
  {
   "cell_type": "markdown",
   "id": "ff3bf5e8",
   "metadata": {},
   "source": [
    "## invert_binary_tree_iterative.py\n"
   ]
  },
  {
   "cell_type": "code",
   "execution_count": 5,
   "id": "ebedd85f",
   "metadata": {},
   "outputs": [],
   "source": [
    "# TreeNode and inversion code\n",
    "class TreeNode:\n",
    "    def __init__(self, val):\n",
    "        self.val = val\n",
    "        self.left = None\n",
    "        self.right = None\n",
    "\n",
    "    def expr(self):\n",
    "        return f\"{self.val}\"\n",
    "\n",
    "\n",
    "def invert_binary_tree_iterative(root: TreeNode) -> TreeNode:\n",
    "    if not root:\n",
    "        return None\n",
    "    stack = [root]\n",
    "    while stack:\n",
    "        node = stack.pop()\n",
    "        # swap left, right\n",
    "        node.left, node.right = node.right, node.left\n",
    "        if node.left:\n",
    "            stack.append(node.left)\n",
    "        if node.right:\n",
    "            stack.append(node.right)\n",
    "    return root"
   ]
  },
  {
   "cell_type": "code",
   "execution_count": 6,
   "id": "9583e91b",
   "metadata": {},
   "outputs": [
    {
     "data": {
      "text/plain": [
       "<__main__.TreeNode at 0x112cde510>"
      ]
     },
     "execution_count": 6,
     "metadata": {},
     "output_type": "execute_result"
    }
   ],
   "source": [
    "def build_binary_tree(values):\n",
    "    \"\"\"\n",
    "    Build a binary tree from a list of values in level order.\n",
    "    None values represent empty nodes.\n",
    "    \"\"\"\n",
    "    if not values or values[0] is None:\n",
    "        return None\n",
    "\n",
    "    root = TreeNode(values[0])\n",
    "    queue = [root]\n",
    "    i = 1\n",
    "\n",
    "    while queue and i < len(values):\n",
    "        node = queue.pop(0)\n",
    "\n",
    "        # Left child\n",
    "        if i < len(values) and values[i] is not None:\n",
    "            node.left = TreeNode(values[i])\n",
    "            queue.append(node.left)\n",
    "        i += 1\n",
    "\n",
    "        # Right child\n",
    "        if i < len(values) and values[i] is not None:\n",
    "            node.right = TreeNode(values[i])\n",
    "            queue.append(node.right)\n",
    "        i += 1\n",
    "\n",
    "    return root\n",
    "\n",
    "\n",
    "tree_list = [5, 1, 8, 7, 6, None, 4]\n",
    "root = build_binary_tree(tree_list)\n",
    "\n",
    "invert_binary_tree_iterative(root)"
   ]
  },
  {
   "cell_type": "markdown",
   "id": "eb443cf9",
   "metadata": {},
   "source": [
    "## invert_binary_tree_recursive.py\n"
   ]
  },
  {
   "cell_type": "code",
   "execution_count": 7,
   "id": "44b56a00",
   "metadata": {},
   "outputs": [
    {
     "data": {
      "text/plain": [
       "<__main__.TreeNode at 0x1127c5910>"
      ]
     },
     "execution_count": 7,
     "metadata": {},
     "output_type": "execute_result"
    }
   ],
   "source": [
    "class TreeNode:\n",
    "    def __init__(self, val):\n",
    "        self.val = val\n",
    "        self.left = None\n",
    "        self.right = None\n",
    "\n",
    "\n",
    "def invert_binary_tree_recursive(root: TreeNode):\n",
    "    if not root:\n",
    "        return None\n",
    "\n",
    "    root.left, root.right = root.right, root.left\n",
    "    invert_binary_tree_recursive(root.left)\n",
    "    invert_binary_tree_recursive(root.right)\n",
    "    return root\n",
    "\n",
    "\n",
    "# Create and print the tree\n",
    "tree_list = [5, 1, 8, 7, 6, None, 4]\n",
    "root = build_binary_tree(tree_list)\n",
    "\n",
    "invert_binary_tree_iterative(root)"
   ]
  },
  {
   "cell_type": "markdown",
   "id": "08a8002f",
   "metadata": {},
   "source": [
    "## balanced_binary_tree_validation.py\n"
   ]
  },
  {
   "cell_type": "code",
   "execution_count": 8,
   "id": "432422e1",
   "metadata": {},
   "outputs": [],
   "source": [
    "class TreeNode:\n",
    "    def __init__(self, val=0, left=None, right=None):\n",
    "        self.val = val\n",
    "        self.left = left\n",
    "        self.right = right"
   ]
  },
  {
   "cell_type": "code",
   "execution_count": 9,
   "id": "1bde3ced",
   "metadata": {},
   "outputs": [],
   "source": [
    "def balanced_binary_tree_validation(root: TreeNode) -> bool:\n",
    "    return get_height_imbalance(root) != -1\n",
    "\n",
    "\n",
    "def get_height_imbalance(node: TreeNode) -> int:\n",
    "    if not node:\n",
    "        return 0\n",
    "\n",
    "    left_height = get_height_imbalance(node.left)\n",
    "    right_height = get_height_imbalance(node.right)\n",
    "\n",
    "    if left_height == -1 or right_height == -1:\n",
    "        return -1\n",
    "\n",
    "    if abs(left_height - right_height) > 1:\n",
    "        return -1\n",
    "\n",
    "    return 1 + max(left_height, right_height)"
   ]
  },
  {
   "cell_type": "code",
   "execution_count": 10,
   "id": "50e97305",
   "metadata": {},
   "outputs": [
    {
     "data": {
      "text/plain": [
       "True"
      ]
     },
     "execution_count": 10,
     "metadata": {},
     "output_type": "execute_result"
    }
   ],
   "source": [
    "tree_list = [5, 1, 8, 7, 6, None, 4]\n",
    "root = build_binary_tree(tree_list)\n",
    "\n",
    "balanced_binary_tree_validation(root)"
   ]
  },
  {
   "cell_type": "code",
   "execution_count": null,
   "id": "f2ee85d4",
   "metadata": {},
   "outputs": [],
   "source": []
  },
  {
   "cell_type": "code",
   "execution_count": null,
   "id": "19816ac9",
   "metadata": {},
   "outputs": [],
   "source": []
  },
  {
   "cell_type": "markdown",
   "id": "61888e4e",
   "metadata": {},
   "source": [
    "## rightmost_nodes_of_a_binary_tree.py\n"
   ]
  },
  {
   "cell_type": "code",
   "execution_count": 2,
   "id": "34dbaf2b",
   "metadata": {},
   "outputs": [],
   "source": [
    "class TreeNode:\n",
    "    def __init__(self, val):\n",
    "        self.val = val\n",
    "        self.left = None\n",
    "        self.right = None"
   ]
  },
  {
   "cell_type": "code",
   "execution_count": null,
   "id": "ce6c4dbd",
   "metadata": {},
   "outputs": [],
   "source": [
    "from typing import List\n",
    "from collections import deque\n",
    "\n",
    "def rightmost_nodes_of_a_binary_tree(root: TreeNode) -> List[int]:\n",
    "    if not root:\n",
    "        return []\n",
    "    res = []\n",
    "    queue = deque([root])\n",
    "    while queue:\n",
    "        level_size = len(queue)\n",
    "        for i in range(level_size):\n",
    "            node = queue.popleft()\n",
    "            if node.left:\n",
    "                queue.append(node.left)\n",
    "            if node.right:\n",
    "                queue.append(node.right)\n",
    "\n",
    "            if i == level_size - 1:\n",
    "                res.append(node.val)\n",
    "\n",
    "    return res"
   ]
  },
  {
   "cell_type": "markdown",
   "id": "f8e5a3a2",
   "metadata": {},
   "source": [
    "## widest_binary_tree_level.py\n"
   ]
  },
  {
   "cell_type": "markdown",
   "id": "908aa0df",
   "metadata": {},
   "source": [
    "## binary_search_tree_validation.py\n"
   ]
  },
  {
   "cell_type": "markdown",
   "id": "fb9bb040",
   "metadata": {},
   "source": [
    "## lowest_common_ancestor.py\n"
   ]
  },
  {
   "cell_type": "markdown",
   "id": "84e62de3",
   "metadata": {},
   "source": [
    "## build_binary_tree.py\n"
   ]
  },
  {
   "cell_type": "markdown",
   "id": "c1789b4f",
   "metadata": {},
   "source": [
    "## maximum_path_sum.py\n"
   ]
  },
  {
   "cell_type": "markdown",
   "id": "5e44bc85",
   "metadata": {},
   "source": [
    "## binary_tree_symmetry.py\n"
   ]
  },
  {
   "cell_type": "markdown",
   "id": "ec2a2ffc",
   "metadata": {},
   "source": [
    "## binary_tree_columns.py\n"
   ]
  },
  {
   "cell_type": "markdown",
   "id": "19d4be07",
   "metadata": {},
   "source": [
    "## kth_smallest_number_in_BST_iterative.py\n"
   ]
  },
  {
   "cell_type": "markdown",
   "id": "2d83a3e1",
   "metadata": {},
   "source": [
    "## kth_smallest_number_in_BST_recursive.py\n"
   ]
  },
  {
   "cell_type": "markdown",
   "id": "e7923e1a",
   "metadata": {},
   "source": [
    "## serialize_and_deserialize_a_binary_tree.py\n"
   ]
  }
 ],
 "metadata": {
  "kernelspec": {
   "display_name": ".venv",
   "language": "python",
   "name": "python3"
  },
  "language_info": {
   "codemirror_mode": {
    "name": "ipython",
    "version": 3
   },
   "file_extension": ".py",
   "mimetype": "text/x-python",
   "name": "python",
   "nbconvert_exporter": "python",
   "pygments_lexer": "ipython3",
   "version": "3.11.12"
  }
 },
 "nbformat": 4,
 "nbformat_minor": 5
}
