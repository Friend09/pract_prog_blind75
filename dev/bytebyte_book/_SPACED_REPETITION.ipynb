{
 "cells": [
  {
   "cell_type": "markdown",
   "metadata": {},
   "source": [
    "# SPACED REPETITION"
   ]
  },
  {
   "cell_type": "markdown",
   "metadata": {},
   "source": [
    "## [Chapter 1: Two Pointers]\n"
   ]
  },
  {
   "cell_type": "markdown",
   "metadata": {},
   "source": [
    "### Pair Sum - Sorted - Easy\n"
   ]
  },
  {
   "cell_type": "markdown",
   "metadata": {},
   "source": [
    "Given an array of integers sorted in ascending order and a target value, return the indexes of any pair of numbers in the array that sum to the target. The order of the indexes in the result doesn't matter. If no pair is found, return an empty array.\n",
    "\n",
    "**Example 1:**\n",
    "- Input: `nums = [-5, -2, 3, 4, 6]`, `target = 7`\n",
    "- Output: `[2, 3]`\n",
    "- Explanation: `nums[2] + nums[3] = 3 + 4 = 7`\n",
    "\n",
    "**Example 2:**\n",
    "- Input: `nums = [1, 1, 1]`, `target = 2`\n",
    "- Output: `[0, 1]`\n",
    "- Explanation: Other valid outputs could be `[1, 0]`, `[0, 2]`, `[2, 0]`, `[1, 2]` or `[2, 1]`."
   ]
  },
  {
   "cell_type": "markdown",
   "metadata": {},
   "source": [
    "#### using pointers"
   ]
  },
  {
   "cell_type": "code",
   "execution_count": 9,
   "metadata": {},
   "outputs": [
    {
     "name": "stdout",
     "output_type": "stream",
     "text": [
      "[2, 3]\n"
     ]
    }
   ],
   "source": [
    "from typing import List\n",
    "\n",
    "\n",
    "def pair_sum_sorted(nums: List[int], target: int) -> List[int]:\n",
    "    # get 2 index pointers as left, right\n",
    "    left = 0\n",
    "    right = len(nums) - 1\n",
    "\n",
    "    # loop until left, right meets\n",
    "    while left < right:\n",
    "        curr_total = nums[left] + nums[right]\n",
    "        if curr_total == target:\n",
    "            return [left, right]\n",
    "        elif curr_total < target:\n",
    "            left += 1\n",
    "        else:\n",
    "            right -= 1\n",
    "\n",
    "    # return an empty array - if no index is found\n",
    "    return []\n",
    "\n",
    "\n",
    "nums = [-5, -2, 3, 4, 6]\n",
    "target = 7\n",
    "\n",
    "print(pair_sum_sorted(nums, target))"
   ]
  },
  {
   "cell_type": "markdown",
   "metadata": {},
   "source": [
    "### Pair Sum - Unsorted - Easy"
   ]
  },
  {
   "cell_type": "code",
   "execution_count": 13,
   "metadata": {},
   "outputs": [
    {
     "name": "stdout",
     "output_type": "stream",
     "text": [
      "[0, 1]\n"
     ]
    }
   ],
   "source": [
    "from typing import List\n",
    "\n",
    "\n",
    "def pair_sum_sorted(nums: List[int], target: int) -> List[int]:\n",
    "\n",
    "    # define variables\n",
    "    seen_nums = {}\n",
    "    len_nums = len(nums)  # 5\n",
    "\n",
    "    # loop over the array\n",
    "    for i in range(len_nums):  # 0,1,2,3,4\n",
    "        if i == 0:\n",
    "            seen_nums[nums[i]] = i  # -5 : 0\n",
    "        else:\n",
    "            # get the current number\n",
    "            current_num = nums[i]  # 4\n",
    "            # get the complecent\n",
    "            complecent = target - current_num  # 7 - (4) = 3\n",
    "            # check if complecent in the seen numbers\n",
    "            if complecent in seen_nums.keys():\n",
    "                # if yes, return seen number index, current number index\n",
    "                return [seen_nums[complecent], i]\n",
    "            # else add the current number to seen numbers\n",
    "            else:\n",
    "                seen_nums[current_num] = i  # 3: 2\n",
    "    # if the for loop is complete and nothing found return empty array\n",
    "    return []\n",
    "\n",
    "\n",
    "nums = [3, 4, 3, 4]\n",
    "# nums = [-5, -2, 3, 4, 6]\n",
    "target = 7\n",
    "\n",
    "print(pair_sum_sorted(nums, target))"
   ]
  },
  {
   "cell_type": "markdown",
   "metadata": {},
   "source": [
    "### Triplet Sum - Medium\n"
   ]
  },
  {
   "cell_type": "markdown",
   "metadata": {},
   "source": [
    "Given an array of integers, return all triplets [a, b, c] such that a + b + c = 0. The solution must not contain duplicate triplets (e.g., [1, 2, 3] and [2, 3, 1] are considered duplicates). If no such triplets are found, return an empty array.\n",
    "\n",
    "Each triplet can be arranged in any order, and the output can be returned in any order.\n",
    "\n",
    "**Example:**\n",
    "- Input: `nums = [0, -1, 2, -3, 1]`\n",
    "- Output: `[[-3, 1, 2], [-1, 0, 1]]`\n",
    "\n",
    "[Triplet Sum](https://bytebytego.com/exercises/coding-patterns/two-pointers/triplet-sum)"
   ]
  },
  {
   "cell_type": "code",
   "execution_count": null,
   "metadata": {},
   "outputs": [],
   "source": [
    "from typing import List\n",
    "\n",
    "def triplet_sum(nums: List[int]) -> List[List[int]]:\n",
    "    # Write your code here\n",
    "    pass\n",
    "\n",
    "nums = [0, -1, 2, -3, 1]"
   ]
  },
  {
   "cell_type": "code",
   "execution_count": null,
   "metadata": {},
   "outputs": [],
   "source": []
  },
  {
   "cell_type": "markdown",
   "metadata": {},
   "source": [
    "### Is Palindrome Valid - Easy\n"
   ]
  },
  {
   "cell_type": "markdown",
   "metadata": {},
   "source": [
    "### Largest Container - Medium\n"
   ]
  },
  {
   "cell_type": "markdown",
   "metadata": {},
   "source": [
    "### Shift Zeros to the End - Easy\n"
   ]
  },
  {
   "cell_type": "markdown",
   "metadata": {},
   "source": [
    "### Next Lexicographical Sequence - Medium\n"
   ]
  }
 ],
 "metadata": {
  "kernelspec": {
   "display_name": ".venv",
   "language": "python",
   "name": "python3"
  },
  "language_info": {
   "codemirror_mode": {
    "name": "ipython",
    "version": 3
   },
   "file_extension": ".py",
   "mimetype": "text/x-python",
   "name": "python",
   "nbconvert_exporter": "python",
   "pygments_lexer": "ipython3",
   "version": "3.11.11"
  }
 },
 "nbformat": 4,
 "nbformat_minor": 2
}
