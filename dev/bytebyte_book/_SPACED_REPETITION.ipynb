{
 "cells": [
  {
   "cell_type": "markdown",
   "metadata": {},
   "source": [
    "# SPACED REPETITION\n"
   ]
  },
  {
   "cell_type": "markdown",
   "metadata": {},
   "source": [
    "## [Chapter 1: Two Pointers]\n"
   ]
  },
  {
   "cell_type": "markdown",
   "metadata": {},
   "source": [
    "### Pair Sum - Sorted - Easy\n"
   ]
  },
  {
   "cell_type": "markdown",
   "metadata": {},
   "source": [
    "Given an array of integers sorted in ascending order and a target value, return the indexes of any pair of numbers in the array that sum to the target. The order of the indexes in the result doesn't matter. If no pair is found, return an empty array.\n",
    "\n",
    "**Example 1:**\n",
    "\n",
    "- Input: `nums = [-5, -2, 3, 4, 6]`, `target = 7`\n",
    "- Output: `[2, 3]`\n",
    "- Explanation: `nums[2] + nums[3] = 3 + 4 = 7`\n",
    "\n",
    "**Example 2:**\n",
    "\n",
    "- Input: `nums = [1, 1, 1]`, `target = 2`\n",
    "- Output: `[0, 1]`\n",
    "- Explanation: Other valid outputs could be `[1, 0]`, `[0, 2]`, `[2, 0]`, `[1, 2]` or `[2, 1]`.\n"
   ]
  },
  {
   "cell_type": "markdown",
   "metadata": {},
   "source": [
    "#### using pointers\n"
   ]
  },
  {
   "cell_type": "code",
   "execution_count": 9,
   "metadata": {},
   "outputs": [
    {
     "name": "stdout",
     "output_type": "stream",
     "text": [
      "[2, 3]\n"
     ]
    }
   ],
   "source": [
    "from typing import List\n",
    "\n",
    "\n",
    "def pair_sum_sorted(nums: List[int], target: int) -> List[int]:\n",
    "    # get 2 index pointers as left, right\n",
    "    left = 0\n",
    "    right = len(nums) - 1\n",
    "\n",
    "    # loop until left, right meets\n",
    "    while left < right:\n",
    "        curr_total = nums[left] + nums[right]\n",
    "        if curr_total == target:\n",
    "            return [left, right]\n",
    "        elif curr_total < target:\n",
    "            left += 1\n",
    "        else:\n",
    "            right -= 1\n",
    "\n",
    "    # return an empty array - if no index is found\n",
    "    return []\n",
    "\n",
    "\n",
    "nums = [-5, -2, 3, 4, 6]\n",
    "target = 7\n",
    "\n",
    "print(pair_sum_sorted(nums, target))"
   ]
  },
  {
   "cell_type": "markdown",
   "metadata": {},
   "source": [
    "### Pair Sum - Unsorted - Easy\n"
   ]
  },
  {
   "cell_type": "code",
   "execution_count": 13,
   "metadata": {},
   "outputs": [
    {
     "name": "stdout",
     "output_type": "stream",
     "text": [
      "[0, 1]\n"
     ]
    }
   ],
   "source": [
    "from typing import List\n",
    "\n",
    "\n",
    "def pair_sum_sorted(nums: List[int], target: int) -> List[int]:\n",
    "\n",
    "    # define variables\n",
    "    seen_nums = {}\n",
    "    len_nums = len(nums)  # 5\n",
    "\n",
    "    # loop over the array\n",
    "    for i in range(len_nums):  # 0,1,2,3,4\n",
    "        if i == 0:\n",
    "            seen_nums[nums[i]] = i  # -5 : 0\n",
    "        else:\n",
    "            # get the current number\n",
    "            current_num = nums[i]  # 4\n",
    "            # get the complecent\n",
    "            complecent = target - current_num  # 7 - (4) = 3\n",
    "            # check if complecent in the seen numbers\n",
    "            if complecent in seen_nums.keys():\n",
    "                # if yes, return seen number index, current number index\n",
    "                return [seen_nums[complecent], i]\n",
    "            # else add the current number to seen numbers\n",
    "            else:\n",
    "                seen_nums[current_num] = i  # 3: 2\n",
    "    # if the for loop is complete and nothing found return empty array\n",
    "    return []\n",
    "\n",
    "\n",
    "nums = [3, 4, 3, 4]\n",
    "# nums = [-5, -2, 3, 4, 6]\n",
    "target = 7\n",
    "\n",
    "print(pair_sum_sorted(nums, target))"
   ]
  },
  {
   "cell_type": "markdown",
   "metadata": {},
   "source": [
    "### Triplet Sum - Medium\n"
   ]
  },
  {
   "cell_type": "markdown",
   "metadata": {},
   "source": [
    "Given an array of integers, return all triplets [a, b, c] such that a + b + c = 0. The solution must not contain duplicate triplets (e.g., [1, 2, 3] and [2, 3, 1] are considered duplicates). If no such triplets are found, return an empty array.\n",
    "\n",
    "Each triplet can be arranged in any order, and the output can be returned in any order.\n",
    "\n",
    "**Example:**\n",
    "\n",
    "- Input: `nums = [0, -1, 2, -3, 1]`\n",
    "- Output: `[[-3, 1, 2], [-1, 0, 1]]`\n",
    "\n",
    "[Triplet Sum](https://bytebytego.com/exercises/coding-patterns/two-pointers/triplet-sum)\n"
   ]
  },
  {
   "cell_type": "code",
   "execution_count": 4,
   "metadata": {},
   "outputs": [
    {
     "data": {
      "text/plain": [
       "[[-4, 1, 3], [-2, 0, 2]]"
      ]
     },
     "execution_count": 4,
     "metadata": {},
     "output_type": "execute_result"
    }
   ],
   "source": [
    "from typing import List\n",
    "\n",
    "\n",
    "def triplet_sum(nums: List[int]) -> List[List[int]]:\n",
    "    triplets = []\n",
    "    nums.sort()\n",
    "    for i in range(len(nums)):\n",
    "        # Optimization: triplets consisting of only positive numbers\n",
    "        # will never sum to 0.\n",
    "\n",
    "        if nums[i] > 0:\n",
    "            break\n",
    "        # To avoid duplicate triplets, skip 'a' if it's the same as\n",
    "        # the previous number.\n",
    "        if i > 0 and nums[i] == nums[i - 1]:\n",
    "            continue\n",
    "        # Find all pairs that sum to a target of '-a' (-nums[i]).\n",
    "        pairs = pair_sum_sorted_all_pairs(nums, i + 1, -nums[i])\n",
    "        for pair in pairs:\n",
    "            triplets.append([nums[i]] + pair)\n",
    "    return triplets\n",
    "\n",
    "\n",
    "def pair_sum_sorted_all_pairs(nums: List[int], start: int, target: int) -> List[int]:\n",
    "    pairs = []\n",
    "    left, right = start, len(nums) - 1\n",
    "    while left < right:\n",
    "        sum = nums[left] + nums[right]\n",
    "        if sum == target:\n",
    "            pairs.append([nums[left], nums[right]])\n",
    "            left += 1\n",
    "            # To avoid duplicate '[b, c]' pairs, skip 'b' if it's the\n",
    "            # same as the previous number.\n",
    "            while left < right and nums[left] == nums[left - 1]:\n",
    "                left += 1\n",
    "        elif sum < target:\n",
    "            left += 1\n",
    "        else:\n",
    "            right -= 1\n",
    "    return pairs\n",
    "\n",
    "\n",
    "nums = [-4, -4, -2, 0, 0, 1, 2, 3]\n",
    "triplet_sum(nums)"
   ]
  },
  {
   "cell_type": "markdown",
   "metadata": {},
   "source": [
    "### Is Palindrome Valid - Easy\n"
   ]
  },
  {
   "cell_type": "code",
   "execution_count": 17,
   "metadata": {},
   "outputs": [
    {
     "data": {
      "text/plain": [
       "False"
      ]
     },
     "execution_count": 17,
     "metadata": {},
     "output_type": "execute_result"
    }
   ],
   "source": [
    "def is_palindrome_valid(s: str) -> bool:\n",
    "    # get pointers\n",
    "    left = 0\n",
    "    right = len(s) - 1  # 5\n",
    "\n",
    "    # loop until left meets right (left < right)\n",
    "    while left < right:\n",
    "        # check left alphanumeric\n",
    "        if not s[left].isalpha() and not s[left].isnumeric():\n",
    "            print(s[left])\n",
    "            left += 1\n",
    "            continue\n",
    "\n",
    "        # check right alphanumeric\n",
    "        if not s[right].isalpha() and not s[right].isalpha():\n",
    "            right -= 1\n",
    "            continue\n",
    "\n",
    "        # check if value at left, right are same\n",
    "        if s[left] != s[right]:\n",
    "            return False\n",
    "\n",
    "    return True\n",
    "\n",
    "\n",
    "s = \"abc123\"\n",
    "# s = \"a dog! a panic in a pagoda.\"\n",
    "is_palindrome_valid(s)"
   ]
  },
  {
   "cell_type": "code",
   "execution_count": 12,
   "metadata": {},
   "outputs": [
    {
     "data": {
      "text/plain": [
       "False"
      ]
     },
     "execution_count": 12,
     "metadata": {},
     "output_type": "execute_result"
    }
   ],
   "source": [
    "a = \"1.0\"\n",
    "a.isalpha()\n",
    "a.isnumeric()"
   ]
  },
  {
   "cell_type": "markdown",
   "metadata": {},
   "source": [
    "### Largest Container - Medium\n"
   ]
  },
  {
   "cell_type": "code",
   "execution_count": 33,
   "metadata": {},
   "outputs": [
    {
     "data": {
      "text/plain": [
       "40"
      ]
     },
     "execution_count": 33,
     "metadata": {},
     "output_type": "execute_result"
    }
   ],
   "source": [
    "from typing import List\n",
    "\n",
    "\n",
    "def largest_container(heights: List[int]) -> int:\n",
    "    # define variables\n",
    "    container = 0\n",
    "\n",
    "    # get the left, right pointers\n",
    "    left = 0\n",
    "    right = len(heights) - 1\n",
    "\n",
    "    # loop until left, right meets\n",
    "    while left < right:\n",
    "        # get the height\n",
    "        height = min(heights[left], heights[right])\n",
    "\n",
    "        # get the width (index of right - index of left)\n",
    "        width = right - left\n",
    "\n",
    "        # compute area of the container\n",
    "        area = width * height\n",
    "\n",
    "        # update the pointers (move left if container got updated else move right)\n",
    "        container = max(container, area)\n",
    "\n",
    "        # move the pointer which has smaller height\n",
    "        if heights[left] < heights[right]:\n",
    "            left += 1\n",
    "        elif heights[left] > heights[right]:\n",
    "            right -= 1\n",
    "        else:\n",
    "            left += 1\n",
    "            right -= 1\n",
    "\n",
    "    # return the final container\n",
    "    return container\n",
    "\n",
    "\n",
    "# heights = [2, 7, 8, 3, 7, 6]\n",
    "# heights = [4, 4, 4, 4]\n",
    "heights = [2, 3, 4, 5, 18, 17, 6, 2, 4, 8, 1]\n",
    "largest_container(heights)"
   ]
  },
  {
   "cell_type": "code",
   "execution_count": 27,
   "metadata": {},
   "outputs": [
    {
     "data": {
      "text/plain": [
       "0"
      ]
     },
     "execution_count": 27,
     "metadata": {},
     "output_type": "execute_result"
    }
   ],
   "source": [
    "lst = [4, 4, 4, 4]\n",
    "\n",
    "lst.index(lst[3])"
   ]
  },
  {
   "cell_type": "markdown",
   "metadata": {},
   "source": [
    "### Shift Zeros to the End - Easy\n"
   ]
  },
  {
   "cell_type": "code",
   "execution_count": 37,
   "metadata": {},
   "outputs": [
    {
     "data": {
      "text/plain": [
       "[1, 3, 2, 0, 0]"
      ]
     },
     "execution_count": 37,
     "metadata": {},
     "output_type": "execute_result"
    }
   ],
   "source": [
    "from typing import List\n",
    "\n",
    "\n",
    "def shift_zeros_to_the_end(nums: List[int]) -> None:\n",
    "    # define pointers, left, right\n",
    "    left = 0\n",
    "    right = left + 1\n",
    "\n",
    "    # loop until right less than the size of array\n",
    "    while right < len(nums):  # [1, 3, 2, 0, 0]\n",
    "        # if value at left is zero, right non zero\n",
    "        if nums[left] == 0 and nums[right] != 0:\n",
    "            # swap\n",
    "            temp = nums[left]\n",
    "            nums[left] = nums[right]\n",
    "            nums[right] = temp\n",
    "        # else if value at left is zero, right is also zero\n",
    "        elif nums[left] == 0 and nums[right] == 0:\n",
    "            # move just right\n",
    "            right += 1\n",
    "        # else\n",
    "        else:\n",
    "            # move both left, right\n",
    "            left += 1\n",
    "            right += 1\n",
    "\n",
    "    # return the updated array\n",
    "    return nums\n",
    "\n",
    "\n",
    "nums = [0, 1, 0, 3, 2]\n",
    "shift_zeros_to_the_end(nums)"
   ]
  },
  {
   "cell_type": "markdown",
   "metadata": {},
   "source": [
    "### Next Lexicographical Sequence - Medium\n"
   ]
  },
  {
   "cell_type": "markdown",
   "metadata": {},
   "source": [
    "## [Chapter 2: Hash Maps and Sets]\n"
   ]
  },
  {
   "cell_type": "markdown",
   "metadata": {},
   "source": [
    "### Pair Sum - Unsorted - Easy\n"
   ]
  },
  {
   "cell_type": "code",
   "execution_count": null,
   "metadata": {},
   "outputs": [],
   "source": []
  },
  {
   "cell_type": "markdown",
   "metadata": {},
   "source": [
    "### Verify Sudoku Board - Medium\n"
   ]
  },
  {
   "cell_type": "markdown",
   "metadata": {},
   "source": [
    "### Zero Striping - Medium\n"
   ]
  },
  {
   "cell_type": "markdown",
   "metadata": {},
   "source": [
    "### Longest Chain of Consecutive Numbers - Medium\n"
   ]
  },
  {
   "cell_type": "markdown",
   "metadata": {},
   "source": [
    "### Geometric Sequence Triplets - Medium\n"
   ]
  },
  {
   "cell_type": "markdown",
   "metadata": {},
   "source": [
    "\n",
    "## [Chapter 3: Linked Lists]\n"
   ]
  },
  {
   "cell_type": "markdown",
   "metadata": {},
   "source": [
    "### Linked List Reversal - Easy\n"
   ]
  },
  {
   "cell_type": "markdown",
   "metadata": {},
   "source": [
    "### Remove the Kth Last Node From a Linked List - Medium\n"
   ]
  },
  {
   "cell_type": "markdown",
   "metadata": {},
   "source": [
    "### Linked List Intersection - Easy\n"
   ]
  },
  {
   "cell_type": "markdown",
   "metadata": {},
   "source": [
    "### LRU Cache - Hard\n"
   ]
  },
  {
   "cell_type": "markdown",
   "metadata": {},
   "source": [
    "### Palindromic Linked List - Easy\n"
   ]
  },
  {
   "cell_type": "markdown",
   "metadata": {},
   "source": [
    "### Flatten a Multi-Level Linked List - Medium\n"
   ]
  },
  {
   "cell_type": "markdown",
   "metadata": {},
   "source": [
    "\n",
    "## [Chapter 4: Fast and Slow Pointers]\n"
   ]
  },
  {
   "cell_type": "markdown",
   "metadata": {},
   "source": [
    "### Linked List Loop - Easy\n"
   ]
  },
  {
   "cell_type": "markdown",
   "metadata": {},
   "source": [
    "### Linked List Midpoint - Easy\n"
   ]
  },
  {
   "cell_type": "markdown",
   "metadata": {},
   "source": [
    "### Happy Number - Medium\n"
   ]
  },
  {
   "cell_type": "markdown",
   "metadata": {},
   "source": [
    "\n",
    "## [Chapter 5: Sliding Windows]\n"
   ]
  },
  {
   "cell_type": "markdown",
   "metadata": {},
   "source": [
    "### Substring Anagrams - Medium\n"
   ]
  },
  {
   "cell_type": "markdown",
   "metadata": {},
   "source": [
    "### Longest Substring With Unique Characters - Medium\n"
   ]
  },
  {
   "cell_type": "markdown",
   "metadata": {},
   "source": [
    "### Longest Uniform Substring After Replacements - Hard"
   ]
  }
 ],
 "metadata": {
  "kernelspec": {
   "display_name": ".venv",
   "language": "python",
   "name": "python3"
  },
  "language_info": {
   "codemirror_mode": {
    "name": "ipython",
    "version": 3
   },
   "file_extension": ".py",
   "mimetype": "text/x-python",
   "name": "python",
   "nbconvert_exporter": "python",
   "pygments_lexer": "ipython3",
   "version": "3.11.11"
  }
 },
 "nbformat": 4,
 "nbformat_minor": 2
}
